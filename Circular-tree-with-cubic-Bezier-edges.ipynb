{
 "cells": [
  {
   "cell_type": "markdown",
   "metadata": {},
   "source": [
    "## <center>Circular tree with cubic Bezier edges</center>"
   ]
  },
  {
   "cell_type": "markdown",
   "metadata": {},
   "source": [
    "This notebook illustrates how a tree can be read from a GML-format file, and how its vertex coordinates, returned by the Buchheim layout from the Julia package, `NetworkLayout.jl`, are mapped on circles centered at the root. The edges of the circular tree are plotted as cubic Bezier  curves defined as paths, via PlotlyJS.jl.\n",
    "\n",
    "As example we use the tree, having  Professor Gilbert Strang (GS) as root. The tree structure  was retrieved from the Mathematics Genealogy Project [https://www.mathgenealogy.org/id.php?id=13383](https://www.mathgenealogy.org/id.php?id=13383).\n",
    "The  GS profile was scrapped in 2019, using the Python tool geneagrapher (ggrapher) [https://github.com/davidalber/geneagrapher](https://github.com/davidalber/geneagrapher).\n",
    "After   data wrangling  a GML file was setup, using python igraph library. At the time of scrapping the tree contained 195 nodes (vertices). Now Mathematics Genealogy Project displays more than 200  descendants for GS.\n",
    "\n",
    "The GML file is read  by `GraphIO.jl` as a `SimpleDiGraph{Int64}`, defined by `LightGraphs.jl`. Since `GraphIO.jl` cannot retrieve metadata from a GML file, we saved metadata associated to each vertex in a JSON file, and  here we are using that information as hovering data in the corresponding plotly plot of the tree.\n",
    "\n",
    "We note that our graph has a leaf with two parents, i.e. a PhD recipient with two advisors. This slight deviation from  a tree definition  was not an impediment to define the SimpleDiGraph, by its list of lists representation."
   ]
  },
  {
   "cell_type": "code",
   "execution_count": 1,
   "metadata": {},
   "outputs": [
    {
     "data": {
      "application/vnd.webio.node+json": {
       "children": [],
       "instanceArgs": {
        "namespace": "html",
        "tag": "div"
       },
       "nodeType": "DOM",
       "props": {},
       "type": "node"
      },
      "text/html": [
       "<div style=\"padding: 1em; background-color: #f8d6da; border: 1px solid #f5c6cb; font-weight: bold;\">\n",
       "<p>The WebIO Jupyter extension was not detected. See the\n",
       "<a href=\"https://juliagizmos.github.io/WebIO.jl/latest/providers/ijulia/\" target=\"_blank\">\n",
       "    WebIO Jupyter integration documentation\n",
       "</a>\n",
       "for more information.\n",
       "</div>\n"
      ],
      "text/plain": [
       "WebIO._IJuliaInit()"
      ]
     },
     "metadata": {
      "application/vnd.webio.node+json": {
       "kernelId": "32bfeadc-b093-4904-8ff4-36765c41e508"
      }
     },
     "output_type": "display_data"
    },
    {
     "data": {
      "text/plain": [
       "Bezier_edges (generic function with 1 method)"
      ]
     },
     "execution_count": 1,
     "metadata": {},
     "output_type": "execute_result"
    }
   ],
   "source": [
    "using LightGraphs,  ParserCombinator, GraphIO, NetworkLayout\n",
    "using PlotlyJS, JSON\n",
    "\n",
    "function proj2circle(xpos::Vector{Float64}, ypos::Vector{Float64}, direction=-1,  θ₀=-π/2)\n",
    "    # function to project to circles the vertex coordinates for the same level vertices in the Buchheim tree\n",
    "    #  (xv, yv)  in zip(xpos, ypos) is a vertex position  assigned by Buchheim layout\n",
    "    # direction: 1 or -1 points the counter clockwise, resp clockwise mapping of vertices on the circular layout\n",
    "    # θ₀: starting θ for vertices\n",
    "    xmin, xmax = extrema(xpos)\n",
    "    ymin, ymax = extrema(ypos)\n",
    "    θ = 2π*(xpos .- xmin)/(xmax-xmin) .+ θ₀\n",
    "    r = ymax .-  ypos\n",
    "    xc = r .* cos.(θ)\n",
    "    yc = direction*r .* sin.(θ)\n",
    "    return xc, yc\n",
    "end    \n",
    "\n",
    "function  Bezier_edges(xc::Vector{Float64}, yc::Vector{Float64},  edges::Vector{Tuple{Int64, Int64}})\n",
    "    # xc, yc Vectors  of vertex coordinates on circles around the root\n",
    "    # edges as vector of tuples, (i, j)\n",
    "    shapes =  []\n",
    "    for e in edges\n",
    "        #set the coordinates of the Bezier control points b_i(xi, yi), for the cubic Bezier representing a tree edge\n",
    "        x1 = xc[e[1]] \n",
    "        y1 = yc[e[1]]\n",
    "        d1 = sqrt(x1^2+y1^2)\n",
    "        x4 = xc[e[2]] \n",
    "        y4 = yc[e[2]] \n",
    "        d4 = sqrt(x4^2+y4^2)\n",
    "        d = 0.5*(d1+d4)\n",
    "        if d1 == 0 || d4 == 0 # the first Bezier  control point is  is the  root;  plot the edge as a segment of line\n",
    "            x2 = x1\n",
    "            y2 = y1\n",
    "            x3 = x4\n",
    "            y3 = 0.3*y1 + 0.7*y4\n",
    "        else   \n",
    "            x2 = d*x1/d1\n",
    "            y2 = d*y1/d1\n",
    "            x3 = d*x4/d4\n",
    "            y3 = d*y4/d4\n",
    "        end       \n",
    "        push!(shapes, attr(type=\"path\",\n",
    "                           layer=\"below\",\n",
    "                           #Bezier path representing an edge\n",
    "                           path= \"M $x1 $y1, C $x2 $y2, $x3 $y3, $x4  $y4\",\n",
    "                           line=attr(color=\"rgb(210,210,210)\", width=1)\n",
    "                                ))\n",
    "    end\n",
    "    return shapes\n",
    "end    "
   ]
  },
  {
   "cell_type": "code",
   "execution_count": 2,
   "metadata": {},
   "outputs": [
    {
     "data": {
      "text/plain": [
       "scatter with fields hoverinfo, marker, mode, name, text, type, x, and y\n"
      ]
     },
     "execution_count": 2,
     "metadata": {},
     "output_type": "execute_result"
    }
   ],
   "source": [
    "G = loadgraph(\"data/gstrang_descendants.gml\",  \"digraph\", GraphIO.GML.GMLFormat())\n",
    "E = [(e.src, e.dst) for e in edges(G)];\n",
    "node_pos = buchheim(G.fadjlist)\n",
    "xpos = Float64[]\n",
    "ypos = Float64[]\n",
    "for npos in node_pos\n",
    "    push!(xpos, npos[1])\n",
    "    push!(ypos, npos[2])\n",
    "end\n",
    "\n",
    "xc, yc = proj2circle(xpos, ypos)\n",
    "N = length(xc)\n",
    "vmetadata = String[]\n",
    "open(\"data/gstrang_descinfo.json\", \"r\") do f\n",
    "    global vmetadata\n",
    "    jdata = JSON.read(f, String)  \n",
    "    vmetadata = JSON.parse(jdata)  \n",
    "end\n",
    "\n",
    "#define the plotly trace for circular graph vertices\n",
    "\n",
    "circ_nodes = scatter(\n",
    "                x=xc, \n",
    "                y=yc, \n",
    "                mode=\"markers\",\n",
    "                name=\" \",\n",
    "                marker=attr(size=5, #vcat([10], repeat([5], N-1)), \n",
    "                            color=\"rgb(255, 200, 0)\",\n",
    "                            line=attr(color=\"rgb(255, 200, 0)\", width=0.5)),\n",
    "                text=vmetadata,\n",
    "                hoverinfo=\"text\")\n"
   ]
  },
  {
   "cell_type": "code",
   "execution_count": 3,
   "metadata": {},
   "outputs": [
    {
     "data": {
      "application/vnd.plotly.v1+json": {
       "config": {
        "editable": false,
        "responsive": true,
        "scrollZoom": true,
        "showLink": false,
        "staticPlot": false
       },
       "data": [
        {
         "hoverinfo": "text",
         "marker": {
          "color": "rgb(255, 200, 0)",
          "line": {
           "color": "rgb(255, 200, 0)",
           "width": 0.5
          },
          "size": 5
         },
         "mode": "markers",
         "name": " ",
         "text": [
          "W. Gilbert (William) Strang <br>University of California, Los Angeles (1959)",
          "Alan Eric Berger <br>Massachusetts Institute of Technology (1972)",
          "Dmitri  Betaneli <br>Massachusetts Institute of Technology (1998)",
          "Edmund Harry Christiansen <br>Massachusetts Institute of Technology (1976)",
          "Thomas Wallace Colthurst <br>Massachusetts Institute of Technology (1997)",
          "Deanne  Dickinson <br>Massachusetts Institute of Technology (1966)",
          "George I-Pan Fann <br>Massachusetts Institute of Technology (2000)",
          "Hermann  Flaschka <br>Massachusetts Institute of Technology (1970)",
          "Michael Arthur Goldberg <br>Massachusetts Institute of Technology (1972)",
          "David  Gorsich <br>Massachusetts Institute of Technology (2000)",
          "Pavel  Greenfield <br>Massachusetts Institute of Technology (2003)",
          "Richard Bruce Holmes <br>Massachusetts Institute of Technology (1964)",
          "John Henry Doles, III <br>Massachusetts Institute of Technology (1969)",
          "Jay Elliot Israel <br>Massachusetts Institute of Technology (1968)",
          "Xiangwei  Liu <br>Massachusetts Institute of Technology (2001)",
          "Hermann Georg Matthies <br>Massachusetts Institute of Technology (1978)",
          "John James Henry Miller <br>Massachusetts Institute of Technology (1965)",
          "Edward Wesler Packel <br>Massachusetts Institute of Technology (1967)",
          "Per-Olof  Persson <br>Massachusetts Institute of Technology (2005)",
          "Robert  Rubinstein <br>Massachusetts Institute of Technology (1972)",
          "L. Ridgway (Larkin) Scott <br>Massachusetts Institute of Technology (1973)",
          "Jianhong Jackie Shen <br>Massachusetts Institute of Technology (1998)",
          "Vasily V. Strela <br>Massachusetts Institute of Technology (1996)",
          "Knud Dalgaard Andersen <br>University of Southern Denmark (1995)",
          "Pantelis Andrea Damianou <br>University of Arizona (1989)",
          "Luis C. Garcia-Naranjo <br>University of Arizona (2007)",
          "Mohamed Lemine Ould El Hadrami <br>University of Arizona (1996)",
          "Erin Mari McNicholas <br>University of Arizona (2006)",
          "Randolph  Schilling <br>University of Arizona (1982)",
          "Francisco Javier Solis <br>University of Arizona (1993)",
          "Adam  Spiegler <br>University of Arizona (2006)",
          "Bole  Yang <br>University of Arizona (2013)",
          "Maorong  Zou <br>University of Arizona (1992)",
          "Joseph Michael Lambert <br>Purdue University (1970)",
          "Dennis Dale Pence <br>Purdue University (1976)",
          "Edward Ralph Rozema <br>Purdue University (1972)",
          "Bruce Edward Scranton <br>Purdue University (1974)",
          "Joseph Dinneen Ward <br>Purdue University (1973)",
          "Emanuele  El Basri <br>Technische Universität Carolo-Wilhelmina zu Braunschweig and Università degli Studi di Firenze (2017)",
          "Marcel  Bieri <br>ETH Zürich (2009)",
          "Angela  Bischoff <br>Technische Universität Carolo-Wilhelmina zu Braunschweig (1996)",
          "Valentina  Chiarello <br>Technische Universität Carolo-Wilhelmina zu Braunschweig and Università degli Studi di Firenze (2016)",
          "Alberto  Ciavattone <br>Technische Universität Carolo-Wilhelmina zu Braunschweig and Università degli Studi di Firenze (2014)",
          "Antonio  Fazzolari <br>Technische Universität Carolo-Wilhelmina zu Braunschweig (2005)",
          "Jens  Faßbender <br>Technische Universität Carolo-Wilhelmina zu Braunschweig (2003)",
          "Thomas-Peter  Fries <br>Technische Universität Carolo-Wilhelmina zu Braunschweig (2005)",
          "Nicolas Ralph Gauger <br>Technische Universität Carolo-Wilhelmina zu Braunschweig (2003)",
          "Thorsten  Grahs <br>Technische Universität Carolo-Wilhelmina zu Braunschweig (2002)",
          "Martin  Hautefeuille <br>Technische Universität Carolo-Wilhelmina zu Braunschweig and Université de Technologie de Compiègne (2009)",
          "Christian  Heimann <br>Technische Universität Carolo-Wilhelmina zu Braunschweig (2001)",
          "Alicia Guadalupe née Ortega Camarena Jürgens-Ortega <br>Technische Universität Carolo-Wilhelmina zu Braunschweig and Università degli Studi di Firenze (2010)",
          "Christophe  Kassiotis <br>Technische Universität Carolo-Wilhelmina zu Braunschweig and École Normale Supérieure de Cachan and Université Paris-Est (2009)",
          "Oliver  Kayser-Herold <br>Technische Universität Carolo-Wilhelmina zu Braunschweig (2006)",
          "Andreas  Keese <br>Technische Universität Carolo-Wilhelmina zu Braunschweig (2004)",
          "Martin  Krosche <br>Technische Universität Carolo-Wilhelmina zu Braunschweig (2012)",
          "Christian  Lenz <br>Technische Universität Carolo-Wilhelmina zu Braunschweig (2018)",
          "Dishi  Liu <br>Technische Universität Carolo-Wilhelmina zu Braunschweig and Università degli Studi di Firenze (2009)",
          "Marcus  Meyer <br>Technische Universität Carolo-Wilhelmina zu Braunschweig (2002)",
          "Oliver  Pajonk <br>Technische Universität Carolo-Wilhelmina zu Braunschweig (2012)",
          "Bojana V. RosiÄ‡ <br>Technische Universität Carolo-Wilhelmina zu Braunschweig and University of Kragujevac (2012)",
          "Tarin  Srisupattarawanit <br>Technische Universität Carolo-Wilhelmina zu Braunschweig (2007)",
          "Giovanni  Stabile <br>Technische Universität Carolo-Wilhelmina zu Braunschweig and Università degli Studi di Firenze (2016)",
          "Jan  Steindorf <br>Technische Universität Carolo-Wilhelmina zu Braunschweig (2002)",
          "Ngoc Trinh Tran <br>Technische Universität Carolo-Wilhelmina zu Braunschweig (2018)",
          "Ngoc Trinh Tran <br>Technische Universität Carolo-Wilhelmina zu Braunschweig (2018)",
          "Marcel  Wallraff <br>Technische Universität Carolo-Wilhelmina zu Braunschweig (2015)",
          "Elmar Klaus Zander <br>Technische Universität Carolo-Wilhelmina zu Braunschweig (2012)",
          "Gerald A. Bonner <br>Trinity College, Dublin (1985)",
          "John  Bradley <br>Trinity College, Dublin (1975)",
          "John Simon Butler <br>(2005)",
          "John  Carroll <br>Trinity College, Dublin (1983)",
          "Edward P. Doolan <br>Trinity College, Dublin (1980)",
          "Daniel J. Duffy <br>Trinity College, Dublin (1980)",
          "Paul A. Farrell <br>Trinity College, Dublin (1983)",
          "Liu  Fawang <br>Trinity College, Dublin (1991)",
          "Nial  Ferguson <br>Trinity College, Dublin (1990)",
          "Conor J. Fitzsimons <br>Trinity College, Dublin (1986)",
          "Alan F. Hegarty <br>Trinity College, Dublin (1986)",
          "Seán P. Mulligan <br>Trinity College, Dublin (1991)",
          "Maurice J. O'Reilly <br>Trinity College, Dublin (1983)",
          "Eugene  O'Riordan <br>Trinity College, Dublin (1982)",
          "W. H. A. (Willy) Schilders <br>Trinity College, Dublin (1980)",
          "Suwon  Tangmanee <br>Trinity College, Dublin (1977)",
          "Song  Wang <br>Trinity College, Dublin (1989)",
          "Changhui  Wu <br>Trinity College, Dublin (1990)",
          "Meire  Fortunato <br>University of California, Berkeley (2016)",
          "Bradley  Froehle <br>University of California, Berkeley (2013)",
          "Danny  Hermes <br>University of California, Berkeley (2018)",
          "Will E.  Pazner <br>Brown University (2018)",
          "Luming  Wang <br>University of California, Berkeley (2015)",
          "Babak  Bagheri <br>The Pennsylvania State University (1994)",
          "Susanne Cecelia Brenner <br>University of Michigan (1988)",
          "Peter  Brune <br>The University of Chicago (2011)",
          "Terry William Clark <br>University of Houston (1996)",
          "James  Crooks <br>The University of Chicago (2015)",
          "Sanjay  Datta <br>University of Houston (2000)",
          "Andrei  Draganescu <br>The University of Chicago (2004)",
          "Cristina Iolanda Draghicescu <br>The Pennsylvania State University (1991)",
          "Ernesto  Gomez <br>The University of Chicago (2005)",
          "Lorenzo Hector Juarez <br>University of Houston (1996)",
          "Jing  Liu <br>The University of Chicago (2006)",
          "Matthew  Rocklin <br>The University of Chicago (2013)",
          "Andy Ray Terrel <br>The University of Chicago (2010)",
          "Suming  Wu <br>University of Houston (1998)",
          "Dexuan  Xie <br>University of Houston (1995)",
          "Shangyou  Zhang <br>The Pennsylvania State University (1988)",
          "Yoon Mo  Jung <br>University of Minnesota-Minneapolis (2007)",
          "Kyriacos  Constandinidis <br>University of Cyprus (2008)",
          "Charalampos Andrea Evripidou <br>University of Cyprus (2014)",
          "Stelios P. Kouzaris <br>University of Cyprus (2002)",
          "Thomas B. Sprague <br>Western Michigan University (1990)",
          "Edward Jules Fuselier <br>Texas A&M University (2006)",
          "Quoc Thong  Le Gia <br>Texas A&M University (2003)",
          "Svenja  Lowitzsch <br>Texas A&M University (2002)",
          "John Paul  Ward <br>Texas A&M University (2010)",
          "Kwok-Wah  Cheng <br>Rheinisch-Westfälische Technische Hochschule Aachen (2011)",
          "Mohammad  Abu-Zurayk <br>Rheinisch-Westfälische Technische Hochschule Aachen (2016)",
          "Mikko J. S. Auvinen <br>Aalto-yliopisto (2014)",
          "Maarten  Blommaert <br>Rheinisch-Westfälische Technische Hochschule Aachen (2016)",
          "Torsten Falko Bosse <br>Humboldt-Universität zu Berlin (2014)",
          "Angelo  Carnarius <br>Technische Universität Berlin (2013)",
          "Ignacio  de Mateo Garcia <br>Humboldt-Universität zu Berlin (2011)",
          "Stefanie  Günther <br>Rheinisch-Westfälische Technische Hochschule Aachen (2017)",
          "Lars Stefan Hüttenberger <br>Technische Universität Kaiserslautern (2018)",
          "Lena  Kaland <br>Rheinisch-Westfälische Technische Hochschule Aachen (2013)",
          "Kshitij  Kulshreshtha <br>Humboldt-Universität zu Berlin (2010)",
          "Johannes  Lotz <br>Rheinisch-Westfälische Technische Hochschule Aachen (2016)",
          "Saurya Ranjan Ray <br>Rheinisch-Westfälische Technische Hochschule Aachen (2013)",
          "Rolf  Roth <br>Technische Universität Darmstadt (2012)",
          "Max  Sagebaum <br>Technische Universität Kaiserslautern (2018)",
          "Maria  Schütte <br>Universität Paderborn (2016)",
          "Martin  Siebenborn <br>Universität Trier (2014)",
          "Matthias  Sonntag <br>Universität Stuttgart (2017)",
          "Electra  Stavropoulou <br>Technische Universität München (2015)",
          "Alexander  Vendl <br>Technische Universität Carolo-Wilhelmina zu Braunschweig (2013)",
          "Yuxiang Beckett Zhou <br>Rheinisch-Westfälische Technische Hochschule Aachen (2018)",
          "Emre  Özkaya <br>Rheinisch-Westfälische Technische Hochschule Aachen (2014)",
          "Daniel M. Bennett <br>Kent State University (2010)",
          "Reinhardt R. Zeller <br>Kent State University (1994)",
          "Ali R. Ansari <br>University of Limerick (2001)",
          "Raymond K Dunne <br>Dublin City University (2005)",
          "Helen  MacMullen <br>Dublin City University (2000)",
          "Maria Louise Pickett <br>Dublin City University (2005)",
          "Jason  Quinn <br>Dublin City University (2012)",
          "Nicodemus  Banagaaya <br>Technische Universiteit Eindhoven (2014)",
          "P. J.  Heres <br>Technische Universiteit Eindhoven (2005)",
          "Stephan H. M. J. Houben <br>Technische Universiteit Eindhoven (2003)",
          "Zoran  Ilievski <br>Technische Universiteit Eindhoven (2010)",
          "Roxana  Ionutiu <br>Technische Universiteit Eindhoven (2012)",
          "J. M. B.  Kroot <br>Technische Universiteit Eindhoven (2005)",
          "Agnieszka  Lutowska <br>Technische Universiteit Eindhoven (2012)",
          "Geran N. Peeren <br>Technische Universiteit Eindhoven (2003)",
          "Maria  Ugryumova <br>Technische Universiteit Eindhoven (2011)",
          "Varaporn  Karnchanathawee <br>King Mongkut's University of Technology Thonburi (2007)",
          "Sureerat Areeruksakul Konglok <br>King Mongkut's University of Technology Thonburi (2007)",
          "Nopparat  Pochai <br>King Mongkut's University of Technology Thonburi (2008)",
          "Montri  Thongmoon <br>King Mongkut's University of Technology Thonburi (2007)",
          "Supot  Witayangkurn <br>Suranaree University of Technology (2002)",
          "Hamood  Alwardi <br>University of Western Australia (2010)",
          "Wen  Chen <br>University of Western Australia",
          "Hartono  Hartono <br>University of Western Australia (2012)",
          "Weirong  Lee <br>Curtin University of Technology, Perth (1999)",
          "Donny Citra Lesmana <br>University of Western Australia (2014)",
          "Wen  Li <br>University of Western Australia (2010)",
          "Shalela  Mohd-Mahali <br>University of Western Australia (2012)",
          "Ranga  Muhandiramge <br>University of Western Australia (2008)",
          "Steven James Richardson <br>University of Western Australia (2007)",
          "Meiyi  Tan <br>University of Western Australia (2012)",
          "Kai  Zhang <br>The Hong Kong Polytechnic University (2006)",
          "Jintao  Cui <br>Louisiana State University (2010)",
          "Shiyuan  Gu <br>Louisiana State University (2012)",
          "Qingmi  He <br>University of South Carolina (2000)",
          "Zhe  Nan <br>Louisiana State University (2013)",
          "Luke  Owens <br>University of South Carolina (2007)",
          "Armin Karl Reiser <br>Louisiana State University (2011)",
          "Kening  Wang <br>University of South Carolina (2006)",
          "Yi  Zhang <br>Louisiana State University (2013)",
          "Jie  Zhao <br>University of South Carolina (2004)",
          "Jyoti  Saraswat <br>University of Maryland Baltimore County (2014)",
          "Ciro Filemon Flores <br>Universidad Autónoma Metropolitana-Iztapalapa (2009)",
          "Mazen George Zarrouk <br>University of Wisconsin-Milwaukee (2010)",
          "Andrew  Chernih <br>University of New South Wales (2013)",
          "Yoshihito  Kazashi <br>University of New South Wales (2018)",
          "Kyriaki  Giorgakoudi <br>Loughborough University (2014)",
          "Bayezid  Hossain <br>University of Limerick (2004)",
          "Witsarut  Kraychang <br>King Mongkut's Institute of Technology Ladkrabang (2015)",
          "Pravitra  Oyjinda <br>King Mongkut's Institute of Technology Ladkrabang (2018)",
          "Nuttawut  Pongnu <br>King Mongkut's Institute of Technology Ladkrabang (2017)",
          "Pawarisa  Samalerk <br>King Mongkut's Institute of Technology Ladkrabang (2017)",
          "Kanawoot  Subklay <br>King Mongkut's Institute of Technology Ladkrabang (2017)",
          "Kewalee  Suebyat <br>King Mongkut's Institute of Technology Ladkrabang (2018)",
          "Wiratchada  Kalaoka <br>Khon Kaen University (2016)",
          "Paweena  Khansila <br>Khon Kaen University (2016)",
          "Achariya  Namprai <br>Khon Kaen University (2015)",
          "Pensiri  Sompong <br>Khon Kaen University (2014)"
         ],
         "type": "scatter",
         "x": [
          0,
          1.2246467991473532e-16,
          0.0958897180846165,
          0.28678746382690196,
          0.3813564205519613,
          0.47504824528901746,
          0.5676474438387792,
          0.7487190408188883,
          0.9015648037515809,
          1.0480625917608257,
          1.187180904636374,
          1.3885498353928958,
          1.7250138543601774,
          1.9339051828833171,
          1.9997753486368375,
          1.8883317272903584,
          -1.4057094121346396,
          -1.9509929036329394,
          -1.8454564237972781,
          -1.550764348284354,
          -1.048062591760827,
          -0.09588971808461763,
          -3.6739403974420594e-16,
          0.5735749276538039,
          0.7627128411039226,
          0.9500964905780349,
          1.1352948876775584,
          1.3178820701544,
          1.4974380816377766,
          1.6735499375473244,
          1.8458125749708711,
          2.0138297843221102,
          2.1772151206353483,
          2.3355927924013096,
          2.63588040304019,
          2.7770996707857916,
          2.9119315202952065,
          3.1612078988539976,
          3.275079084244518,
          3.381417482789928,
          3.479978512765912,
          3.5705354806450944,
          3.652880102499415,
          5.903210149356595,
          3.7921940513315464,
          3.896639390066869,
          3.792194051331546,
          3.7268229830598396,
          3.6528801024994144,
          3.5705354806450944,
          3.479978512765912,
          3.3814174827899275,
          3.275079084244518,
          3.1612078988539984,
          3.040065833993817,
          2.911931520295207,
          2.7770996707857907,
          2.635880403040191,
          2.4885985258996515,
          2.3355927924013096,
          2.1772151206353483,
          2.0138297843221116,
          1.8458125749708711,
          1.6735499375473244,
          1.497438081637776,
          1.3178820701543992,
          1.1352948876775593,
          0.950096490578034,
          0.7627128411039235,
          0.5735749276538039,
          0.38311777348962023,
          0.191779436169233,
          2.4492935982947064e-16,
          -0.38311777348961973,
          -0.5735749276538035,
          -0.7627128411039229,
          -0.9500964905780336,
          -1.3178820701543987,
          -1.497438081637777,
          -1.673549937547324,
          -2.01382978432211,
          -2.976854657849606,
          -3.821617389844971,
          -3.9354734329043968,
          -3.8966393900668694,
          -3.8216173898449712,
          -3.7605898573105474,
          -3.6909128475945563,
          -3.6127466200521745,
          -3.52627095951162,
          -3.381417482789927,
          -3.161207898853999,
          -3.0400658339938174,
          -2.9119315202952074,
          -2.777099670785791,
          -2.635880403040191,
          -2.33559279240131,
          -2.17721512063535,
          -2.013829784322114,
          -1.6735499375473248,
          -1.497438081637778,
          -1.3178820701543996,
          -1.1352948876775597,
          -0.9500964905780346,
          -0.5735749276538027,
          -0.3831177734896207,
          -0.19177943616923526,
          0.8603623914807059,
          1.1440692616558839,
          1.4251447358670524,
          3.953820604560285,
          4.268000637034252,
          4.65229304485306,
          4.828603679843775,
          5.147527144144927,
          5.844959085100303,
          5.947883641098405,
          5.978876809863143,
          5.996118370369462,
          5.999568666475684,
          5.989219762390199,
          5.965095460924037,
          5.927251248743647,
          5.875774168749775,
          5.810782619876014,
          5.732426084767457,
          5.640884785965822,
          5.536369271391836,
          5.41911993007826,
          5.289406439267429,
          5.147527144144927,
          4.993808371636125,
          4.828603679843776,
          4.65229304485306,
          4.465281986774407,
          4.268000637034251,
          4.06090274905896,
          -0.4312969246679339,
          -0.7177259046017457,
          -1.976823105231598,
          -2.6402810849289766,
          -2.895564375532403,
          -3.144187775282478,
          -3.385579442392519,
          -3.6191841682926817,
          -3.844464654627421,
          -4.060902749058959,
          -4.268000637034249,
          -4.465281986774409,
          -4.652293044853061,
          -4.828603679843775,
          -4.993808371636123,
          -5.147527144144927,
          -5.289406439267427,
          -5.419119930078261,
          -5.640884785965822,
          -5.810782619876013,
          -5.965095460924037,
          -5.989219762390199,
          -5.999568666475684,
          -5.996118370369462,
          -5.978876809863143,
          -5.9478836410984055,
          -5.903210149356595,
          -5.844959085100304,
          -5.7732644276439995,
          -5.68829107699732,
          -5.590234474589758,
          -5.479320153749123,
          -5.355803220967643,
          -5.21996776914887,
          -5.07212622418489,
          -4.912618626366777,
          -4.7418118482809986,
          -4.560098750990726,
          -4.367897280442811,
          -4.165649506178687,
          -3.953820604560286,
          -3.503389188601965,
          -2.5103249063209874,
          -0.860362391480704,
          6.080131667987636,
          6.322415797707995,
          6.863369525526569,
          -2.6357641403087975,
          -7.14107096129019,
          -7.30576020499883,
          -7.4536459661196774,
          -7.584388102663093,
          -7.697685903525332,
          -7.793278780133738,
          -7.870946865808794,
          -7.930511521464539,
          -7.9718357464841905,
          -7.994824493825949
         ],
         "y": [
          0,
          2,
          1.9976999679545606,
          1.9793314403079978,
          1.9633051929090892,
          1.942763280651512,
          1.9177529505917335,
          1.8545672805037956,
          1.7852677403225472,
          1.7033980168332887,
          1.6095345599479252,
          1.439419797915244,
          1.0120905109057414,
          0.5099124862337101,
          -0.029975906732158566,
          -0.6589410350771999,
          -1.422666879011417,
          -0.4400303284705638,
          0.7709024502914493,
          1.262984535174601,
          1.7033980168332878,
          1.9976999679545606,
          2,
          3.9586628806159956,
          3.9266103858181785,
          3.885526561303024,
          3.835505901183467,
          3.7766634545807167,
          3.709134561007591,
          3.6330745390833017,
          3.5486583292956513,
          3.4560800916323053,
          3.3555527590066,
          3.2473075475050175,
          3.0086765364307086,
          2.878839595830488,
          2.7423812319061778,
          2.4508701761258376,
          2.296487969039701,
          2.1368237660328067,
          1.972244799888582,
          1.8031296075031615,
          1.6298671592384035,
          1.0733638397734862,
          1.2725031540415266,
          0.9034386884450425,
          -1.2725031540415273,
          -1.452855964277588,
          -1.6298671592384044,
          -1.8031296075031615,
          -1.972244799888582,
          -2.1368237660328075,
          -2.296487969039701,
          -2.4508701761258362,
          -2.599615303267673,
          -2.7423812319061778,
          -2.878839595830489,
          -3.008676536430708,
          -3.1315934245827766,
          -3.2473075475050175,
          -3.3555527590066,
          -3.4560800916323045,
          -3.5486583292956513,
          -3.6330745390833017,
          -3.709134561007591,
          -3.776663454580717,
          -3.835505901183467,
          -3.885526561303024,
          -3.926610385818178,
          -3.9586628806159956,
          -3.9816103239313057,
          -3.9953999359091212,
          -4,
          -3.9816103239313057,
          -3.958662880615996,
          -3.926610385818178,
          -3.885526561303024,
          -3.776663454580717,
          -3.7091345610075908,
          -3.633074539083302,
          -3.4560800916323053,
          -2.6717665216180673,
          -1.1812029993335236,
          0.7155758931823245,
          0.9034386884450412,
          1.1812029993335225,
          1.363071504027957,
          1.5418049005828987,
          1.7169920964586844,
          1.8882301554908492,
          2.1368237660328084,
          2.450870176125836,
          2.599615303267673,
          2.7423812319061773,
          2.8788395958304887,
          3.0086765364307078,
          3.2473075475050175,
          3.3555527590065988,
          3.456080091632303,
          3.6330745390833017,
          3.7091345610075908,
          3.7766634545807167,
          3.835505901183467,
          3.885526561303024,
          3.958662880615996,
          3.9816103239313057,
          3.9953999359091212,
          5.937994320923993,
          5.889915578727267,
          5.828289841954536,
          4.513014804646063,
          4.217128236403918,
          3.7889536055238056,
          3.5615427139091214,
          3.082687836984337,
          1.3551580326675636,
          0.789100875651515,
          0.5030229542284587,
          0.21578806389108646,
          -0.0719431459082585,
          -0.3595088841665647,
          -0.6462477404706664,
          -0.9315002062623942,
          -1.214610191729385,
          -1.49492653483268,
          -1.7718044990002833,
          -2.0446072560419326,
          -2.312707350874346,
          -2.5754881446880296,
          -2.8323452332362766,
          -3.0826878369843356,
          -3.3259401599212444,
          -3.5615427139091205,
          -3.7889536055238056,
          -4.0076497824271025,
          -4.217128236403919,
          -4.41690716029728,
          -5.984478503827379,
          -5.95691778740177,
          -5.664995181871076,
          -5.387848902165526,
          -5.255064885151052,
          -5.1101940504998655,
          -4.953569605774119,
          -4.785551792215774,
          -4.6065270561802265,
          -4.4169071602972805,
          -4.217128236403921,
          -4.007649782427101,
          -3.788953605523804,
          -3.5615427139091214,
          -3.325940159921247,
          -3.082687836984336,
          -2.8323452332362797,
          -2.575488144688028,
          -2.0446072560419317,
          -1.4949265348326846,
          -0.6462477404706671,
          -0.3595088841665668,
          -0.07194314590825789,
          0.2157880638910897,
          0.5030229542284592,
          0.7891008756515117,
          1.0733638397734868,
          1.3551580326675619,
          1.633835318659872,
          1.908754731062289,
          2.1792839464163842,
          2.4448007388576047,
          2.7046944112547395,
          2.9583671998328676,
          3.2052356490492127,
          3.4447319535595513,
          3.6763052641887537,
          3.89942295490151,
          4.113571847859266,
          4.318259393745733,
          4.513014804646062,
          4.870961321257527,
          5.449611808624953,
          5.937994320923994,
          5.1992306065353455,
          4.901740352251675,
          4.110250449312449,
          -7.553326909161434,
          -3.606259215006321,
          -3.259734318476808,
          -2.9057119285551805,
          -2.545006308083054,
          -2.178447091546498,
          -1.8068773768900843,
          -1.431151786364644,
          -1.0521345008686842,
          -0.6706972723046142,
          -0.28771741852145494
         ]
        }
       ],
       "frames": [],
       "layout": {
        "annotations": [
         {
          "font": {
           "color": "white",
           "family": "Balto",
           "size": 14
          },
          "showarrow": false,
          "text": "Gilbert<br>Strang",
          "x": -0.05,
          "xanchor": "center",
          "xref": "x",
          "y": -0.1,
          "yanchor": "top",
          "yref": "y"
         }
        ],
        "font": {
         "family": "Balto"
        },
        "height": 675,
        "margin": {
         "b": 50,
         "l": 50,
         "r": 50,
         "t": 60
        },
        "plot_bgcolor": "rgb(10,10,10)",
        "shapes": [
         {
          "layer": "below",
          "line": {
           "color": "rgb(210,210,210)",
           "width": 1
          },
          "path": "M 0.0 -0.0, C 0.0 -0.0, 1.2246467991473532e-16 1.4, 1.2246467991473532e-16  2.0",
          "type": "path"
         },
         {
          "layer": "below",
          "line": {
           "color": "rgb(210,210,210)",
           "width": 1
          },
          "path": "M 0.0 -0.0, C 0.0 -0.0, 0.0958897180846165 1.3983899775681923, 0.0958897180846165  1.9976999679545606",
          "type": "path"
         },
         {
          "layer": "below",
          "line": {
           "color": "rgb(210,210,210)",
           "width": 1
          },
          "path": "M 0.0 -0.0, C 0.0 -0.0, 0.28678746382690196 1.3855320082155984, 0.28678746382690196  1.9793314403079978",
          "type": "path"
         },
         {
          "layer": "below",
          "line": {
           "color": "rgb(210,210,210)",
           "width": 1
          },
          "path": "M 0.0 -0.0, C 0.0 -0.0, 0.3813564205519613 1.3743136350363623, 0.3813564205519613  1.9633051929090892",
          "type": "path"
         },
         {
          "layer": "below",
          "line": {
           "color": "rgb(210,210,210)",
           "width": 1
          },
          "path": "M 0.0 -0.0, C 0.0 -0.0, 0.47504824528901746 1.3599342964560583, 0.47504824528901746  1.942763280651512",
          "type": "path"
         },
         {
          "layer": "below",
          "line": {
           "color": "rgb(210,210,210)",
           "width": 1
          },
          "path": "M 0.0 -0.0, C 0.0 -0.0, 0.5676474438387792 1.3424270654142134, 0.5676474438387792  1.9177529505917335",
          "type": "path"
         },
         {
          "layer": "below",
          "line": {
           "color": "rgb(210,210,210)",
           "width": 1
          },
          "path": "M 0.0 -0.0, C 0.0 -0.0, 0.7487190408188883 1.2981970963526568, 0.7487190408188883  1.8545672805037956",
          "type": "path"
         },
         {
          "layer": "below",
          "line": {
           "color": "rgb(210,210,210)",
           "width": 1
          },
          "path": "M 0.0 -0.0, C 0.0 -0.0, 0.9015648037515809 1.2496874182257829, 0.9015648037515809  1.7852677403225472",
          "type": "path"
         },
         {
          "layer": "below",
          "line": {
           "color": "rgb(210,210,210)",
           "width": 1
          },
          "path": "M 0.0 -0.0, C 0.0 -0.0, 1.0480625917608257 1.192378611783302, 1.0480625917608257  1.7033980168332887",
          "type": "path"
         },
         {
          "layer": "below",
          "line": {
           "color": "rgb(210,210,210)",
           "width": 1
          },
          "path": "M 0.0 -0.0, C 0.0 -0.0, 1.187180904636374 1.1266741919635475, 1.187180904636374  1.6095345599479252",
          "type": "path"
         },
         {
          "layer": "below",
          "line": {
           "color": "rgb(210,210,210)",
           "width": 1
          },
          "path": "M 0.0 -0.0, C 0.0 -0.0, 1.3885498353928958 1.0075938585406707, 1.3885498353928958  1.439419797915244",
          "type": "path"
         },
         {
          "layer": "below",
          "line": {
           "color": "rgb(210,210,210)",
           "width": 1
          },
          "path": "M 0.0 -0.0, C 0.0 -0.0, 1.7250138543601774 0.7084633576340189, 1.7250138543601774  1.0120905109057414",
          "type": "path"
         },
         {
          "layer": "below",
          "line": {
           "color": "rgb(210,210,210)",
           "width": 1
          },
          "path": "M 0.0 -0.0, C 0.0 -0.0, 1.9339051828833171 0.3569387403635971, 1.9339051828833171  0.5099124862337101",
          "type": "path"
         },
         {
          "layer": "below",
          "line": {
           "color": "rgb(210,210,210)",
           "width": 1
          },
          "path": "M 0.0 -0.0, C 0.0 -0.0, 1.9997753486368375 -0.020983134712510995, 1.9997753486368375  -0.029975906732158566",
          "type": "path"
         },
         {
          "layer": "below",
          "line": {
           "color": "rgb(210,210,210)",
           "width": 1
          },
          "path": "M 0.0 -0.0, C 0.0 -0.0, 1.8883317272903584 -0.46125872455403993, 1.8883317272903584  -0.6589410350771999",
          "type": "path"
         },
         {
          "layer": "below",
          "line": {
           "color": "rgb(210,210,210)",
           "width": 1
          },
          "path": "M 0.0 -0.0, C 0.0 -0.0, -1.4057094121346396 -0.9958668153079918, -1.4057094121346396  -1.422666879011417",
          "type": "path"
         },
         {
          "layer": "below",
          "line": {
           "color": "rgb(210,210,210)",
           "width": 1
          },
          "path": "M 0.0 -0.0, C 0.0 -0.0, -1.9509929036329394 -0.3080212299293946, -1.9509929036329394  -0.4400303284705638",
          "type": "path"
         },
         {
          "layer": "below",
          "line": {
           "color": "rgb(210,210,210)",
           "width": 1
          },
          "path": "M 0.0 -0.0, C 0.0 -0.0, -1.8454564237972781 0.5396317152040145, -1.8454564237972781  0.7709024502914493",
          "type": "path"
         },
         {
          "layer": "below",
          "line": {
           "color": "rgb(210,210,210)",
           "width": 1
          },
          "path": "M 0.0 -0.0, C 0.0 -0.0, -1.550764348284354 0.8840891746222206, -1.550764348284354  1.262984535174601",
          "type": "path"
         },
         {
          "layer": "below",
          "line": {
           "color": "rgb(210,210,210)",
           "width": 1
          },
          "path": "M 0.0 -0.0, C 0.0 -0.0, -1.048062591760827 1.1923786117833015, -1.048062591760827  1.7033980168332878",
          "type": "path"
         },
         {
          "layer": "below",
          "line": {
           "color": "rgb(210,210,210)",
           "width": 1
          },
          "path": "M 0.0 -0.0, C 0.0 -0.0, -0.09588971808461763 1.3983899775681923, -0.09588971808461763  1.9976999679545606",
          "type": "path"
         },
         {
          "layer": "below",
          "line": {
           "color": "rgb(210,210,210)",
           "width": 1
          },
          "path": "M 0.0 -0.0, C 0.0 -0.0, -3.6739403974420594e-16 1.4, -3.6739403974420594e-16  2.0",
          "type": "path"
         },
         {
          "layer": "below",
          "line": {
           "color": "rgb(210,210,210)",
           "width": 1
          },
          "path": "M 0.28678746382690196 1.9793314403079978, C 0.4301811957403529 2.968997160461997, 0.4301811957403529 2.968997160461997, 0.5735749276538039  3.9586628806159956",
          "type": "path"
         },
         {
          "layer": "below",
          "line": {
           "color": "rgb(210,210,210)",
           "width": 1
          },
          "path": "M 0.7487190408188883 1.8545672805037956, C 1.1230785612283325 2.7818509207556934, 0.5720346308279419 2.9449577893636336, 0.7627128411039226  3.9266103858181785",
          "type": "path"
         },
         {
          "layer": "below",
          "line": {
           "color": "rgb(210,210,210)",
           "width": 1
          },
          "path": "M 0.7487190408188883 1.8545672805037956, C 1.1230785612283325 2.7818509207556934, 0.7125723679335262 2.914144920977268, 0.9500964905780349  3.885526561303024",
          "type": "path"
         },
         {
          "layer": "below",
          "line": {
           "color": "rgb(210,210,210)",
           "width": 1
          },
          "path": "M 0.7487190408188883 1.8545672805037956, C 1.1230785612283325 2.7818509207556934, 0.851471165758169 2.8766294258876006, 1.1352948876775584  3.835505901183467",
          "type": "path"
         },
         {
          "layer": "below",
          "line": {
           "color": "rgb(210,210,210)",
           "width": 1
          },
          "path": "M 0.7487190408188883 1.8545672805037956, C 1.1230785612283325 2.7818509207556934, 0.9884115526158 2.8324975909355374, 1.3178820701544  3.7766634545807167",
          "type": "path"
         },
         {
          "layer": "below",
          "line": {
           "color": "rgb(210,210,210)",
           "width": 1
          },
          "path": "M 0.7487190408188883 1.8545672805037956, C 1.1230785612283325 2.7818509207556934, 1.1230785612283325 2.7818509207556934, 1.4974380816377766  3.709134561007591",
          "type": "path"
         },
         {
          "layer": "below",
          "line": {
           "color": "rgb(210,210,210)",
           "width": 1
          },
          "path": "M 0.7487190408188883 1.8545672805037956, C 1.1230785612283325 2.7818509207556934, 1.2551624531604935 2.724805904312477, 1.6735499375473244  3.6330745390833017",
          "type": "path"
         },
         {
          "layer": "below",
          "line": {
           "color": "rgb(210,210,210)",
           "width": 1
          },
          "path": "M 0.7487190408188883 1.8545672805037956, C 1.1230785612283325 2.7818509207556934, 1.3843594312281533 2.6614937469717384, 1.8458125749708711  3.5486583292956513",
          "type": "path"
         },
         {
          "layer": "below",
          "line": {
           "color": "rgb(210,210,210)",
           "width": 1
          },
          "path": "M 0.7487190408188883 1.8545672805037956, C 1.1230785612283325 2.7818509207556934, 1.5103723382415826 2.592060068724229, 2.0138297843221102  3.4560800916323053",
          "type": "path"
         },
         {
          "layer": "below",
          "line": {
           "color": "rgb(210,210,210)",
           "width": 1
          },
          "path": "M 0.7487190408188883 1.8545672805037956, C 1.1230785612283325 2.7818509207556934, 1.6329113404765112 2.5166645692549503, 2.1772151206353483  3.3555527590066",
          "type": "path"
         },
         {
          "layer": "below",
          "line": {
           "color": "rgb(210,210,210)",
           "width": 1
          },
          "path": "M 1.3885498353928958 1.439419797915244, C 2.082824753089344 2.159129696872866, 1.7516945943009825 2.435480660628764, 2.3355927924013096  3.2473075475050175",
          "type": "path"
         },
         {
          "layer": "below",
          "line": {
           "color": "rgb(210,210,210)",
           "width": 1
          },
          "path": "M 1.3885498353928958 1.439419797915244, C 2.082824753089344 2.159129696872866, 1.9769103022801424 2.2565074023230314, 2.63588040304019  3.0086765364307086",
          "type": "path"
         },
         {
          "layer": "below",
          "line": {
           "color": "rgb(210,210,210)",
           "width": 1
          },
          "path": "M 1.3885498353928958 1.439419797915244, C 2.082824753089344 2.159129696872866, 2.082824753089344 2.159129696872866, 2.7770996707857916  2.878839595830488",
          "type": "path"
         },
         {
          "layer": "below",
          "line": {
           "color": "rgb(210,210,210)",
           "width": 1
          },
          "path": "M 1.3885498353928958 1.439419797915244, C 2.082824753089344 2.159129696872866, 2.1839486402214052 2.0567859239296338, 2.9119315202952065  2.7423812319061778",
          "type": "path"
         },
         {
          "layer": "below",
          "line": {
           "color": "rgb(210,210,210)",
           "width": 1
          },
          "path": "M 1.3885498353928958 1.439419797915244, C 2.082824753089344 2.159129696872866, 2.370905924140498 1.8381526320943782, 3.1612078988539976  2.4508701761258376",
          "type": "path"
         },
         {
          "layer": "below",
          "line": {
           "color": "rgb(210,210,210)",
           "width": 1
          },
          "path": "M 1.8883317272903584 -0.6589410350771999, C 2.8324975909355374 -0.9884115526157999, 2.4563093131833886 1.7223659767797757, 3.275079084244518  2.296487969039701",
          "type": "path"
         },
         {
          "layer": "below",
          "line": {
           "color": "rgb(210,210,210)",
           "width": 1
          },
          "path": "M 1.8883317272903584 -0.6589410350771999, C 2.8324975909355374 -0.9884115526157999, 2.536063112092446 1.602617824524605, 3.381417482789928  2.1368237660328067",
          "type": "path"
         },
         {
          "layer": "below",
          "line": {
           "color": "rgb(210,210,210)",
           "width": 1
          },
          "path": "M 1.8883317272903584 -0.6589410350771999, C 2.8324975909355374 -0.9884115526157999, 2.609983884574434 1.4791835999164364, 3.479978512765912  1.972244799888582",
          "type": "path"
         },
         {
          "layer": "below",
          "line": {
           "color": "rgb(210,210,210)",
           "width": 1
          },
          "path": "M 1.8883317272903584 -0.6589410350771999, C 2.8324975909355374 -0.9884115526157999, 2.6779016104838207 1.352347205627371, 3.5705354806450944  1.8031296075031615",
          "type": "path"
         },
         {
          "layer": "below",
          "line": {
           "color": "rgb(210,210,210)",
           "width": 1
          },
          "path": "M 1.8883317272903584 -0.6589410350771999, C 2.8324975909355374 -0.9884115526157999, 2.7396600768745616 1.2224003694288028, 3.652880102499415  1.6298671592384035",
          "type": "path"
         },
         {
          "layer": "below",
          "line": {
           "color": "rgb(210,210,210)",
           "width": 1
          },
          "path": "M 1.8883317272903584 -0.6589410350771999, C 3.7766634545807167 -1.3178820701543998, 3.9354734329043968 0.7155758931823241, 5.903210149356595  1.0733638397734862",
          "type": "path"
         },
         {
          "layer": "below",
          "line": {
           "color": "rgb(210,210,210)",
           "width": 1
          },
          "path": "M 1.8883317272903584 -0.6589410350771999, C 2.8324975909355374 -0.9884115526157999, 2.84414553849866 0.9543773655311449, 3.7921940513315464  1.2725031540415266",
          "type": "path"
         },
         {
          "layer": "below",
          "line": {
           "color": "rgb(210,210,210)",
           "width": 1
          },
          "path": "M 1.8883317272903584 -0.6589410350771999, C 2.8324975909355374 -0.9884115526157999, 2.9224795425501515 0.6775790163337818, 3.896639390066869  0.9034386884450425",
          "type": "path"
         },
         {
          "layer": "below",
          "line": {
           "color": "rgb(210,210,210)",
           "width": 1
          },
          "path": "M 1.8883317272903584 -0.6589410350771999, C 2.8324975909355374 -0.9884115526157999, 2.8441455384986596 -0.9543773655311454, 3.792194051331546  -1.2725031540415273",
          "type": "path"
         },
         {
          "layer": "below",
          "line": {
           "color": "rgb(210,210,210)",
           "width": 1
          },
          "path": "M 1.8883317272903584 -0.6589410350771999, C 2.8324975909355374 -0.9884115526157999, 2.7951172372948796 -1.089641973208191, 3.7268229830598396  -1.452855964277588",
          "type": "path"
         },
         {
          "layer": "below",
          "line": {
           "color": "rgb(210,210,210)",
           "width": 1
          },
          "path": "M 1.8883317272903584 -0.6589410350771999, C 2.8324975909355374 -0.9884115526157999, 2.739660076874561 -1.2224003694288035, 3.6528801024994144  -1.6298671592384044",
          "type": "path"
         },
         {
          "layer": "below",
          "line": {
           "color": "rgb(210,210,210)",
           "width": 1
          },
          "path": "M 1.8883317272903584 -0.6589410350771999, C 2.8324975909355374 -0.9884115526157999, 2.6779016104838207 -1.352347205627371, 3.5705354806450944  -1.8031296075031615",
          "type": "path"
         },
         {
          "layer": "below",
          "line": {
           "color": "rgb(210,210,210)",
           "width": 1
          },
          "path": "M 1.8883317272903584 -0.6589410350771999, C 2.8324975909355374 -0.9884115526157999, 2.609983884574434 -1.4791835999164364, 3.479978512765912  -1.972244799888582",
          "type": "path"
         },
         {
          "layer": "below",
          "line": {
           "color": "rgb(210,210,210)",
           "width": 1
          },
          "path": "M 1.8883317272903584 -0.6589410350771999, C 2.8324975909355374 -0.9884115526157999, 2.5360631120924455 -1.6026178245246057, 3.3814174827899275  -2.1368237660328075",
          "type": "path"
         },
         {
          "layer": "below",
          "line": {
           "color": "rgb(210,210,210)",
           "width": 1
          },
          "path": "M 1.8883317272903584 -0.6589410350771999, C 2.8324975909355374 -0.9884115526157999, 2.4563093131833886 -1.7223659767797757, 3.275079084244518  -2.296487969039701",
          "type": "path"
         },
         {
          "layer": "below",
          "line": {
           "color": "rgb(210,210,210)",
           "width": 1
          },
          "path": "M 1.8883317272903584 -0.6589410350771999, C 2.8324975909355374 -0.9884115526157999, 2.370905924140499 -1.8381526320943773, 3.1612078988539984  -2.4508701761258362",
          "type": "path"
         },
         {
          "layer": "below",
          "line": {
           "color": "rgb(210,210,210)",
           "width": 1
          },
          "path": "M 1.8883317272903584 -0.6589410350771999, C 2.8324975909355374 -0.9884115526157999, 2.280049375495363 -1.949711477450755, 3.040065833993817  -2.599615303267673",
          "type": "path"
         },
         {
          "layer": "below",
          "line": {
           "color": "rgb(210,210,210)",
           "width": 1
          },
          "path": "M 1.8883317272903584 -0.6589410350771999, C 2.8324975909355374 -0.9884115526157999, 2.1839486402214052 -2.0567859239296333, 2.911931520295207  -2.7423812319061778",
          "type": "path"
         },
         {
          "layer": "below",
          "line": {
           "color": "rgb(210,210,210)",
           "width": 1
          },
          "path": "M 1.8883317272903584 -0.6589410350771999, C 2.8324975909355374 -0.9884115526157999, 2.082824753089343 -2.159129696872867, 2.7770996707857907  -2.878839595830489",
          "type": "path"
         },
         {
          "layer": "below",
          "line": {
           "color": "rgb(210,210,210)",
           "width": 1
          },
          "path": "M 1.8883317272903584 -0.6589410350771999, C 2.8324975909355374 -0.9884115526157999, 1.976910302280143 -2.256507402323031, 2.635880403040191  -3.008676536430708",
          "type": "path"
         },
         {
          "layer": "below",
          "line": {
           "color": "rgb(210,210,210)",
           "width": 1
          },
          "path": "M 1.8883317272903584 -0.6589410350771999, C 2.8324975909355374 -0.9884115526157999, 1.8664488944247386 -2.3486950684370824, 2.4885985258996515  -3.1315934245827766",
          "type": "path"
         },
         {
          "layer": "below",
          "line": {
           "color": "rgb(210,210,210)",
           "width": 1
          },
          "path": "M 1.8883317272903584 -0.6589410350771999, C 2.8324975909355374 -0.9884115526157999, 1.7516945943009825 -2.435480660628764, 2.3355927924013096  -3.2473075475050175",
          "type": "path"
         },
         {
          "layer": "below",
          "line": {
           "color": "rgb(210,210,210)",
           "width": 1
          },
          "path": "M 1.8883317272903584 -0.6589410350771999, C 2.8324975909355374 -0.9884115526157999, 1.6329113404765112 -2.5166645692549503, 2.1772151206353483  -3.3555527590066",
          "type": "path"
         },
         {
          "layer": "below",
          "line": {
           "color": "rgb(210,210,210)",
           "width": 1
          },
          "path": "M 1.8883317272903584 -0.6589410350771999, C 2.8324975909355374 -0.9884115526157999, 1.5103723382415837 -2.592060068724228, 2.0138297843221116  -3.4560800916323045",
          "type": "path"
         },
         {
          "layer": "below",
          "line": {
           "color": "rgb(210,210,210)",
           "width": 1
          },
          "path": "M 1.8883317272903584 -0.6589410350771999, C 2.8324975909355374 -0.9884115526157999, 1.3843594312281533 -2.6614937469717384, 1.8458125749708711  -3.5486583292956513",
          "type": "path"
         },
         {
          "layer": "below",
          "line": {
           "color": "rgb(210,210,210)",
           "width": 1
          },
          "path": "M 1.8883317272903584 -0.6589410350771999, C 2.8324975909355374 -0.9884115526157999, 1.2551624531604935 -2.724805904312477, 1.6735499375473244  -3.6330745390833017",
          "type": "path"
         },
         {
          "layer": "below",
          "line": {
           "color": "rgb(210,210,210)",
           "width": 1
          },
          "path": "M 1.8883317272903584 -0.6589410350771999, C 2.8324975909355374 -0.9884115526157999, 1.123078561228332 -2.781850920755694, 1.497438081637776  -3.709134561007591",
          "type": "path"
         },
         {
          "layer": "below",
          "line": {
           "color": "rgb(210,210,210)",
           "width": 1
          },
          "path": "M 1.8883317272903584 -0.6589410350771999, C 2.8324975909355374 -0.9884115526157999, 0.9884115526157994 -2.832497590935538, 1.3178820701543992  -3.776663454580717",
          "type": "path"
         },
         {
          "layer": "below",
          "line": {
           "color": "rgb(210,210,210)",
           "width": 1
          },
          "path": "M 1.8883317272903584 -0.6589410350771999, C 2.8324975909355374 -0.9884115526157999, 0.8514711657581695 -2.8766294258876, 1.1352948876775593  -3.835505901183467",
          "type": "path"
         },
         {
          "layer": "below",
          "line": {
           "color": "rgb(210,210,210)",
           "width": 1
          },
          "path": "M -1.4057094121346396 -1.422666879011417, C -2.1085641182019597 -2.1340003185171255, 0.7125723679335255 -2.914144920977268, 0.950096490578034  -3.885526561303024",
          "type": "path"
         },
         {
          "layer": "below",
          "line": {
           "color": "rgb(210,210,210)",
           "width": 1
          },
          "path": "M -1.4057094121346396 -1.422666879011417, C -2.1085641182019597 -2.1340003185171255, 0.5720346308279426 -2.9449577893636336, 0.7627128411039235  -3.926610385818178",
          "type": "path"
         },
         {
          "layer": "below",
          "line": {
           "color": "rgb(210,210,210)",
           "width": 1
          },
          "path": "M -1.4057094121346396 -1.422666879011417, C -2.1085641182019597 -2.1340003185171255, 0.430181195740353 -2.968997160461997, 0.5735749276538039  -3.9586628806159956",
          "type": "path"
         },
         {
          "layer": "below",
          "line": {
           "color": "rgb(210,210,210)",
           "width": 1
          },
          "path": "M -1.4057094121346396 -1.422666879011417, C -2.1085641182019597 -2.1340003185171255, 0.28733833011721516 -2.986207742948479, 0.38311777348962023  -3.9816103239313057",
          "type": "path"
         },
         {
          "layer": "below",
          "line": {
           "color": "rgb(210,210,210)",
           "width": 1
          },
          "path": "M -1.4057094121346396 -1.422666879011417, C -2.1085641182019597 -2.1340003185171255, 0.14383457712692477 -2.9965499519318413, 0.191779436169233  -3.9953999359091212",
          "type": "path"
         },
         {
          "layer": "below",
          "line": {
           "color": "rgb(210,210,210)",
           "width": 1
          },
          "path": "M -1.4057094121346396 -1.422666879011417, C -2.1085641182019597 -2.1340003185171255, 1.8369701987210297e-16 -3.0, 2.4492935982947064e-16  -4.0",
          "type": "path"
         },
         {
          "layer": "below",
          "line": {
           "color": "rgb(210,210,210)",
           "width": 1
          },
          "path": "M -1.4057094121346396 -1.422666879011417, C -2.1085641182019597 -2.1340003185171255, -0.28733833011721477 -2.986207742948479, -0.38311777348961973  -3.9816103239313057",
          "type": "path"
         },
         {
          "layer": "below",
          "line": {
           "color": "rgb(210,210,210)",
           "width": 1
          },
          "path": "M -1.4057094121346396 -1.422666879011417, C -2.1085641182019597 -2.1340003185171255, -0.43018119574035263 -2.968997160461997, -0.5735749276538035  -3.958662880615996",
          "type": "path"
         },
         {
          "layer": "below",
          "line": {
           "color": "rgb(210,210,210)",
           "width": 1
          },
          "path": "M -1.4057094121346396 -1.422666879011417, C -2.1085641182019597 -2.1340003185171255, -0.5720346308279423 -2.944957789363634, -0.7627128411039229  -3.926610385818178",
          "type": "path"
         },
         {
          "layer": "below",
          "line": {
           "color": "rgb(210,210,210)",
           "width": 1
          },
          "path": "M -1.4057094121346396 -1.422666879011417, C -2.1085641182019597 -2.1340003185171255, -0.7125723679335253 -2.9141449209772685, -0.9500964905780336  -3.885526561303024",
          "type": "path"
         },
         {
          "layer": "below",
          "line": {
           "color": "rgb(210,210,210)",
           "width": 1
          },
          "path": "M -1.4057094121346396 -1.422666879011417, C -2.1085641182019597 -2.1340003185171255, -0.988411552615799 -2.832497590935538, -1.3178820701543987  -3.776663454580717",
          "type": "path"
         },
         {
          "layer": "below",
          "line": {
           "color": "rgb(210,210,210)",
           "width": 1
          },
          "path": "M -1.4057094121346396 -1.422666879011417, C -2.1085641182019597 -2.1340003185171255, -1.123078561228333 -2.7818509207556934, -1.497438081637777  -3.7091345610075908",
          "type": "path"
         },
         {
          "layer": "below",
          "line": {
           "color": "rgb(210,210,210)",
           "width": 1
          },
          "path": "M -1.4057094121346396 -1.422666879011417, C -2.1085641182019597 -2.1340003185171255, -1.255162453160493 -2.7248059043124764, -1.673549937547324  -3.633074539083302",
          "type": "path"
         },
         {
          "layer": "below",
          "line": {
           "color": "rgb(210,210,210)",
           "width": 1
          },
          "path": "M -1.4057094121346396 -1.422666879011417, C -2.1085641182019597 -2.1340003185171255, -1.5103723382415823 -2.592060068724229, -2.01382978432211  -3.4560800916323053",
          "type": "path"
         },
         {
          "layer": "below",
          "line": {
           "color": "rgb(210,210,210)",
           "width": 1
          },
          "path": "M -1.4057094121346396 -1.422666879011417, C -2.1085641182019597 -2.1340003185171255, -2.2326409933872045 -2.0038248912135503, -2.976854657849606  -2.6717665216180673",
          "type": "path"
         },
         {
          "layer": "below",
          "line": {
           "color": "rgb(210,210,210)",
           "width": 1
          },
          "path": "M -1.4057094121346396 -1.422666879011417, C -2.1085641182019597 -2.1340003185171255, -2.866213042383728 -0.8859022495001427, -3.821617389844971  -1.1812029993335236",
          "type": "path"
         },
         {
          "layer": "below",
          "line": {
           "color": "rgb(210,210,210)",
           "width": 1
          },
          "path": "M -1.4057094121346396 -1.422666879011417, C -2.1085641182019597 -2.1340003185171255, -2.951605074678298 0.5366819198867435, -3.9354734329043968  0.7155758931823245",
          "type": "path"
         },
         {
          "layer": "below",
          "line": {
           "color": "rgb(210,210,210)",
           "width": 1
          },
          "path": "M -1.4057094121346396 -1.422666879011417, C -2.1085641182019597 -2.1340003185171255, -2.922479542550152 0.6775790163337809, -3.8966393900668694  0.9034386884450412",
          "type": "path"
         },
         {
          "layer": "below",
          "line": {
           "color": "rgb(210,210,210)",
           "width": 1
          },
          "path": "M -1.8454564237972781 0.7709024502914493, C -2.7681846356959174 1.1563536754371742, -2.8662130423837286 0.8859022495001418, -3.8216173898449712  1.1812029993335225",
          "type": "path"
         },
         {
          "layer": "below",
          "line": {
           "color": "rgb(210,210,210)",
           "width": 1
          },
          "path": "M -1.8454564237972781 0.7709024502914493, C -2.7681846356959174 1.1563536754371742, -2.8204423929829106 1.0223036280209679, -3.7605898573105474  1.363071504027957",
          "type": "path"
         },
         {
          "layer": "below",
          "line": {
           "color": "rgb(210,210,210)",
           "width": 1
          },
          "path": "M -1.8454564237972781 0.7709024502914493, C -2.7681846356959174 1.156353675437174, -2.7681846356959174 1.156353675437174, -3.6909128475945563  1.5418049005828987",
          "type": "path"
         },
         {
          "layer": "below",
          "line": {
           "color": "rgb(210,210,210)",
           "width": 1
          },
          "path": "M -1.8454564237972781 0.7709024502914493, C -2.7681846356959174 1.1563536754371742, -2.709559965039131 1.2877440723440134, -3.6127466200521745  1.7169920964586844",
          "type": "path"
         },
         {
          "layer": "below",
          "line": {
           "color": "rgb(210,210,210)",
           "width": 1
          },
          "path": "M -1.8454564237972781 0.7709024502914493, C -2.7681846356959174 1.1563536754371742, -2.644703219633715 1.416172616618137, -3.52627095951162  1.8882301554908492",
          "type": "path"
         },
         {
          "layer": "below",
          "line": {
           "color": "rgb(210,210,210)",
           "width": 1
          },
          "path": "M -1.048062591760827 1.7033980168332878, C -1.5720938876412407 2.555097025249932, -2.536063112092445 1.6026178245246063, -3.381417482789927  2.1368237660328084",
          "type": "path"
         },
         {
          "layer": "below",
          "line": {
           "color": "rgb(210,210,210)",
           "width": 1
          },
          "path": "M -1.048062591760827 1.7033980168332878, C -1.5720938876412407 2.555097025249932, -2.3709059241404993 1.8381526320943768, -3.161207898853999  2.450870176125836",
          "type": "path"
         },
         {
          "layer": "below",
          "line": {
           "color": "rgb(210,210,210)",
           "width": 1
          },
          "path": "M -1.048062591760827 1.7033980168332878, C -1.5720938876412407 2.555097025249932, -2.280049375495363 1.949711477450755, -3.0400658339938174  2.599615303267673",
          "type": "path"
         },
         {
          "layer": "below",
          "line": {
           "color": "rgb(210,210,210)",
           "width": 1
          },
          "path": "M -1.048062591760827 1.7033980168332878, C -1.5720938876412407 2.555097025249932, -2.1839486402214057 2.056785923929633, -2.9119315202952074  2.7423812319061773",
          "type": "path"
         },
         {
          "layer": "below",
          "line": {
           "color": "rgb(210,210,210)",
           "width": 1
          },
          "path": "M -1.048062591760827 1.7033980168332878, C -1.5720938876412407 2.555097025249932, -2.0828247530893433 2.1591296968728666, -2.777099670785791  2.8788395958304887",
          "type": "path"
         },
         {
          "layer": "below",
          "line": {
           "color": "rgb(210,210,210)",
           "width": 1
          },
          "path": "M -1.048062591760827 1.7033980168332878, C -1.5720938876412407 2.555097025249932, -1.976910302280143 2.256507402323031, -2.635880403040191  3.0086765364307078",
          "type": "path"
         },
         {
          "layer": "below",
          "line": {
           "color": "rgb(210,210,210)",
           "width": 1
          },
          "path": "M -1.048062591760827 1.7033980168332878, C -1.5720938876412407 2.555097025249932, -1.7516945943009825 2.4354806606287633, -2.33559279240131  3.2473075475050175",
          "type": "path"
         },
         {
          "layer": "below",
          "line": {
           "color": "rgb(210,210,210)",
           "width": 1
          },
          "path": "M -1.048062591760827 1.7033980168332878, C -1.5720938876412407 2.555097025249932, -1.6329113404765125 2.516664569254949, -2.17721512063535  3.3555527590065988",
          "type": "path"
         },
         {
          "layer": "below",
          "line": {
           "color": "rgb(210,210,210)",
           "width": 1
          },
          "path": "M -1.048062591760827 1.7033980168332878, C -1.5720938876412407 2.555097025249932, -1.5103723382415852 2.5920600687242272, -2.013829784322114  3.456080091632303",
          "type": "path"
         },
         {
          "layer": "below",
          "line": {
           "color": "rgb(210,210,210)",
           "width": 1
          },
          "path": "M -1.048062591760827 1.7033980168332878, C -1.5720938876412407 2.555097025249932, -1.2551624531604937 2.7248059043124764, -1.6735499375473248  3.6330745390833017",
          "type": "path"
         },
         {
          "layer": "below",
          "line": {
           "color": "rgb(210,210,210)",
           "width": 1
          },
          "path": "M -1.048062591760827 1.7033980168332878, C -1.5720938876412407 2.555097025249932, -1.1230785612283334 2.781850920755693, -1.497438081637778  3.7091345610075908",
          "type": "path"
         },
         {
          "layer": "below",
          "line": {
           "color": "rgb(210,210,210)",
           "width": 1
          },
          "path": "M -1.048062591760827 1.7033980168332878, C -1.5720938876412407 2.555097025249932, -0.9884115526157997 2.8324975909355374, -1.3178820701543996  3.7766634545807167",
          "type": "path"
         },
         {
          "layer": "below",
          "line": {
           "color": "rgb(210,210,210)",
           "width": 1
          },
          "path": "M -1.048062591760827 1.7033980168332878, C -1.5720938876412407 2.555097025249932, -0.8514711657581697 2.8766294258876, -1.1352948876775597  3.835505901183467",
          "type": "path"
         },
         {
          "layer": "below",
          "line": {
           "color": "rgb(210,210,210)",
           "width": 1
          },
          "path": "M -1.048062591760827 1.7033980168332878, C -1.5720938876412407 2.555097025249932, -0.712572367933526 2.914144920977268, -0.9500964905780346  3.885526561303024",
          "type": "path"
         },
         {
          "layer": "below",
          "line": {
           "color": "rgb(210,210,210)",
           "width": 1
          },
          "path": "M -1.048062591760827 1.7033980168332878, C -1.5720938876412407 2.555097025249932, -0.430181195740352 2.968997160461997, -0.5735749276538027  3.958662880615996",
          "type": "path"
         },
         {
          "layer": "below",
          "line": {
           "color": "rgb(210,210,210)",
           "width": 1
          },
          "path": "M -1.048062591760827 1.7033980168332878, C -1.5720938876412407 2.555097025249932, -0.28733833011721555 2.986207742948479, -0.3831177734896207  3.9816103239313057",
          "type": "path"
         },
         {
          "layer": "below",
          "line": {
           "color": "rgb(210,210,210)",
           "width": 1
          },
          "path": "M -0.09588971808461763 1.9976999679545606, C -0.14383457712692643 2.996549951931841, -0.14383457712692643 2.996549951931841, -0.19177943616923526  3.9953999359091212",
          "type": "path"
         },
         {
          "layer": "below",
          "line": {
           "color": "rgb(210,210,210)",
           "width": 1
          },
          "path": "M 0.7627128411039226 3.9266103858181785, C 0.9533910513799032 4.908262982272723, 0.7169686595672551 4.948328600769995, 0.8603623914807059  5.937994320923993",
          "type": "path"
         },
         {
          "layer": "below",
          "line": {
           "color": "rgb(210,210,210)",
           "width": 1
          },
          "path": "M 0.7627128411039226 3.9266103858181785, C 0.9533910513799032 4.908262982272723, 0.9533910513799032 4.908262982272723, 1.1440692616558839  5.889915578727267",
          "type": "path"
         },
         {
          "layer": "below",
          "line": {
           "color": "rgb(210,210,210)",
           "width": 1
          },
          "path": "M 0.7627128411039226 3.9266103858181785, C 0.9533910513799032 4.908262982272723, 1.1876206132225435 4.85690820162878, 1.4251447358670524  5.828289841954536",
          "type": "path"
         },
         {
          "layer": "below",
          "line": {
           "color": "rgb(210,210,210)",
           "width": 1
          },
          "path": "M 2.63588040304019 3.0086765364307086, C 3.2948505038002374 3.760845670538386, 3.2948505038002374 3.7608456705383855, 3.953820604560285  4.513014804646063",
          "type": "path"
         },
         {
          "layer": "below",
          "line": {
           "color": "rgb(210,210,210)",
           "width": 1
          },
          "path": "M 3.1612078988539976 2.4508701761258376, C 3.951509873567497 3.063587720157297, 3.5566671975285433 3.514273530336599, 4.268000637034252  4.217128236403918",
          "type": "path"
         },
         {
          "layer": "below",
          "line": {
           "color": "rgb(210,210,210)",
           "width": 1
          },
          "path": "M 3.1612078988539976 2.4508701761258376, C 3.951509873567497 3.063587720157297, 3.8769108707108835 3.1574613379365046, 4.65229304485306  3.7889536055238056",
          "type": "path"
         },
         {
          "layer": "below",
          "line": {
           "color": "rgb(210,210,210)",
           "width": 1
          },
          "path": "M 3.1612078988539976 2.4508701761258376, C 3.951509873567497 3.063587720157297, 4.023836399869812 2.967952261590934, 4.828603679843775  3.5615427139091214",
          "type": "path"
         },
         {
          "layer": "below",
          "line": {
           "color": "rgb(210,210,210)",
           "width": 1
          },
          "path": "M 3.1612078988539976 2.4508701761258376, C 3.951509873567497 3.063587720157297, 4.289605953454106 2.5689065308202808, 5.147527144144927  3.082687836984337",
          "type": "path"
         },
         {
          "layer": "below",
          "line": {
           "color": "rgb(210,210,210)",
           "width": 1
          },
          "path": "M 3.896639390066869 0.9034386884450425, C 4.8707992375835865 1.1292983605563032, 4.8707992375835865 1.1292983605563032, 5.844959085100303  1.3551580326675636",
          "type": "path"
         },
         {
          "layer": "below",
          "line": {
           "color": "rgb(210,210,210)",
           "width": 1
          },
          "path": "M 3.792194051331546 -1.2725031540415273, C 4.740242564164433 -1.5906289425519091, 4.919341791130496 0.894469866477905, 5.903210149356595  1.0733638397734862",
          "type": "path"
         },
         {
          "layer": "below",
          "line": {
           "color": "rgb(210,210,210)",
           "width": 1
          },
          "path": "M 3.792194051331546 -1.2725031540415273, C 4.740242564164433 -1.5906289425519091, 4.956569700915336 0.657584063042929, 5.947883641098405  0.789100875651515",
          "type": "path"
         },
         {
          "layer": "below",
          "line": {
           "color": "rgb(210,210,210)",
           "width": 1
          },
          "path": "M 3.792194051331546 -1.2725031540415273, C 4.740242564164433 -1.5906289425519091, 4.98239734155262 0.4191857951903822, 5.978876809863143  0.5030229542284587",
          "type": "path"
         },
         {
          "layer": "below",
          "line": {
           "color": "rgb(210,210,210)",
           "width": 1
          },
          "path": "M 3.792194051331546 -1.2725031540415273, C 4.740242564164433 -1.5906289425519091, 4.996765308641218 0.17982338657590538, 5.996118370369462  0.21578806389108646",
          "type": "path"
         },
         {
          "layer": "below",
          "line": {
           "color": "rgb(210,210,210)",
           "width": 1
          },
          "path": "M 3.792194051331546 -1.2725031540415273, C 4.740242564164433 -1.5906289425519091, 4.999640555396405 -0.05995262159021542, 5.999568666475684  -0.0719431459082585",
          "type": "path"
         },
         {
          "layer": "below",
          "line": {
           "color": "rgb(210,210,210)",
           "width": 1
          },
          "path": "M 3.792194051331546 -1.2725031540415273, C 4.740242564164433 -1.5906289425519091, 4.9910164686585 -0.2995907368054706, 5.989219762390199  -0.3595088841665647",
          "type": "path"
         },
         {
          "layer": "below",
          "line": {
           "color": "rgb(210,210,210)",
           "width": 1
          },
          "path": "M 3.792194051331546 -1.2725031540415273, C 4.740242564164433 -1.5906289425519091, 4.970912884103364 -0.5385397837255553, 5.965095460924037  -0.6462477404706664",
          "type": "path"
         },
         {
          "layer": "below",
          "line": {
           "color": "rgb(210,210,210)",
           "width": 1
          },
          "path": "M 3.792194051331546 -1.2725031540415273, C 4.740242564164433 -1.5906289425519091, 4.939376040619705 -0.7762501718853283, 5.927251248743647  -0.9315002062623942",
          "type": "path"
         },
         {
          "layer": "below",
          "line": {
           "color": "rgb(210,210,210)",
           "width": 1
          },
          "path": "M 3.792194051331546 -1.2725031540415273, C 4.740242564164433 -1.5906289425519091, 4.896478473958146 -1.0121751597744875, 5.875774168749775  -1.214610191729385",
          "type": "path"
         },
         {
          "layer": "below",
          "line": {
           "color": "rgb(210,210,210)",
           "width": 1
          },
          "path": "M 3.792194051331546 -1.2725031540415273, C 4.740242564164433 -1.5906289425519091, 4.842318849896679 -1.2457721123605665, 5.810782619876014  -1.49492653483268",
          "type": "path"
         },
         {
          "layer": "below",
          "line": {
           "color": "rgb(210,210,210)",
           "width": 1
          },
          "path": "M 3.792194051331546 -1.2725031540415273, C 4.740242564164433 -1.5906289425519091, 4.777021737306214 -1.4765037491669024, 5.732426084767457  -1.7718044990002833",
          "type": "path"
         },
         {
          "layer": "below",
          "line": {
           "color": "rgb(210,210,210)",
           "width": 1
          },
          "path": "M 3.792194051331546 -1.2725031540415273, C 4.740242564164433 -1.5906289425519091, 4.700737321638186 -1.7038393800349436, 5.640884785965822  -2.0446072560419326",
          "type": "path"
         },
         {
          "layer": "below",
          "line": {
           "color": "rgb(210,210,210)",
           "width": 1
          },
          "path": "M 3.792194051331546 -1.2725031540415273, C 4.740242564164433 -1.5906289425519091, 4.6136410594931965 -1.9272561257286218, 5.536369271391836  -2.312707350874346",
          "type": "path"
         },
         {
          "layer": "below",
          "line": {
           "color": "rgb(210,210,210)",
           "width": 1
          },
          "path": "M 3.792194051331546 -1.2725031540415273, C 4.740242564164433 -1.5906289425519091, 4.515933275065217 -2.1462401205733586, 5.41911993007826  -2.5754881446880296",
          "type": "path"
         },
         {
          "layer": "below",
          "line": {
           "color": "rgb(210,210,210)",
           "width": 1
          },
          "path": "M 3.792194051331546 -1.2725031540415273, C 4.740242564164433 -1.5906289425519091, 4.407838699389525 -2.360287694363564, 5.289406439267429  -2.8323452332362766",
          "type": "path"
         },
         {
          "layer": "below",
          "line": {
           "color": "rgb(210,210,210)",
           "width": 1
          },
          "path": "M 3.792194051331546 -1.2725031540415273, C 4.740242564164433 -1.5906289425519091, 4.289605953454107 -2.5689065308202803, 5.147527144144927  -3.0826878369843356",
          "type": "path"
         },
         {
          "layer": "below",
          "line": {
           "color": "rgb(210,210,210)",
           "width": 1
          },
          "path": "M 3.792194051331546 -1.2725031540415273, C 4.740242564164433 -1.5906289425519091, 4.161506976363437 -2.7716167999343706, 4.993808371636125  -3.3259401599212444",
          "type": "path"
         },
         {
          "layer": "below",
          "line": {
           "color": "rgb(210,210,210)",
           "width": 1
          },
          "path": "M 3.792194051331546 -1.2725031540415273, C 4.740242564164433 -1.5906289425519091, 4.023836399869814 -2.9679522615909337, 4.828603679843776  -3.5615427139091205",
          "type": "path"
         },
         {
          "layer": "below",
          "line": {
           "color": "rgb(210,210,210)",
           "width": 1
          },
          "path": "M 3.792194051331546 -1.2725031540415273, C 4.740242564164433 -1.5906289425519091, 3.8769108707108835 -3.1574613379365046, 4.65229304485306  -3.7889536055238056",
          "type": "path"
         },
         {
          "layer": "below",
          "line": {
           "color": "rgb(210,210,210)",
           "width": 1
          },
          "path": "M 3.792194051331546 -1.2725031540415273, C 4.740242564164433 -1.5906289425519091, 3.721068322312006 -3.339708152022585, 4.465281986774407  -4.0076497824271025",
          "type": "path"
         },
         {
          "layer": "below",
          "line": {
           "color": "rgb(210,210,210)",
           "width": 1
          },
          "path": "M 3.792194051331546 -1.2725031540415273, C 4.740242564164433 -1.5906289425519091, 3.5566671975285424 -3.5142735303365993, 4.268000637034251  -4.217128236403919",
          "type": "path"
         },
         {
          "layer": "below",
          "line": {
           "color": "rgb(210,210,210)",
           "width": 1
          },
          "path": "M 3.792194051331546 -1.2725031540415273, C 4.740242564164433 -1.5906289425519091, 3.3840856242158 -3.680755966914399, 4.06090274905896  -4.41690716029728",
          "type": "path"
         },
         {
          "layer": "below",
          "line": {
           "color": "rgb(210,210,210)",
           "width": 1
          },
          "path": "M -0.38311777348961973 -3.9816103239313057, C -0.4788972168620247 -4.977012904914132, -0.3594141038899449 -4.987065419856148, -0.4312969246679339  -5.984478503827379",
          "type": "path"
         },
         {
          "layer": "below",
          "line": {
           "color": "rgb(210,210,210)",
           "width": 1
          },
          "path": "M -0.38311777348961973 -3.9816103239313057, C -0.4788972168620247 -4.977012904914132, -0.5981049205014548 -4.964098156168142, -0.7177259046017457  -5.95691778740177",
          "type": "path"
         },
         {
          "layer": "below",
          "line": {
           "color": "rgb(210,210,210)",
           "width": 1
          },
          "path": "M -1.3178820701543987 -3.776663454580717, C -1.6473525876929984 -4.7208293182258965, -1.6473525876929986 -4.7208293182258965, -1.976823105231598  -5.664995181871076",
          "type": "path"
         },
         {
          "layer": "below",
          "line": {
           "color": "rgb(210,210,210)",
           "width": 1
          },
          "path": "M -2.01382978432211 -3.4560800916323053, C -2.517287230402637 -4.320100114540382, -2.2002342374408137 -4.489874085137939, -2.6402810849289766  -5.387848902165526",
          "type": "path"
         },
         {
          "layer": "below",
          "line": {
           "color": "rgb(210,210,210)",
           "width": 1
          },
          "path": "M -2.01382978432211 -3.4560800916323053, C -2.517287230402637 -4.320100114540382, -2.4129703129436693 -4.379220737625876, -2.895564375532403  -5.255064885151052",
          "type": "path"
         },
         {
          "layer": "below",
          "line": {
           "color": "rgb(210,210,210)",
           "width": 1
          },
          "path": "M -2.01382978432211 -3.4560800916323053, C -2.517287230402637 -4.320100114540382, -2.620156479402065 -4.258495042083221, -3.144187775282478  -5.1101940504998655",
          "type": "path"
         },
         {
          "layer": "below",
          "line": {
           "color": "rgb(210,210,210)",
           "width": 1
          },
          "path": "M -2.01382978432211 -3.4560800916323053, C -2.517287230402637 -4.320100114540382, -2.8213162019937656 -4.127974671478433, -3.385579442392519  -4.953569605774119",
          "type": "path"
         },
         {
          "layer": "below",
          "line": {
           "color": "rgb(210,210,210)",
           "width": 1
          },
          "path": "M -2.976854657849606 -2.6717665216180673, C -3.721068322312007 -3.339708152022584, -3.015986806910569 -3.987959826846479, -3.6191841682926817  -4.785551792215774",
          "type": "path"
         },
         {
          "layer": "below",
          "line": {
           "color": "rgb(210,210,210)",
           "width": 1
          },
          "path": "M -2.976854657849606 -2.6717665216180673, C -3.721068322312007 -3.339708152022584, -3.203720545522851 -3.8387725468168554, -3.844464654627421  -4.6065270561802265",
          "type": "path"
         },
         {
          "layer": "below",
          "line": {
           "color": "rgb(210,210,210)",
           "width": 1
          },
          "path": "M -2.976854657849606 -2.6717665216180673, C -3.721068322312007 -3.339708152022584, -3.3840856242157997 -3.6807559669144005, -4.060902749058959  -4.4169071602972805",
          "type": "path"
         },
         {
          "layer": "below",
          "line": {
           "color": "rgb(210,210,210)",
           "width": 1
          },
          "path": "M -2.976854657849606 -2.6717665216180673, C -3.721068322312007 -3.339708152022584, -3.5566671975285407 -3.514273530336601, -4.268000637034249  -4.217128236403921",
          "type": "path"
         },
         {
          "layer": "below",
          "line": {
           "color": "rgb(210,210,210)",
           "width": 1
          },
          "path": "M -2.976854657849606 -2.6717665216180673, C -3.721068322312007 -3.339708152022584, -3.721068322312007 -3.339708152022584, -4.465281986774409  -4.007649782427101",
          "type": "path"
         },
         {
          "layer": "below",
          "line": {
           "color": "rgb(210,210,210)",
           "width": 1
          },
          "path": "M -2.976854657849606 -2.6717665216180673, C -3.721068322312007 -3.339708152022584, -3.876910870710884 -3.1574613379365033, -4.652293044853061  -3.788953605523804",
          "type": "path"
         },
         {
          "layer": "below",
          "line": {
           "color": "rgb(210,210,210)",
           "width": 1
          },
          "path": "M -2.976854657849606 -2.6717665216180673, C -3.721068322312007 -3.339708152022584, -4.023836399869812 -2.967952261590934, -4.828603679843775  -3.5615427139091214",
          "type": "path"
         },
         {
          "layer": "below",
          "line": {
           "color": "rgb(210,210,210)",
           "width": 1
          },
          "path": "M -2.976854657849606 -2.6717665216180673, C -3.721068322312007 -3.339708152022584, -4.1615069763634365 -2.7716167999343724, -4.993808371636123  -3.325940159921247",
          "type": "path"
         },
         {
          "layer": "below",
          "line": {
           "color": "rgb(210,210,210)",
           "width": 1
          },
          "path": "M -2.976854657849606 -2.6717665216180673, C -3.721068322312007 -3.339708152022584, -4.289605953454106 -2.56890653082028, -5.147527144144927  -3.082687836984336",
          "type": "path"
         },
         {
          "layer": "below",
          "line": {
           "color": "rgb(210,210,210)",
           "width": 1
          },
          "path": "M -3.821617389844971 -1.1812029993335236, C -4.777021737306214 -1.4765037491669044, -4.407838699389523 -2.3602876943635667, -5.289406439267427  -2.8323452332362797",
          "type": "path"
         },
         {
          "layer": "below",
          "line": {
           "color": "rgb(210,210,210)",
           "width": 1
          },
          "path": "M -3.821617389844971 -1.1812029993335236, C -4.777021737306214 -1.4765037491669044, -4.515933275065218 -2.146240120573357, -5.419119930078261  -2.575488144688028",
          "type": "path"
         },
         {
          "layer": "below",
          "line": {
           "color": "rgb(210,210,210)",
           "width": 1
          },
          "path": "M -3.821617389844971 -1.1812029993335236, C -4.777021737306214 -1.4765037491669044, -4.700737321638186 -1.7038393800349434, -5.640884785965822  -2.0446072560419317",
          "type": "path"
         },
         {
          "layer": "below",
          "line": {
           "color": "rgb(210,210,210)",
           "width": 1
          },
          "path": "M -3.821617389844971 -1.1812029993335236, C -4.777021737306214 -1.4765037491669044, -4.842318849896678 -1.2457721123605705, -5.810782619876013  -1.4949265348326846",
          "type": "path"
         },
         {
          "layer": "below",
          "line": {
           "color": "rgb(210,210,210)",
           "width": 1
          },
          "path": "M -3.821617389844971 -1.1812029993335236, C -4.777021737306214 -1.4765037491669044, -4.970912884103364 -0.538539783725556, -5.965095460924037  -0.6462477404706671",
          "type": "path"
         },
         {
          "layer": "below",
          "line": {
           "color": "rgb(210,210,210)",
           "width": 1
          },
          "path": "M -3.9354734329043968 0.7155758931823245, C -4.919341791130496 0.8944698664779057, -4.9910164686585 -0.2995907368054723, -5.989219762390199  -0.3595088841665668",
          "type": "path"
         },
         {
          "layer": "below",
          "line": {
           "color": "rgb(210,210,210)",
           "width": 1
          },
          "path": "M -3.9354734329043968 0.7155758931823245, C -4.919341791130496 0.8944698664779056, -4.999640555396403 -0.05995262159021491, -5.999568666475684  -0.07194314590825789",
          "type": "path"
         },
         {
          "layer": "below",
          "line": {
           "color": "rgb(210,210,210)",
           "width": 1
          },
          "path": "M -3.9354734329043968 0.7155758931823245, C -4.919341791130496 0.8944698664779057, -4.996765308641218 0.1798233865759081, -5.996118370369462  0.2157880638910897",
          "type": "path"
         },
         {
          "layer": "below",
          "line": {
           "color": "rgb(210,210,210)",
           "width": 1
          },
          "path": "M -3.9354734329043968 0.7155758931823245, C -4.919341791130496 0.8944698664779057, -4.982397341552619 0.4191857951903827, -5.978876809863143  0.5030229542284592",
          "type": "path"
         },
         {
          "layer": "below",
          "line": {
           "color": "rgb(210,210,210)",
           "width": 1
          },
          "path": "M -3.9354734329043968 0.7155758931823245, C -4.919341791130496 0.8944698664779057, -4.956569700915337 0.6575840630429263, -5.9478836410984055  0.7891008756515117",
          "type": "path"
         },
         {
          "layer": "below",
          "line": {
           "color": "rgb(210,210,210)",
           "width": 1
          },
          "path": "M -3.9354734329043968 0.7155758931823245, C -4.919341791130496 0.8944698664779057, -4.919341791130496 0.8944698664779057, -5.903210149356595  1.0733638397734868",
          "type": "path"
         },
         {
          "layer": "below",
          "line": {
           "color": "rgb(210,210,210)",
           "width": 1
          },
          "path": "M -3.9354734329043968 0.7155758931823245, C -4.919341791130496 0.8944698664779057, -4.8707992375835865 1.1292983605563016, -5.844959085100304  1.3551580326675619",
          "type": "path"
         },
         {
          "layer": "below",
          "line": {
           "color": "rgb(210,210,210)",
           "width": 1
          },
          "path": "M -3.9354734329043968 0.7155758931823245, C -4.919341791130496 0.8944698664779057, -4.811053689703333 1.36152943221656, -5.7732644276439995  1.633835318659872",
          "type": "path"
         },
         {
          "layer": "below",
          "line": {
           "color": "rgb(210,210,210)",
           "width": 1
          },
          "path": "M -3.9354734329043968 0.7155758931823245, C -4.919341791130496 0.8944698664779057, -4.740242564164434 1.5906289425519073, -5.68829107699732  1.908754731062289",
          "type": "path"
         },
         {
          "layer": "below",
          "line": {
           "color": "rgb(210,210,210)",
           "width": 1
          },
          "path": "M -3.9354734329043968 0.7155758931823245, C -4.919341791130496 0.8944698664779057, -4.658528728824798 1.8160699553469868, -5.590234474589758  2.1792839464163842",
          "type": "path"
         },
         {
          "layer": "below",
          "line": {
           "color": "rgb(210,210,210)",
           "width": 1
          },
          "path": "M -3.9354734329043968 0.7155758931823245, C -4.919341791130496 0.8944698664779057, -4.566100128124268 2.0373339490480036, -5.479320153749123  2.4448007388576047",
          "type": "path"
         },
         {
          "layer": "below",
          "line": {
           "color": "rgb(210,210,210)",
           "width": 1
          },
          "path": "M -3.161207898853999 2.450870176125836, C -3.9515098735674985 3.0635877201572947, -4.4631693508063695 2.2539120093789493, -5.355803220967643  2.7046944112547395",
          "type": "path"
         },
         {
          "layer": "below",
          "line": {
           "color": "rgb(210,210,210)",
           "width": 1
          },
          "path": "M -3.161207898853999 2.450870176125836, C -3.9515098735674985 3.0635877201572947, -4.349973140957392 2.465305999860723, -5.21996776914887  2.9583671998328676",
          "type": "path"
         },
         {
          "layer": "below",
          "line": {
           "color": "rgb(210,210,210)",
           "width": 1
          },
          "path": "M -3.161207898853999 2.450870176125836, C -3.9515098735674985 3.0635877201572947, -4.226771853487409 2.671029707541011, -5.07212622418489  3.2052356490492127",
          "type": "path"
         },
         {
          "layer": "below",
          "line": {
           "color": "rgb(210,210,210)",
           "width": 1
          },
          "path": "M -3.161207898853999 2.450870176125836, C -3.9515098735674985 3.0635877201572947, -4.093848855305647 2.8706099612996256, -4.912618626366777  3.4447319535595513",
          "type": "path"
         },
         {
          "layer": "below",
          "line": {
           "color": "rgb(210,210,210)",
           "width": 1
          },
          "path": "M -3.161207898853999 2.450870176125836, C -3.9515098735674985 3.0635877201572947, -3.951509873567499 3.063587720157295, -4.7418118482809986  3.6763052641887537",
          "type": "path"
         },
         {
          "layer": "below",
          "line": {
           "color": "rgb(210,210,210)",
           "width": 1
          },
          "path": "M -3.161207898853999 2.450870176125836, C -3.9515098735674985 3.0635877201572947, -3.8000822924922715 3.2495191290845913, -4.560098750990726  3.89942295490151",
          "type": "path"
         },
         {
          "layer": "below",
          "line": {
           "color": "rgb(210,210,210)",
           "width": 1
          },
          "path": "M -3.161207898853999 2.450870176125836, C -3.9515098735674985 3.0635877201572947, -3.6399144003690096 3.4279765398827213, -4.367897280442811  4.113571847859266",
          "type": "path"
         },
         {
          "layer": "below",
          "line": {
           "color": "rgb(210,210,210)",
           "width": 1
          },
          "path": "M -3.161207898853999 2.450870176125836, C -3.9515098735674985 3.0635877201572947, -3.4713745884822393 3.598549494788111, -4.165649506178687  4.318259393745733",
          "type": "path"
         },
         {
          "layer": "below",
          "line": {
           "color": "rgb(210,210,210)",
           "width": 1
          },
          "path": "M -3.161207898853999 2.450870176125836, C -3.9515098735674985 3.0635877201572947, -3.2948505038002387 3.760845670538385, -3.953820604560286  4.513014804646062",
          "type": "path"
         },
         {
          "layer": "below",
          "line": {
           "color": "rgb(210,210,210)",
           "width": 1
          },
          "path": "M -2.33559279240131 3.2473075475050175, C -2.9194909905016377 4.059134434381272, -2.9194909905016373 4.059134434381272, -3.503389188601965  4.870961321257527",
          "type": "path"
         },
         {
          "layer": "below",
          "line": {
           "color": "rgb(210,210,210)",
           "width": 1
          },
          "path": "M -1.6735499375473248 3.6330745390833017, C -2.091937421934156 4.541343173854127, -2.091937421934156 4.541343173854127, -2.5103249063209874  5.449611808624953",
          "type": "path"
         },
         {
          "layer": "below",
          "line": {
           "color": "rgb(210,210,210)",
           "width": 1
          },
          "path": "M -0.5735749276538027 3.958662880615996, C -0.7169686595672533 4.948328600769995, -0.7169686595672533 4.948328600769995, -0.860362391480704  5.937994320923994",
          "type": "path"
         },
         {
          "layer": "below",
          "line": {
           "color": "rgb(210,210,210)",
           "width": 1
          },
          "path": "M 4.65229304485306 3.7889536055238056, C 5.427675218995237 4.420445873111107, 5.320115209489181 4.549326780718427, 6.080131667987636  5.1992306065353455",
          "type": "path"
         },
         {
          "layer": "below",
          "line": {
           "color": "rgb(210,210,210)",
           "width": 1
          },
          "path": "M 4.65229304485306 3.7889536055238056, C 5.427675218995237 4.420445873111107, 5.5321138229944955 4.289022808220215, 6.322415797707995  4.901740352251675",
          "type": "path"
         },
         {
          "layer": "below",
          "line": {
           "color": "rgb(210,210,210)",
           "width": 1
          },
          "path": "M 5.147527144144927 3.082687836984337, C 6.005448334835748 3.596469143148393, 6.005448334835749 3.5964691431483935, 6.863369525526569  4.110250449312449",
          "type": "path"
         },
         {
          "layer": "below",
          "line": {
           "color": "rgb(210,210,210)",
           "width": 1
          },
          "path": "M -1.976823105231598 -5.664995181871076, C -2.306293622770198 -6.609161045516255, -2.306293622770198 -6.609161045516255, -2.6357641403087975  -7.553326909161434",
          "type": "path"
         },
         {
          "layer": "below",
          "line": {
           "color": "rgb(210,210,210)",
           "width": 1
          },
          "path": "M -5.640884785965822 -2.0446072560419317, C -6.581032250293459 -2.3853751320489205, -6.248437091128916 -3.1554768131305306, -7.14107096129019  -3.606259215006321",
          "type": "path"
         },
         {
          "layer": "below",
          "line": {
           "color": "rgb(210,210,210)",
           "width": 1
          },
          "path": "M -5.640884785965822 -2.0446072560419317, C -6.581032250293459 -2.3853751320489205, -6.392540179373976 -2.852267528667207, -7.30576020499883  -3.259734318476808",
          "type": "path"
         },
         {
          "layer": "below",
          "line": {
           "color": "rgb(210,210,210)",
           "width": 1
          },
          "path": "M -5.640884785965822 -2.0446072560419317, C -6.581032250293459 -2.3853751320489205, -6.521940220354717 -2.542497937485783, -7.4536459661196774  -2.9057119285551805",
          "type": "path"
         },
         {
          "layer": "below",
          "line": {
           "color": "rgb(210,210,210)",
           "width": 1
          },
          "path": "M -5.640884785965822 -2.0446072560419317, C -6.581032250293459 -2.3853751320489205, -6.636339589830206 -2.2268805195726724, -7.584388102663093  -2.545006308083054",
          "type": "path"
         },
         {
          "layer": "below",
          "line": {
           "color": "rgb(210,210,210)",
           "width": 1
          },
          "path": "M -5.640884785965822 -2.0446072560419317, C -6.581032250293459 -2.3853751320489205, -6.735475165584665 -1.9061412051031859, -7.697685903525332  -2.178447091546498",
          "type": "path"
         },
         {
          "layer": "below",
          "line": {
           "color": "rgb(210,210,210)",
           "width": 1
          },
          "path": "M -5.640884785965822 -2.0446072560419317, C -6.581032250293459 -2.3853751320489205, -6.8191189326170205 -1.5810177047788239, -7.793278780133738  -1.8068773768900843",
          "type": "path"
         },
         {
          "layer": "below",
          "line": {
           "color": "rgb(210,210,210)",
           "width": 1
          },
          "path": "M -5.965095460924037 -0.6462477404706671, C -6.95927803774471 -0.7539556972157784, -6.887078507582696 -1.2522578130690636, -7.870946865808794  -1.431151786364644",
          "type": "path"
         },
         {
          "layer": "below",
          "line": {
           "color": "rgb(210,210,210)",
           "width": 1
          },
          "path": "M -5.965095460924037 -0.6462477404706671, C -6.95927803774471 -0.7539556972157784, -6.939197581281473 -0.9206176882600988, -7.930511521464539  -1.0521345008686842",
          "type": "path"
         },
         {
          "layer": "below",
          "line": {
           "color": "rgb(210,210,210)",
           "width": 1
          },
          "path": "M -5.965095460924037 -0.6462477404706671, C -6.95927803774471 -0.7539556972157784, -6.975356278173667 -0.5868601132665374, -7.9718357464841905  -0.6706972723046142",
          "type": "path"
         },
         {
          "layer": "below",
          "line": {
           "color": "rgb(210,210,210)",
           "width": 1
          },
          "path": "M -5.965095460924037 -0.6462477404706671, C -6.95927803774471 -0.7539556972157784, -6.995471432097705 -0.25175274120627306, -7.994824493825949  -0.28771741852145494",
          "type": "path"
         }
        ],
        "showlegend": false,
        "template": {
         "data": {
          "bar": [
           {
            "error_x": {
             "color": "#2a3f5f"
            },
            "error_y": {
             "color": "#2a3f5f"
            },
            "marker": {
             "line": {
              "color": "#E5ECF6",
              "width": 0.5
             }
            },
            "type": "bar"
           }
          ],
          "barpolar": [
           {
            "marker": {
             "line": {
              "color": "#E5ECF6",
              "width": 0.5
             }
            },
            "type": "barpolar"
           }
          ],
          "carpet": [
           {
            "aaxis": {
             "endlinecolor": "#2a3f5f",
             "gridcolor": "white",
             "linecolor": "white",
             "minorgridcolor": "white",
             "startlinecolor": "#2a3f5f"
            },
            "baxis": {
             "endlinecolor": "#2a3f5f",
             "gridcolor": "white",
             "linecolor": "white",
             "minorgridcolor": "white",
             "startlinecolor": "#2a3f5f"
            },
            "type": "carpet"
           }
          ],
          "choropleth": [
           {
            "colorbar": {
             "outlinewidth": 0,
             "ticks": ""
            },
            "type": "choropleth"
           }
          ],
          "contour": [
           {
            "colorbar": {
             "outlinewidth": 0,
             "ticks": ""
            },
            "colorscale": [
             [
              0,
              "#0d0887"
             ],
             [
              0.1111111111111111,
              "#46039f"
             ],
             [
              0.2222222222222222,
              "#7201a8"
             ],
             [
              0.3333333333333333,
              "#9c179e"
             ],
             [
              0.4444444444444444,
              "#bd3786"
             ],
             [
              0.5555555555555556,
              "#d8576b"
             ],
             [
              0.6666666666666666,
              "#ed7953"
             ],
             [
              0.7777777777777778,
              "#fb9f3a"
             ],
             [
              0.8888888888888888,
              "#fdca26"
             ],
             [
              1,
              "#f0f921"
             ]
            ],
            "type": "contour"
           }
          ],
          "contourcarpet": [
           {
            "colorbar": {
             "outlinewidth": 0,
             "ticks": ""
            },
            "type": "contourcarpet"
           }
          ],
          "heatmap": [
           {
            "colorbar": {
             "outlinewidth": 0,
             "ticks": ""
            },
            "colorscale": [
             [
              0,
              "#0d0887"
             ],
             [
              0.1111111111111111,
              "#46039f"
             ],
             [
              0.2222222222222222,
              "#7201a8"
             ],
             [
              0.3333333333333333,
              "#9c179e"
             ],
             [
              0.4444444444444444,
              "#bd3786"
             ],
             [
              0.5555555555555556,
              "#d8576b"
             ],
             [
              0.6666666666666666,
              "#ed7953"
             ],
             [
              0.7777777777777778,
              "#fb9f3a"
             ],
             [
              0.8888888888888888,
              "#fdca26"
             ],
             [
              1,
              "#f0f921"
             ]
            ],
            "type": "heatmap"
           }
          ],
          "heatmapgl": [
           {
            "colorbar": {
             "outlinewidth": 0,
             "ticks": ""
            },
            "colorscale": [
             [
              0,
              "#0d0887"
             ],
             [
              0.1111111111111111,
              "#46039f"
             ],
             [
              0.2222222222222222,
              "#7201a8"
             ],
             [
              0.3333333333333333,
              "#9c179e"
             ],
             [
              0.4444444444444444,
              "#bd3786"
             ],
             [
              0.5555555555555556,
              "#d8576b"
             ],
             [
              0.6666666666666666,
              "#ed7953"
             ],
             [
              0.7777777777777778,
              "#fb9f3a"
             ],
             [
              0.8888888888888888,
              "#fdca26"
             ],
             [
              1,
              "#f0f921"
             ]
            ],
            "type": "heatmapgl"
           }
          ],
          "histogram": [
           {
            "marker": {
             "colorbar": {
              "outlinewidth": 0,
              "ticks": ""
             }
            },
            "type": "histogram"
           }
          ],
          "histogram2d": [
           {
            "colorbar": {
             "outlinewidth": 0,
             "ticks": ""
            },
            "colorscale": [
             [
              0,
              "#0d0887"
             ],
             [
              0.1111111111111111,
              "#46039f"
             ],
             [
              0.2222222222222222,
              "#7201a8"
             ],
             [
              0.3333333333333333,
              "#9c179e"
             ],
             [
              0.4444444444444444,
              "#bd3786"
             ],
             [
              0.5555555555555556,
              "#d8576b"
             ],
             [
              0.6666666666666666,
              "#ed7953"
             ],
             [
              0.7777777777777778,
              "#fb9f3a"
             ],
             [
              0.8888888888888888,
              "#fdca26"
             ],
             [
              1,
              "#f0f921"
             ]
            ],
            "type": "histogram2d"
           }
          ],
          "histogram2dcontour": [
           {
            "colorbar": {
             "outlinewidth": 0,
             "ticks": ""
            },
            "colorscale": [
             [
              0,
              "#0d0887"
             ],
             [
              0.1111111111111111,
              "#46039f"
             ],
             [
              0.2222222222222222,
              "#7201a8"
             ],
             [
              0.3333333333333333,
              "#9c179e"
             ],
             [
              0.4444444444444444,
              "#bd3786"
             ],
             [
              0.5555555555555556,
              "#d8576b"
             ],
             [
              0.6666666666666666,
              "#ed7953"
             ],
             [
              0.7777777777777778,
              "#fb9f3a"
             ],
             [
              0.8888888888888888,
              "#fdca26"
             ],
             [
              1,
              "#f0f921"
             ]
            ],
            "type": "histogram2dcontour"
           }
          ],
          "mesh3d": [
           {
            "colorbar": {
             "outlinewidth": 0,
             "ticks": ""
            },
            "type": "mesh3d"
           }
          ],
          "parcoords": [
           {
            "line": {
             "colorbar": {
              "outlinewidth": 0,
              "ticks": ""
             }
            },
            "type": "parcoords"
           }
          ],
          "pie": [
           {
            "automargin": true,
            "type": "pie"
           }
          ],
          "scatter": [
           {
            "marker": {
             "colorbar": {
              "outlinewidth": 0,
              "ticks": ""
             }
            },
            "type": "scatter"
           }
          ],
          "scatter3d": [
           {
            "line": {
             "colorbar": {
              "outlinewidth": 0,
              "ticks": ""
             }
            },
            "marker": {
             "colorbar": {
              "outlinewidth": 0,
              "ticks": ""
             }
            },
            "type": "scatter3d"
           }
          ],
          "scattercarpet": [
           {
            "marker": {
             "colorbar": {
              "outlinewidth": 0,
              "ticks": ""
             }
            },
            "type": "scattercarpet"
           }
          ],
          "scattergeo": [
           {
            "marker": {
             "colorbar": {
              "outlinewidth": 0,
              "ticks": ""
             }
            },
            "type": "scattergeo"
           }
          ],
          "scattergl": [
           {
            "marker": {
             "colorbar": {
              "outlinewidth": 0,
              "ticks": ""
             }
            },
            "type": "scattergl"
           }
          ],
          "scattermapbox": [
           {
            "marker": {
             "colorbar": {
              "outlinewidth": 0,
              "ticks": ""
             }
            },
            "type": "scattermapbox"
           }
          ],
          "scatterpolar": [
           {
            "marker": {
             "colorbar": {
              "outlinewidth": 0,
              "ticks": ""
             }
            },
            "type": "scatterpolar"
           }
          ],
          "scatterpolargl": [
           {
            "marker": {
             "colorbar": {
              "outlinewidth": 0,
              "ticks": ""
             }
            },
            "type": "scatterpolargl"
           }
          ],
          "scatterternary": [
           {
            "marker": {
             "colorbar": {
              "outlinewidth": 0,
              "ticks": ""
             }
            },
            "type": "scatterternary"
           }
          ],
          "surface": [
           {
            "colorbar": {
             "outlinewidth": 0,
             "ticks": ""
            },
            "colorscale": [
             [
              0,
              "#0d0887"
             ],
             [
              0.1111111111111111,
              "#46039f"
             ],
             [
              0.2222222222222222,
              "#7201a8"
             ],
             [
              0.3333333333333333,
              "#9c179e"
             ],
             [
              0.4444444444444444,
              "#bd3786"
             ],
             [
              0.5555555555555556,
              "#d8576b"
             ],
             [
              0.6666666666666666,
              "#ed7953"
             ],
             [
              0.7777777777777778,
              "#fb9f3a"
             ],
             [
              0.8888888888888888,
              "#fdca26"
             ],
             [
              1,
              "#f0f921"
             ]
            ],
            "type": "surface"
           }
          ],
          "table": [
           {
            "cells": {
             "fill": {
              "color": "#EBF0F8"
             },
             "line": {
              "color": "white"
             }
            },
            "header": {
             "fill": {
              "color": "#C8D4E3"
             },
             "line": {
              "color": "white"
             }
            },
            "type": "table"
           }
          ]
         },
         "layout": {
          "annotationdefaults": {
           "arrowcolor": "#2a3f5f",
           "arrowhead": 0,
           "arrowwidth": 1
          },
          "autotypenumbers": "strict",
          "coloraxis": {
           "colorbar": {
            "outlinewidth": 0,
            "ticks": ""
           }
          },
          "colorscale": {
           "diverging": [
            [
             0,
             "#8e0152"
            ],
            [
             0.1,
             "#c51b7d"
            ],
            [
             0.2,
             "#de77ae"
            ],
            [
             0.3,
             "#f1b6da"
            ],
            [
             0.4,
             "#fde0ef"
            ],
            [
             0.5,
             "#f7f7f7"
            ],
            [
             0.6,
             "#e6f5d0"
            ],
            [
             0.7,
             "#b8e186"
            ],
            [
             0.8,
             "#7fbc41"
            ],
            [
             0.9,
             "#4d9221"
            ],
            [
             1,
             "#276419"
            ]
           ],
           "sequential": [
            [
             0,
             "#0d0887"
            ],
            [
             0.1111111111111111,
             "#46039f"
            ],
            [
             0.2222222222222222,
             "#7201a8"
            ],
            [
             0.3333333333333333,
             "#9c179e"
            ],
            [
             0.4444444444444444,
             "#bd3786"
            ],
            [
             0.5555555555555556,
             "#d8576b"
            ],
            [
             0.6666666666666666,
             "#ed7953"
            ],
            [
             0.7777777777777778,
             "#fb9f3a"
            ],
            [
             0.8888888888888888,
             "#fdca26"
            ],
            [
             1,
             "#f0f921"
            ]
           ],
           "sequentialminus": [
            [
             0,
             "#0d0887"
            ],
            [
             0.1111111111111111,
             "#46039f"
            ],
            [
             0.2222222222222222,
             "#7201a8"
            ],
            [
             0.3333333333333333,
             "#9c179e"
            ],
            [
             0.4444444444444444,
             "#bd3786"
            ],
            [
             0.5555555555555556,
             "#d8576b"
            ],
            [
             0.6666666666666666,
             "#ed7953"
            ],
            [
             0.7777777777777778,
             "#fb9f3a"
            ],
            [
             0.8888888888888888,
             "#fdca26"
            ],
            [
             1,
             "#f0f921"
            ]
           ]
          },
          "colorway": [
           "#636efa",
           "#EF553B",
           "#00cc96",
           "#ab63fa",
           "#FFA15A",
           "#19d3f3",
           "#FF6692",
           "#B6E880",
           "#FF97FF",
           "#FECB52"
          ],
          "font": {
           "color": "#2a3f5f"
          },
          "geo": {
           "bgcolor": "white",
           "lakecolor": "white",
           "landcolor": "#E5ECF6",
           "showlakes": true,
           "showland": true,
           "subunitcolor": "white"
          },
          "hoverlabel": {
           "align": "left"
          },
          "hovermode": "closest",
          "mapbox": {
           "style": "light"
          },
          "paper_bgcolor": "white",
          "plot_bgcolor": "#E5ECF6",
          "polar": {
           "angularaxis": {
            "gridcolor": "white",
            "linecolor": "white",
            "ticks": ""
           },
           "bgcolor": "#E5ECF6",
           "radialaxis": {
            "gridcolor": "white",
            "linecolor": "white",
            "ticks": ""
           }
          },
          "scene": {
           "xaxis": {
            "backgroundcolor": "#E5ECF6",
            "gridcolor": "white",
            "gridwidth": 2,
            "linecolor": "white",
            "showbackground": true,
            "ticks": "",
            "zerolinecolor": "white"
           },
           "yaxis": {
            "backgroundcolor": "#E5ECF6",
            "gridcolor": "white",
            "gridwidth": 2,
            "linecolor": "white",
            "showbackground": true,
            "ticks": "",
            "zerolinecolor": "white"
           },
           "zaxis": {
            "backgroundcolor": "#E5ECF6",
            "gridcolor": "white",
            "gridwidth": 2,
            "linecolor": "white",
            "showbackground": true,
            "ticks": "",
            "zerolinecolor": "white"
           }
          },
          "shapedefaults": {
           "line": {
            "color": "#2a3f5f"
           }
          },
          "ternary": {
           "aaxis": {
            "gridcolor": "white",
            "linecolor": "white",
            "ticks": ""
           },
           "baxis": {
            "gridcolor": "white",
            "linecolor": "white",
            "ticks": ""
           },
           "bgcolor": "#E5ECF6",
           "caxis": {
            "gridcolor": "white",
            "linecolor": "white",
            "ticks": ""
           }
          },
          "title": {
           "x": 0.05
          },
          "xaxis": {
           "automargin": true,
           "gridcolor": "white",
           "linecolor": "white",
           "ticks": "",
           "title": {
            "standoff": 15
           },
           "zerolinecolor": "white",
           "zerolinewidth": 2
          },
          "yaxis": {
           "automargin": true,
           "gridcolor": "white",
           "linecolor": "white",
           "ticks": "",
           "title": {
            "standoff": 15
           },
           "zerolinecolor": "white",
           "zerolinewidth": 2
          }
         }
        },
        "title": {
         "text": "Gilbert Strang's Descendants in the Mathematics Genealogy Project",
         "x": 0.5
        },
        "width": 725,
        "xaxis": {
         "visible": false
        },
        "yaxis": {
         "visible": false
        }
       }
      },
      "text/html": [
       "<html>\n",
       "<head><meta chartset=\"utf-8\" /></head>\n",
       "<body>\n",
       "<div>\n",
       "    <script src=\"https://cdnjs.cloudflare.com/ajax/libs/mathjax/2.7.5/MathJax.js?config=TeX-AMS-MML_SVG\"></script>\n",
       "    <script type=\"text/javascript\">\n",
       "window.PlotlyConfig = {MathJaxConfig: 'local'};\n",
       "</script>\n",
       "<script type=\"text/javascript\">\n",
       "if (window.MathJax) {MathJax.Hub.Config({SVG: {font: \"STIX-Web\"}});}\n",
       "</script>\n",
       "<script type=\"text/javascript\">\n",
       "    if (typeof require !== 'undefined') {\n",
       "        require.undef(\"plotly\");\n",
       "        requirejs.config({\n",
       "            paths: {\n",
       "                'plotly': ['https://cdn.plot.ly/plotly-2.3.0.min']\n",
       "            }\n",
       "        });\n",
       "        require(['plotly'], function(Plotly) {\n",
       "            window._Plotly = Plotly;\n",
       "        });\n",
       "    }\n",
       "</script>\n",
       "\n",
       "    <div\n",
       "        id=8dd7bfa9-35e7-4a56-833d-be5961046ce7\n",
       "        class=\"plotly-graph-div\"\n",
       "        style=\"height:675; width:725;\">\n",
       "    </div>\n",
       "    <script type=\"text/javascript\">\n",
       "        require([\"plotly\"], function(Plotly) {\n",
       "        window.PLOTLYENV = window.PLOTLYENV || {}\n",
       "        \n",
       "        if (document.getElementById('8dd7bfa9-35e7-4a56-833d-be5961046ce7')) {\n",
       "    Plotly.newPlot(\n",
       "        '8dd7bfa9-35e7-4a56-833d-be5961046ce7',\n",
       "        [{\"x\":[0.0,1.2246467991473532e-16,0.0958897180846165,0.28678746382690196,0.3813564205519613,0.47504824528901746,0.5676474438387792,0.7487190408188883,0.9015648037515809,1.0480625917608257,1.187180904636374,1.3885498353928958,1.7250138543601774,1.9339051828833171,1.9997753486368375,1.8883317272903584,-1.4057094121346396,-1.9509929036329394,-1.8454564237972781,-1.550764348284354,-1.048062591760827,-0.09588971808461763,-3.6739403974420594e-16,0.5735749276538039,0.7627128411039226,0.9500964905780349,1.1352948876775584,1.3178820701544,1.4974380816377766,1.6735499375473244,1.8458125749708711,2.0138297843221102,2.1772151206353483,2.3355927924013096,2.63588040304019,2.7770996707857916,2.9119315202952065,3.1612078988539976,3.275079084244518,3.381417482789928,3.479978512765912,3.5705354806450944,3.652880102499415,5.903210149356595,3.7921940513315464,3.896639390066869,3.792194051331546,3.7268229830598396,3.6528801024994144,3.5705354806450944,3.479978512765912,3.3814174827899275,3.275079084244518,3.1612078988539984,3.040065833993817,2.911931520295207,2.7770996707857907,2.635880403040191,2.4885985258996515,2.3355927924013096,2.1772151206353483,2.0138297843221116,1.8458125749708711,1.6735499375473244,1.497438081637776,1.3178820701543992,1.1352948876775593,0.950096490578034,0.7627128411039235,0.5735749276538039,0.38311777348962023,0.191779436169233,2.4492935982947064e-16,-0.38311777348961973,-0.5735749276538035,-0.7627128411039229,-0.9500964905780336,-1.3178820701543987,-1.497438081637777,-1.673549937547324,-2.01382978432211,-2.976854657849606,-3.821617389844971,-3.9354734329043968,-3.8966393900668694,-3.8216173898449712,-3.7605898573105474,-3.6909128475945563,-3.6127466200521745,-3.52627095951162,-3.381417482789927,-3.161207898853999,-3.0400658339938174,-2.9119315202952074,-2.777099670785791,-2.635880403040191,-2.33559279240131,-2.17721512063535,-2.013829784322114,-1.6735499375473248,-1.497438081637778,-1.3178820701543996,-1.1352948876775597,-0.9500964905780346,-0.5735749276538027,-0.3831177734896207,-0.19177943616923526,0.8603623914807059,1.1440692616558839,1.4251447358670524,3.953820604560285,4.268000637034252,4.65229304485306,4.828603679843775,5.147527144144927,5.844959085100303,5.947883641098405,5.978876809863143,5.996118370369462,5.999568666475684,5.989219762390199,5.965095460924037,5.927251248743647,5.875774168749775,5.810782619876014,5.732426084767457,5.640884785965822,5.536369271391836,5.41911993007826,5.289406439267429,5.147527144144927,4.993808371636125,4.828603679843776,4.65229304485306,4.465281986774407,4.268000637034251,4.06090274905896,-0.4312969246679339,-0.7177259046017457,-1.976823105231598,-2.6402810849289766,-2.895564375532403,-3.144187775282478,-3.385579442392519,-3.6191841682926817,-3.844464654627421,-4.060902749058959,-4.268000637034249,-4.465281986774409,-4.652293044853061,-4.828603679843775,-4.993808371636123,-5.147527144144927,-5.289406439267427,-5.419119930078261,-5.640884785965822,-5.810782619876013,-5.965095460924037,-5.989219762390199,-5.999568666475684,-5.996118370369462,-5.978876809863143,-5.9478836410984055,-5.903210149356595,-5.844959085100304,-5.7732644276439995,-5.68829107699732,-5.590234474589758,-5.479320153749123,-5.355803220967643,-5.21996776914887,-5.07212622418489,-4.912618626366777,-4.7418118482809986,-4.560098750990726,-4.367897280442811,-4.165649506178687,-3.953820604560286,-3.503389188601965,-2.5103249063209874,-0.860362391480704,6.080131667987636,6.322415797707995,6.863369525526569,-2.6357641403087975,-7.14107096129019,-7.30576020499883,-7.4536459661196774,-7.584388102663093,-7.697685903525332,-7.793278780133738,-7.870946865808794,-7.930511521464539,-7.9718357464841905,-7.994824493825949],\"mode\":\"markers\",\"y\":[-0.0,2.0,1.9976999679545606,1.9793314403079978,1.9633051929090892,1.942763280651512,1.9177529505917335,1.8545672805037956,1.7852677403225472,1.7033980168332887,1.6095345599479252,1.439419797915244,1.0120905109057414,0.5099124862337101,-0.029975906732158566,-0.6589410350771999,-1.422666879011417,-0.4400303284705638,0.7709024502914493,1.262984535174601,1.7033980168332878,1.9976999679545606,2.0,3.9586628806159956,3.9266103858181785,3.885526561303024,3.835505901183467,3.7766634545807167,3.709134561007591,3.6330745390833017,3.5486583292956513,3.4560800916323053,3.3555527590066,3.2473075475050175,3.0086765364307086,2.878839595830488,2.7423812319061778,2.4508701761258376,2.296487969039701,2.1368237660328067,1.972244799888582,1.8031296075031615,1.6298671592384035,1.0733638397734862,1.2725031540415266,0.9034386884450425,-1.2725031540415273,-1.452855964277588,-1.6298671592384044,-1.8031296075031615,-1.972244799888582,-2.1368237660328075,-2.296487969039701,-2.4508701761258362,-2.599615303267673,-2.7423812319061778,-2.878839595830489,-3.008676536430708,-3.1315934245827766,-3.2473075475050175,-3.3555527590066,-3.4560800916323045,-3.5486583292956513,-3.6330745390833017,-3.709134561007591,-3.776663454580717,-3.835505901183467,-3.885526561303024,-3.926610385818178,-3.9586628806159956,-3.9816103239313057,-3.9953999359091212,-4.0,-3.9816103239313057,-3.958662880615996,-3.926610385818178,-3.885526561303024,-3.776663454580717,-3.7091345610075908,-3.633074539083302,-3.4560800916323053,-2.6717665216180673,-1.1812029993335236,0.7155758931823245,0.9034386884450412,1.1812029993335225,1.363071504027957,1.5418049005828987,1.7169920964586844,1.8882301554908492,2.1368237660328084,2.450870176125836,2.599615303267673,2.7423812319061773,2.8788395958304887,3.0086765364307078,3.2473075475050175,3.3555527590065988,3.456080091632303,3.6330745390833017,3.7091345610075908,3.7766634545807167,3.835505901183467,3.885526561303024,3.958662880615996,3.9816103239313057,3.9953999359091212,5.937994320923993,5.889915578727267,5.828289841954536,4.513014804646063,4.217128236403918,3.7889536055238056,3.5615427139091214,3.082687836984337,1.3551580326675636,0.789100875651515,0.5030229542284587,0.21578806389108646,-0.0719431459082585,-0.3595088841665647,-0.6462477404706664,-0.9315002062623942,-1.214610191729385,-1.49492653483268,-1.7718044990002833,-2.0446072560419326,-2.312707350874346,-2.5754881446880296,-2.8323452332362766,-3.0826878369843356,-3.3259401599212444,-3.5615427139091205,-3.7889536055238056,-4.0076497824271025,-4.217128236403919,-4.41690716029728,-5.984478503827379,-5.95691778740177,-5.664995181871076,-5.387848902165526,-5.255064885151052,-5.1101940504998655,-4.953569605774119,-4.785551792215774,-4.6065270561802265,-4.4169071602972805,-4.217128236403921,-4.007649782427101,-3.788953605523804,-3.5615427139091214,-3.325940159921247,-3.082687836984336,-2.8323452332362797,-2.575488144688028,-2.0446072560419317,-1.4949265348326846,-0.6462477404706671,-0.3595088841665668,-0.07194314590825789,0.2157880638910897,0.5030229542284592,0.7891008756515117,1.0733638397734868,1.3551580326675619,1.633835318659872,1.908754731062289,2.1792839464163842,2.4448007388576047,2.7046944112547395,2.9583671998328676,3.2052356490492127,3.4447319535595513,3.6763052641887537,3.89942295490151,4.113571847859266,4.318259393745733,4.513014804646062,4.870961321257527,5.449611808624953,5.937994320923994,5.1992306065353455,4.901740352251675,4.110250449312449,-7.553326909161434,-3.606259215006321,-3.259734318476808,-2.9057119285551805,-2.545006308083054,-2.178447091546498,-1.8068773768900843,-1.431151786364644,-1.0521345008686842,-0.6706972723046142,-0.28771741852145494],\"type\":\"scatter\",\"name\":\" \",\"hoverinfo\":\"text\",\"text\":[\"W. Gilbert (William) Strang <br>University of California, Los Angeles (1959)\",\"Alan Eric Berger <br>Massachusetts Institute of Technology (1972)\",\"Dmitri  Betaneli <br>Massachusetts Institute of Technology (1998)\",\"Edmund Harry Christiansen <br>Massachusetts Institute of Technology (1976)\",\"Thomas Wallace Colthurst <br>Massachusetts Institute of Technology (1997)\",\"Deanne  Dickinson <br>Massachusetts Institute of Technology (1966)\",\"George I-Pan Fann <br>Massachusetts Institute of Technology (2000)\",\"Hermann  Flaschka <br>Massachusetts Institute of Technology (1970)\",\"Michael Arthur Goldberg <br>Massachusetts Institute of Technology (1972)\",\"David  Gorsich <br>Massachusetts Institute of Technology (2000)\",\"Pavel  Greenfield <br>Massachusetts Institute of Technology (2003)\",\"Richard Bruce Holmes <br>Massachusetts Institute of Technology (1964)\",\"John Henry Doles, III <br>Massachusetts Institute of Technology (1969)\",\"Jay Elliot Israel <br>Massachusetts Institute of Technology (1968)\",\"Xiangwei  Liu <br>Massachusetts Institute of Technology (2001)\",\"Hermann Georg Matthies <br>Massachusetts Institute of Technology (1978)\",\"John James Henry Miller <br>Massachusetts Institute of Technology (1965)\",\"Edward Wesler Packel <br>Massachusetts Institute of Technology (1967)\",\"Per-Olof  Persson <br>Massachusetts Institute of Technology (2005)\",\"Robert  Rubinstein <br>Massachusetts Institute of Technology (1972)\",\"L. Ridgway (Larkin) Scott <br>Massachusetts Institute of Technology (1973)\",\"Jianhong Jackie Shen <br>Massachusetts Institute of Technology (1998)\",\"Vasily V. Strela <br>Massachusetts Institute of Technology (1996)\",\"Knud Dalgaard Andersen <br>University of Southern Denmark (1995)\",\"Pantelis Andrea Damianou <br>University of Arizona (1989)\",\"Luis C. Garcia-Naranjo <br>University of Arizona (2007)\",\"Mohamed Lemine Ould El Hadrami <br>University of Arizona (1996)\",\"Erin Mari McNicholas <br>University of Arizona (2006)\",\"Randolph  Schilling <br>University of Arizona (1982)\",\"Francisco Javier Solis <br>University of Arizona (1993)\",\"Adam  Spiegler <br>University of Arizona (2006)\",\"Bole  Yang <br>University of Arizona (2013)\",\"Maorong  Zou <br>University of Arizona (1992)\",\"Joseph Michael Lambert <br>Purdue University (1970)\",\"Dennis Dale Pence <br>Purdue University (1976)\",\"Edward Ralph Rozema <br>Purdue University (1972)\",\"Bruce Edward Scranton <br>Purdue University (1974)\",\"Joseph Dinneen Ward <br>Purdue University (1973)\",\"Emanuele  El Basri <br>Technische Universität Carolo-Wilhelmina zu Braunschweig and Università degli Studi di Firenze (2017)\",\"Marcel  Bieri <br>ETH Zürich (2009)\",\"Angela  Bischoff <br>Technische Universität Carolo-Wilhelmina zu Braunschweig (1996)\",\"Valentina  Chiarello <br>Technische Universität Carolo-Wilhelmina zu Braunschweig and Università degli Studi di Firenze (2016)\",\"Alberto  Ciavattone <br>Technische Universität Carolo-Wilhelmina zu Braunschweig and Università degli Studi di Firenze (2014)\",\"Antonio  Fazzolari <br>Technische Universität Carolo-Wilhelmina zu Braunschweig (2005)\",\"Jens  Faßbender <br>Technische Universität Carolo-Wilhelmina zu Braunschweig (2003)\",\"Thomas-Peter  Fries <br>Technische Universität Carolo-Wilhelmina zu Braunschweig (2005)\",\"Nicolas Ralph Gauger <br>Technische Universität Carolo-Wilhelmina zu Braunschweig (2003)\",\"Thorsten  Grahs <br>Technische Universität Carolo-Wilhelmina zu Braunschweig (2002)\",\"Martin  Hautefeuille <br>Technische Universität Carolo-Wilhelmina zu Braunschweig and Université de Technologie de Compiègne (2009)\",\"Christian  Heimann <br>Technische Universität Carolo-Wilhelmina zu Braunschweig (2001)\",\"Alicia Guadalupe née Ortega Camarena Jürgens-Ortega <br>Technische Universität Carolo-Wilhelmina zu Braunschweig and Università degli Studi di Firenze (2010)\",\"Christophe  Kassiotis <br>Technische Universität Carolo-Wilhelmina zu Braunschweig and École Normale Supérieure de Cachan and Université Paris-Est (2009)\",\"Oliver  Kayser-Herold <br>Technische Universität Carolo-Wilhelmina zu Braunschweig (2006)\",\"Andreas  Keese <br>Technische Universität Carolo-Wilhelmina zu Braunschweig (2004)\",\"Martin  Krosche <br>Technische Universität Carolo-Wilhelmina zu Braunschweig (2012)\",\"Christian  Lenz <br>Technische Universität Carolo-Wilhelmina zu Braunschweig (2018)\",\"Dishi  Liu <br>Technische Universität Carolo-Wilhelmina zu Braunschweig and Università degli Studi di Firenze (2009)\",\"Marcus  Meyer <br>Technische Universität Carolo-Wilhelmina zu Braunschweig (2002)\",\"Oliver  Pajonk <br>Technische Universität Carolo-Wilhelmina zu Braunschweig (2012)\",\"Bojana V. RosiÄ‡ <br>Technische Universität Carolo-Wilhelmina zu Braunschweig and University of Kragujevac (2012)\",\"Tarin  Srisupattarawanit <br>Technische Universität Carolo-Wilhelmina zu Braunschweig (2007)\",\"Giovanni  Stabile <br>Technische Universität Carolo-Wilhelmina zu Braunschweig and Università degli Studi di Firenze (2016)\",\"Jan  Steindorf <br>Technische Universität Carolo-Wilhelmina zu Braunschweig (2002)\",\"Ngoc Trinh Tran <br>Technische Universität Carolo-Wilhelmina zu Braunschweig (2018)\",\"Ngoc Trinh Tran <br>Technische Universität Carolo-Wilhelmina zu Braunschweig (2018)\",\"Marcel  Wallraff <br>Technische Universität Carolo-Wilhelmina zu Braunschweig (2015)\",\"Elmar Klaus Zander <br>Technische Universität Carolo-Wilhelmina zu Braunschweig (2012)\",\"Gerald A. Bonner <br>Trinity College, Dublin (1985)\",\"John  Bradley <br>Trinity College, Dublin (1975)\",\"John Simon Butler <br>(2005)\",\"John  Carroll <br>Trinity College, Dublin (1983)\",\"Edward P. Doolan <br>Trinity College, Dublin (1980)\",\"Daniel J. Duffy <br>Trinity College, Dublin (1980)\",\"Paul A. Farrell <br>Trinity College, Dublin (1983)\",\"Liu  Fawang <br>Trinity College, Dublin (1991)\",\"Nial  Ferguson <br>Trinity College, Dublin (1990)\",\"Conor J. Fitzsimons <br>Trinity College, Dublin (1986)\",\"Alan F. Hegarty <br>Trinity College, Dublin (1986)\",\"Seán P. Mulligan <br>Trinity College, Dublin (1991)\",\"Maurice J. O'Reilly <br>Trinity College, Dublin (1983)\",\"Eugene  O'Riordan <br>Trinity College, Dublin (1982)\",\"W. H. A. (Willy) Schilders <br>Trinity College, Dublin (1980)\",\"Suwon  Tangmanee <br>Trinity College, Dublin (1977)\",\"Song  Wang <br>Trinity College, Dublin (1989)\",\"Changhui  Wu <br>Trinity College, Dublin (1990)\",\"Meire  Fortunato <br>University of California, Berkeley (2016)\",\"Bradley  Froehle <br>University of California, Berkeley (2013)\",\"Danny  Hermes <br>University of California, Berkeley (2018)\",\"Will E.  Pazner <br>Brown University (2018)\",\"Luming  Wang <br>University of California, Berkeley (2015)\",\"Babak  Bagheri <br>The Pennsylvania State University (1994)\",\"Susanne Cecelia Brenner <br>University of Michigan (1988)\",\"Peter  Brune <br>The University of Chicago (2011)\",\"Terry William Clark <br>University of Houston (1996)\",\"James  Crooks <br>The University of Chicago (2015)\",\"Sanjay  Datta <br>University of Houston (2000)\",\"Andrei  Draganescu <br>The University of Chicago (2004)\",\"Cristina Iolanda Draghicescu <br>The Pennsylvania State University (1991)\",\"Ernesto  Gomez <br>The University of Chicago (2005)\",\"Lorenzo Hector Juarez <br>University of Houston (1996)\",\"Jing  Liu <br>The University of Chicago (2006)\",\"Matthew  Rocklin <br>The University of Chicago (2013)\",\"Andy Ray Terrel <br>The University of Chicago (2010)\",\"Suming  Wu <br>University of Houston (1998)\",\"Dexuan  Xie <br>University of Houston (1995)\",\"Shangyou  Zhang <br>The Pennsylvania State University (1988)\",\"Yoon Mo  Jung <br>University of Minnesota-Minneapolis (2007)\",\"Kyriacos  Constandinidis <br>University of Cyprus (2008)\",\"Charalampos Andrea Evripidou <br>University of Cyprus (2014)\",\"Stelios P. Kouzaris <br>University of Cyprus (2002)\",\"Thomas B. Sprague <br>Western Michigan University (1990)\",\"Edward Jules Fuselier <br>Texas A&M University (2006)\",\"Quoc Thong  Le Gia <br>Texas A&M University (2003)\",\"Svenja  Lowitzsch <br>Texas A&M University (2002)\",\"John Paul  Ward <br>Texas A&M University (2010)\",\"Kwok-Wah  Cheng <br>Rheinisch-Westfälische Technische Hochschule Aachen (2011)\",\"Mohammad  Abu-Zurayk <br>Rheinisch-Westfälische Technische Hochschule Aachen (2016)\",\"Mikko J. S. Auvinen <br>Aalto-yliopisto (2014)\",\"Maarten  Blommaert <br>Rheinisch-Westfälische Technische Hochschule Aachen (2016)\",\"Torsten Falko Bosse <br>Humboldt-Universität zu Berlin (2014)\",\"Angelo  Carnarius <br>Technische Universität Berlin (2013)\",\"Ignacio  de Mateo Garcia <br>Humboldt-Universität zu Berlin (2011)\",\"Stefanie  Günther <br>Rheinisch-Westfälische Technische Hochschule Aachen (2017)\",\"Lars Stefan Hüttenberger <br>Technische Universität Kaiserslautern (2018)\",\"Lena  Kaland <br>Rheinisch-Westfälische Technische Hochschule Aachen (2013)\",\"Kshitij  Kulshreshtha <br>Humboldt-Universität zu Berlin (2010)\",\"Johannes  Lotz <br>Rheinisch-Westfälische Technische Hochschule Aachen (2016)\",\"Saurya Ranjan Ray <br>Rheinisch-Westfälische Technische Hochschule Aachen (2013)\",\"Rolf  Roth <br>Technische Universität Darmstadt (2012)\",\"Max  Sagebaum <br>Technische Universität Kaiserslautern (2018)\",\"Maria  Schütte <br>Universität Paderborn (2016)\",\"Martin  Siebenborn <br>Universität Trier (2014)\",\"Matthias  Sonntag <br>Universität Stuttgart (2017)\",\"Electra  Stavropoulou <br>Technische Universität München (2015)\",\"Alexander  Vendl <br>Technische Universität Carolo-Wilhelmina zu Braunschweig (2013)\",\"Yuxiang Beckett Zhou <br>Rheinisch-Westfälische Technische Hochschule Aachen (2018)\",\"Emre  Özkaya <br>Rheinisch-Westfälische Technische Hochschule Aachen (2014)\",\"Daniel M. Bennett <br>Kent State University (2010)\",\"Reinhardt R. Zeller <br>Kent State University (1994)\",\"Ali R. Ansari <br>University of Limerick (2001)\",\"Raymond K Dunne <br>Dublin City University (2005)\",\"Helen  MacMullen <br>Dublin City University (2000)\",\"Maria Louise Pickett <br>Dublin City University (2005)\",\"Jason  Quinn <br>Dublin City University (2012)\",\"Nicodemus  Banagaaya <br>Technische Universiteit Eindhoven (2014)\",\"P. J.  Heres <br>Technische Universiteit Eindhoven (2005)\",\"Stephan H. M. J. Houben <br>Technische Universiteit Eindhoven (2003)\",\"Zoran  Ilievski <br>Technische Universiteit Eindhoven (2010)\",\"Roxana  Ionutiu <br>Technische Universiteit Eindhoven (2012)\",\"J. M. B.  Kroot <br>Technische Universiteit Eindhoven (2005)\",\"Agnieszka  Lutowska <br>Technische Universiteit Eindhoven (2012)\",\"Geran N. Peeren <br>Technische Universiteit Eindhoven (2003)\",\"Maria  Ugryumova <br>Technische Universiteit Eindhoven (2011)\",\"Varaporn  Karnchanathawee <br>King Mongkut's University of Technology Thonburi (2007)\",\"Sureerat Areeruksakul Konglok <br>King Mongkut's University of Technology Thonburi (2007)\",\"Nopparat  Pochai <br>King Mongkut's University of Technology Thonburi (2008)\",\"Montri  Thongmoon <br>King Mongkut's University of Technology Thonburi (2007)\",\"Supot  Witayangkurn <br>Suranaree University of Technology (2002)\",\"Hamood  Alwardi <br>University of Western Australia (2010)\",\"Wen  Chen <br>University of Western Australia\",\"Hartono  Hartono <br>University of Western Australia (2012)\",\"Weirong  Lee <br>Curtin University of Technology, Perth (1999)\",\"Donny Citra Lesmana <br>University of Western Australia (2014)\",\"Wen  Li <br>University of Western Australia (2010)\",\"Shalela  Mohd-Mahali <br>University of Western Australia (2012)\",\"Ranga  Muhandiramge <br>University of Western Australia (2008)\",\"Steven James Richardson <br>University of Western Australia (2007)\",\"Meiyi  Tan <br>University of Western Australia (2012)\",\"Kai  Zhang <br>The Hong Kong Polytechnic University (2006)\",\"Jintao  Cui <br>Louisiana State University (2010)\",\"Shiyuan  Gu <br>Louisiana State University (2012)\",\"Qingmi  He <br>University of South Carolina (2000)\",\"Zhe  Nan <br>Louisiana State University (2013)\",\"Luke  Owens <br>University of South Carolina (2007)\",\"Armin Karl Reiser <br>Louisiana State University (2011)\",\"Kening  Wang <br>University of South Carolina (2006)\",\"Yi  Zhang <br>Louisiana State University (2013)\",\"Jie  Zhao <br>University of South Carolina (2004)\",\"Jyoti  Saraswat <br>University of Maryland Baltimore County (2014)\",\"Ciro Filemon Flores <br>Universidad Autónoma Metropolitana-Iztapalapa (2009)\",\"Mazen George Zarrouk <br>University of Wisconsin-Milwaukee (2010)\",\"Andrew  Chernih <br>University of New South Wales (2013)\",\"Yoshihito  Kazashi <br>University of New South Wales (2018)\",\"Kyriaki  Giorgakoudi <br>Loughborough University (2014)\",\"Bayezid  Hossain <br>University of Limerick (2004)\",\"Witsarut  Kraychang <br>King Mongkut's Institute of Technology Ladkrabang (2015)\",\"Pravitra  Oyjinda <br>King Mongkut's Institute of Technology Ladkrabang (2018)\",\"Nuttawut  Pongnu <br>King Mongkut's Institute of Technology Ladkrabang (2017)\",\"Pawarisa  Samalerk <br>King Mongkut's Institute of Technology Ladkrabang (2017)\",\"Kanawoot  Subklay <br>King Mongkut's Institute of Technology Ladkrabang (2017)\",\"Kewalee  Suebyat <br>King Mongkut's Institute of Technology Ladkrabang (2018)\",\"Wiratchada  Kalaoka <br>Khon Kaen University (2016)\",\"Paweena  Khansila <br>Khon Kaen University (2016)\",\"Achariya  Namprai <br>Khon Kaen University (2015)\",\"Pensiri  Sompong <br>Khon Kaen University (2014)\"],\"marker\":{\"color\":\"rgb(255, 200, 0)\",\"line\":{\"color\":\"rgb(255, 200, 0)\",\"width\":0.5},\"size\":5}}],\n",
       "        {\"showlegend\":false,\"xaxis\":{\"visible\":false},\"template\":{\"layout\":{\"coloraxis\":{\"colorbar\":{\"ticks\":\"\",\"outlinewidth\":0}},\"xaxis\":{\"gridcolor\":\"white\",\"zerolinewidth\":2,\"title\":{\"standoff\":15},\"ticks\":\"\",\"zerolinecolor\":\"white\",\"automargin\":true,\"linecolor\":\"white\"},\"hovermode\":\"closest\",\"paper_bgcolor\":\"white\",\"geo\":{\"showlakes\":true,\"showland\":true,\"landcolor\":\"#E5ECF6\",\"bgcolor\":\"white\",\"subunitcolor\":\"white\",\"lakecolor\":\"white\"},\"colorscale\":{\"sequential\":[[0.0,\"#0d0887\"],[0.1111111111111111,\"#46039f\"],[0.2222222222222222,\"#7201a8\"],[0.3333333333333333,\"#9c179e\"],[0.4444444444444444,\"#bd3786\"],[0.5555555555555556,\"#d8576b\"],[0.6666666666666666,\"#ed7953\"],[0.7777777777777778,\"#fb9f3a\"],[0.8888888888888888,\"#fdca26\"],[1.0,\"#f0f921\"]],\"diverging\":[[0,\"#8e0152\"],[0.1,\"#c51b7d\"],[0.2,\"#de77ae\"],[0.3,\"#f1b6da\"],[0.4,\"#fde0ef\"],[0.5,\"#f7f7f7\"],[0.6,\"#e6f5d0\"],[0.7,\"#b8e186\"],[0.8,\"#7fbc41\"],[0.9,\"#4d9221\"],[1,\"#276419\"]],\"sequentialminus\":[[0.0,\"#0d0887\"],[0.1111111111111111,\"#46039f\"],[0.2222222222222222,\"#7201a8\"],[0.3333333333333333,\"#9c179e\"],[0.4444444444444444,\"#bd3786\"],[0.5555555555555556,\"#d8576b\"],[0.6666666666666666,\"#ed7953\"],[0.7777777777777778,\"#fb9f3a\"],[0.8888888888888888,\"#fdca26\"],[1.0,\"#f0f921\"]]},\"yaxis\":{\"gridcolor\":\"white\",\"zerolinewidth\":2,\"title\":{\"standoff\":15},\"ticks\":\"\",\"zerolinecolor\":\"white\",\"automargin\":true,\"linecolor\":\"white\"},\"shapedefaults\":{\"line\":{\"color\":\"#2a3f5f\"}},\"hoverlabel\":{\"align\":\"left\"},\"mapbox\":{\"style\":\"light\"},\"polar\":{\"angularaxis\":{\"gridcolor\":\"white\",\"ticks\":\"\",\"linecolor\":\"white\"},\"bgcolor\":\"#E5ECF6\",\"radialaxis\":{\"gridcolor\":\"white\",\"ticks\":\"\",\"linecolor\":\"white\"}},\"autotypenumbers\":\"strict\",\"font\":{\"color\":\"#2a3f5f\"},\"ternary\":{\"baxis\":{\"gridcolor\":\"white\",\"ticks\":\"\",\"linecolor\":\"white\"},\"bgcolor\":\"#E5ECF6\",\"caxis\":{\"gridcolor\":\"white\",\"ticks\":\"\",\"linecolor\":\"white\"},\"aaxis\":{\"gridcolor\":\"white\",\"ticks\":\"\",\"linecolor\":\"white\"}},\"annotationdefaults\":{\"arrowhead\":0,\"arrowwidth\":1,\"arrowcolor\":\"#2a3f5f\"},\"plot_bgcolor\":\"#E5ECF6\",\"title\":{\"x\":0.05},\"scene\":{\"xaxis\":{\"gridcolor\":\"white\",\"gridwidth\":2,\"backgroundcolor\":\"#E5ECF6\",\"ticks\":\"\",\"showbackground\":true,\"zerolinecolor\":\"white\",\"linecolor\":\"white\"},\"zaxis\":{\"gridcolor\":\"white\",\"gridwidth\":2,\"backgroundcolor\":\"#E5ECF6\",\"ticks\":\"\",\"showbackground\":true,\"zerolinecolor\":\"white\",\"linecolor\":\"white\"},\"yaxis\":{\"gridcolor\":\"white\",\"gridwidth\":2,\"backgroundcolor\":\"#E5ECF6\",\"ticks\":\"\",\"showbackground\":true,\"zerolinecolor\":\"white\",\"linecolor\":\"white\"}},\"colorway\":[\"#636efa\",\"#EF553B\",\"#00cc96\",\"#ab63fa\",\"#FFA15A\",\"#19d3f3\",\"#FF6692\",\"#B6E880\",\"#FF97FF\",\"#FECB52\"]},\"data\":{\"barpolar\":[{\"type\":\"barpolar\",\"marker\":{\"line\":{\"color\":\"#E5ECF6\",\"width\":0.5}}}],\"carpet\":[{\"aaxis\":{\"gridcolor\":\"white\",\"endlinecolor\":\"#2a3f5f\",\"minorgridcolor\":\"white\",\"startlinecolor\":\"#2a3f5f\",\"linecolor\":\"white\"},\"type\":\"carpet\",\"baxis\":{\"gridcolor\":\"white\",\"endlinecolor\":\"#2a3f5f\",\"minorgridcolor\":\"white\",\"startlinecolor\":\"#2a3f5f\",\"linecolor\":\"white\"}}],\"scatterpolar\":[{\"type\":\"scatterpolar\",\"marker\":{\"colorbar\":{\"ticks\":\"\",\"outlinewidth\":0}}}],\"parcoords\":[{\"line\":{\"colorbar\":{\"ticks\":\"\",\"outlinewidth\":0}},\"type\":\"parcoords\"}],\"scatter\":[{\"type\":\"scatter\",\"marker\":{\"colorbar\":{\"ticks\":\"\",\"outlinewidth\":0}}}],\"histogram2dcontour\":[{\"colorbar\":{\"ticks\":\"\",\"outlinewidth\":0},\"type\":\"histogram2dcontour\",\"colorscale\":[[0.0,\"#0d0887\"],[0.1111111111111111,\"#46039f\"],[0.2222222222222222,\"#7201a8\"],[0.3333333333333333,\"#9c179e\"],[0.4444444444444444,\"#bd3786\"],[0.5555555555555556,\"#d8576b\"],[0.6666666666666666,\"#ed7953\"],[0.7777777777777778,\"#fb9f3a\"],[0.8888888888888888,\"#fdca26\"],[1.0,\"#f0f921\"]]}],\"contour\":[{\"colorbar\":{\"ticks\":\"\",\"outlinewidth\":0},\"type\":\"contour\",\"colorscale\":[[0.0,\"#0d0887\"],[0.1111111111111111,\"#46039f\"],[0.2222222222222222,\"#7201a8\"],[0.3333333333333333,\"#9c179e\"],[0.4444444444444444,\"#bd3786\"],[0.5555555555555556,\"#d8576b\"],[0.6666666666666666,\"#ed7953\"],[0.7777777777777778,\"#fb9f3a\"],[0.8888888888888888,\"#fdca26\"],[1.0,\"#f0f921\"]]}],\"scattercarpet\":[{\"type\":\"scattercarpet\",\"marker\":{\"colorbar\":{\"ticks\":\"\",\"outlinewidth\":0}}}],\"mesh3d\":[{\"colorbar\":{\"ticks\":\"\",\"outlinewidth\":0},\"type\":\"mesh3d\"}],\"surface\":[{\"colorbar\":{\"ticks\":\"\",\"outlinewidth\":0},\"type\":\"surface\",\"colorscale\":[[0.0,\"#0d0887\"],[0.1111111111111111,\"#46039f\"],[0.2222222222222222,\"#7201a8\"],[0.3333333333333333,\"#9c179e\"],[0.4444444444444444,\"#bd3786\"],[0.5555555555555556,\"#d8576b\"],[0.6666666666666666,\"#ed7953\"],[0.7777777777777778,\"#fb9f3a\"],[0.8888888888888888,\"#fdca26\"],[1.0,\"#f0f921\"]]}],\"scattermapbox\":[{\"type\":\"scattermapbox\",\"marker\":{\"colorbar\":{\"ticks\":\"\",\"outlinewidth\":0}}}],\"scattergeo\":[{\"type\":\"scattergeo\",\"marker\":{\"colorbar\":{\"ticks\":\"\",\"outlinewidth\":0}}}],\"histogram\":[{\"type\":\"histogram\",\"marker\":{\"colorbar\":{\"ticks\":\"\",\"outlinewidth\":0}}}],\"pie\":[{\"type\":\"pie\",\"automargin\":true}],\"choropleth\":[{\"colorbar\":{\"ticks\":\"\",\"outlinewidth\":0},\"type\":\"choropleth\"}],\"heatmapgl\":[{\"colorbar\":{\"ticks\":\"\",\"outlinewidth\":0},\"type\":\"heatmapgl\",\"colorscale\":[[0.0,\"#0d0887\"],[0.1111111111111111,\"#46039f\"],[0.2222222222222222,\"#7201a8\"],[0.3333333333333333,\"#9c179e\"],[0.4444444444444444,\"#bd3786\"],[0.5555555555555556,\"#d8576b\"],[0.6666666666666666,\"#ed7953\"],[0.7777777777777778,\"#fb9f3a\"],[0.8888888888888888,\"#fdca26\"],[1.0,\"#f0f921\"]]}],\"bar\":[{\"type\":\"bar\",\"error_y\":{\"color\":\"#2a3f5f\"},\"error_x\":{\"color\":\"#2a3f5f\"},\"marker\":{\"line\":{\"color\":\"#E5ECF6\",\"width\":0.5}}}],\"heatmap\":[{\"colorbar\":{\"ticks\":\"\",\"outlinewidth\":0},\"type\":\"heatmap\",\"colorscale\":[[0.0,\"#0d0887\"],[0.1111111111111111,\"#46039f\"],[0.2222222222222222,\"#7201a8\"],[0.3333333333333333,\"#9c179e\"],[0.4444444444444444,\"#bd3786\"],[0.5555555555555556,\"#d8576b\"],[0.6666666666666666,\"#ed7953\"],[0.7777777777777778,\"#fb9f3a\"],[0.8888888888888888,\"#fdca26\"],[1.0,\"#f0f921\"]]}],\"contourcarpet\":[{\"colorbar\":{\"ticks\":\"\",\"outlinewidth\":0},\"type\":\"contourcarpet\"}],\"table\":[{\"type\":\"table\",\"header\":{\"line\":{\"color\":\"white\"},\"fill\":{\"color\":\"#C8D4E3\"}},\"cells\":{\"line\":{\"color\":\"white\"},\"fill\":{\"color\":\"#EBF0F8\"}}}],\"scatter3d\":[{\"line\":{\"colorbar\":{\"ticks\":\"\",\"outlinewidth\":0}},\"type\":\"scatter3d\",\"marker\":{\"colorbar\":{\"ticks\":\"\",\"outlinewidth\":0}}}],\"scattergl\":[{\"type\":\"scattergl\",\"marker\":{\"colorbar\":{\"ticks\":\"\",\"outlinewidth\":0}}}],\"histogram2d\":[{\"colorbar\":{\"ticks\":\"\",\"outlinewidth\":0},\"type\":\"histogram2d\",\"colorscale\":[[0.0,\"#0d0887\"],[0.1111111111111111,\"#46039f\"],[0.2222222222222222,\"#7201a8\"],[0.3333333333333333,\"#9c179e\"],[0.4444444444444444,\"#bd3786\"],[0.5555555555555556,\"#d8576b\"],[0.6666666666666666,\"#ed7953\"],[0.7777777777777778,\"#fb9f3a\"],[0.8888888888888888,\"#fdca26\"],[1.0,\"#f0f921\"]]}],\"scatterternary\":[{\"type\":\"scatterternary\",\"marker\":{\"colorbar\":{\"ticks\":\"\",\"outlinewidth\":0}}}],\"scatterpolargl\":[{\"type\":\"scatterpolargl\",\"marker\":{\"colorbar\":{\"ticks\":\"\",\"outlinewidth\":0}}}]}},\"height\":675,\"yaxis\":{\"visible\":false},\"shapes\":[{\"line\":{\"color\":\"rgb(210,210,210)\",\"width\":1},\"type\":\"path\",\"layer\":\"below\",\"path\":\"M 0.0 -0.0, C 0.0 -0.0, 1.2246467991473532e-16 1.4, 1.2246467991473532e-16  2.0\"},{\"line\":{\"color\":\"rgb(210,210,210)\",\"width\":1},\"type\":\"path\",\"layer\":\"below\",\"path\":\"M 0.0 -0.0, C 0.0 -0.0, 0.0958897180846165 1.3983899775681923, 0.0958897180846165  1.9976999679545606\"},{\"line\":{\"color\":\"rgb(210,210,210)\",\"width\":1},\"type\":\"path\",\"layer\":\"below\",\"path\":\"M 0.0 -0.0, C 0.0 -0.0, 0.28678746382690196 1.3855320082155984, 0.28678746382690196  1.9793314403079978\"},{\"line\":{\"color\":\"rgb(210,210,210)\",\"width\":1},\"type\":\"path\",\"layer\":\"below\",\"path\":\"M 0.0 -0.0, C 0.0 -0.0, 0.3813564205519613 1.3743136350363623, 0.3813564205519613  1.9633051929090892\"},{\"line\":{\"color\":\"rgb(210,210,210)\",\"width\":1},\"type\":\"path\",\"layer\":\"below\",\"path\":\"M 0.0 -0.0, C 0.0 -0.0, 0.47504824528901746 1.3599342964560583, 0.47504824528901746  1.942763280651512\"},{\"line\":{\"color\":\"rgb(210,210,210)\",\"width\":1},\"type\":\"path\",\"layer\":\"below\",\"path\":\"M 0.0 -0.0, C 0.0 -0.0, 0.5676474438387792 1.3424270654142134, 0.5676474438387792  1.9177529505917335\"},{\"line\":{\"color\":\"rgb(210,210,210)\",\"width\":1},\"type\":\"path\",\"layer\":\"below\",\"path\":\"M 0.0 -0.0, C 0.0 -0.0, 0.7487190408188883 1.2981970963526568, 0.7487190408188883  1.8545672805037956\"},{\"line\":{\"color\":\"rgb(210,210,210)\",\"width\":1},\"type\":\"path\",\"layer\":\"below\",\"path\":\"M 0.0 -0.0, C 0.0 -0.0, 0.9015648037515809 1.2496874182257829, 0.9015648037515809  1.7852677403225472\"},{\"line\":{\"color\":\"rgb(210,210,210)\",\"width\":1},\"type\":\"path\",\"layer\":\"below\",\"path\":\"M 0.0 -0.0, C 0.0 -0.0, 1.0480625917608257 1.192378611783302, 1.0480625917608257  1.7033980168332887\"},{\"line\":{\"color\":\"rgb(210,210,210)\",\"width\":1},\"type\":\"path\",\"layer\":\"below\",\"path\":\"M 0.0 -0.0, C 0.0 -0.0, 1.187180904636374 1.1266741919635475, 1.187180904636374  1.6095345599479252\"},{\"line\":{\"color\":\"rgb(210,210,210)\",\"width\":1},\"type\":\"path\",\"layer\":\"below\",\"path\":\"M 0.0 -0.0, C 0.0 -0.0, 1.3885498353928958 1.0075938585406707, 1.3885498353928958  1.439419797915244\"},{\"line\":{\"color\":\"rgb(210,210,210)\",\"width\":1},\"type\":\"path\",\"layer\":\"below\",\"path\":\"M 0.0 -0.0, C 0.0 -0.0, 1.7250138543601774 0.7084633576340189, 1.7250138543601774  1.0120905109057414\"},{\"line\":{\"color\":\"rgb(210,210,210)\",\"width\":1},\"type\":\"path\",\"layer\":\"below\",\"path\":\"M 0.0 -0.0, C 0.0 -0.0, 1.9339051828833171 0.3569387403635971, 1.9339051828833171  0.5099124862337101\"},{\"line\":{\"color\":\"rgb(210,210,210)\",\"width\":1},\"type\":\"path\",\"layer\":\"below\",\"path\":\"M 0.0 -0.0, C 0.0 -0.0, 1.9997753486368375 -0.020983134712510995, 1.9997753486368375  -0.029975906732158566\"},{\"line\":{\"color\":\"rgb(210,210,210)\",\"width\":1},\"type\":\"path\",\"layer\":\"below\",\"path\":\"M 0.0 -0.0, C 0.0 -0.0, 1.8883317272903584 -0.46125872455403993, 1.8883317272903584  -0.6589410350771999\"},{\"line\":{\"color\":\"rgb(210,210,210)\",\"width\":1},\"type\":\"path\",\"layer\":\"below\",\"path\":\"M 0.0 -0.0, C 0.0 -0.0, -1.4057094121346396 -0.9958668153079918, -1.4057094121346396  -1.422666879011417\"},{\"line\":{\"color\":\"rgb(210,210,210)\",\"width\":1},\"type\":\"path\",\"layer\":\"below\",\"path\":\"M 0.0 -0.0, C 0.0 -0.0, -1.9509929036329394 -0.3080212299293946, -1.9509929036329394  -0.4400303284705638\"},{\"line\":{\"color\":\"rgb(210,210,210)\",\"width\":1},\"type\":\"path\",\"layer\":\"below\",\"path\":\"M 0.0 -0.0, C 0.0 -0.0, -1.8454564237972781 0.5396317152040145, -1.8454564237972781  0.7709024502914493\"},{\"line\":{\"color\":\"rgb(210,210,210)\",\"width\":1},\"type\":\"path\",\"layer\":\"below\",\"path\":\"M 0.0 -0.0, C 0.0 -0.0, -1.550764348284354 0.8840891746222206, -1.550764348284354  1.262984535174601\"},{\"line\":{\"color\":\"rgb(210,210,210)\",\"width\":1},\"type\":\"path\",\"layer\":\"below\",\"path\":\"M 0.0 -0.0, C 0.0 -0.0, -1.048062591760827 1.1923786117833015, -1.048062591760827  1.7033980168332878\"},{\"line\":{\"color\":\"rgb(210,210,210)\",\"width\":1},\"type\":\"path\",\"layer\":\"below\",\"path\":\"M 0.0 -0.0, C 0.0 -0.0, -0.09588971808461763 1.3983899775681923, -0.09588971808461763  1.9976999679545606\"},{\"line\":{\"color\":\"rgb(210,210,210)\",\"width\":1},\"type\":\"path\",\"layer\":\"below\",\"path\":\"M 0.0 -0.0, C 0.0 -0.0, -3.6739403974420594e-16 1.4, -3.6739403974420594e-16  2.0\"},{\"line\":{\"color\":\"rgb(210,210,210)\",\"width\":1},\"type\":\"path\",\"layer\":\"below\",\"path\":\"M 0.28678746382690196 1.9793314403079978, C 0.4301811957403529 2.968997160461997, 0.4301811957403529 2.968997160461997, 0.5735749276538039  3.9586628806159956\"},{\"line\":{\"color\":\"rgb(210,210,210)\",\"width\":1},\"type\":\"path\",\"layer\":\"below\",\"path\":\"M 0.7487190408188883 1.8545672805037956, C 1.1230785612283325 2.7818509207556934, 0.5720346308279419 2.9449577893636336, 0.7627128411039226  3.9266103858181785\"},{\"line\":{\"color\":\"rgb(210,210,210)\",\"width\":1},\"type\":\"path\",\"layer\":\"below\",\"path\":\"M 0.7487190408188883 1.8545672805037956, C 1.1230785612283325 2.7818509207556934, 0.7125723679335262 2.914144920977268, 0.9500964905780349  3.885526561303024\"},{\"line\":{\"color\":\"rgb(210,210,210)\",\"width\":1},\"type\":\"path\",\"layer\":\"below\",\"path\":\"M 0.7487190408188883 1.8545672805037956, C 1.1230785612283325 2.7818509207556934, 0.851471165758169 2.8766294258876006, 1.1352948876775584  3.835505901183467\"},{\"line\":{\"color\":\"rgb(210,210,210)\",\"width\":1},\"type\":\"path\",\"layer\":\"below\",\"path\":\"M 0.7487190408188883 1.8545672805037956, C 1.1230785612283325 2.7818509207556934, 0.9884115526158 2.8324975909355374, 1.3178820701544  3.7766634545807167\"},{\"line\":{\"color\":\"rgb(210,210,210)\",\"width\":1},\"type\":\"path\",\"layer\":\"below\",\"path\":\"M 0.7487190408188883 1.8545672805037956, C 1.1230785612283325 2.7818509207556934, 1.1230785612283325 2.7818509207556934, 1.4974380816377766  3.709134561007591\"},{\"line\":{\"color\":\"rgb(210,210,210)\",\"width\":1},\"type\":\"path\",\"layer\":\"below\",\"path\":\"M 0.7487190408188883 1.8545672805037956, C 1.1230785612283325 2.7818509207556934, 1.2551624531604935 2.724805904312477, 1.6735499375473244  3.6330745390833017\"},{\"line\":{\"color\":\"rgb(210,210,210)\",\"width\":1},\"type\":\"path\",\"layer\":\"below\",\"path\":\"M 0.7487190408188883 1.8545672805037956, C 1.1230785612283325 2.7818509207556934, 1.3843594312281533 2.6614937469717384, 1.8458125749708711  3.5486583292956513\"},{\"line\":{\"color\":\"rgb(210,210,210)\",\"width\":1},\"type\":\"path\",\"layer\":\"below\",\"path\":\"M 0.7487190408188883 1.8545672805037956, C 1.1230785612283325 2.7818509207556934, 1.5103723382415826 2.592060068724229, 2.0138297843221102  3.4560800916323053\"},{\"line\":{\"color\":\"rgb(210,210,210)\",\"width\":1},\"type\":\"path\",\"layer\":\"below\",\"path\":\"M 0.7487190408188883 1.8545672805037956, C 1.1230785612283325 2.7818509207556934, 1.6329113404765112 2.5166645692549503, 2.1772151206353483  3.3555527590066\"},{\"line\":{\"color\":\"rgb(210,210,210)\",\"width\":1},\"type\":\"path\",\"layer\":\"below\",\"path\":\"M 1.3885498353928958 1.439419797915244, C 2.082824753089344 2.159129696872866, 1.7516945943009825 2.435480660628764, 2.3355927924013096  3.2473075475050175\"},{\"line\":{\"color\":\"rgb(210,210,210)\",\"width\":1},\"type\":\"path\",\"layer\":\"below\",\"path\":\"M 1.3885498353928958 1.439419797915244, C 2.082824753089344 2.159129696872866, 1.9769103022801424 2.2565074023230314, 2.63588040304019  3.0086765364307086\"},{\"line\":{\"color\":\"rgb(210,210,210)\",\"width\":1},\"type\":\"path\",\"layer\":\"below\",\"path\":\"M 1.3885498353928958 1.439419797915244, C 2.082824753089344 2.159129696872866, 2.082824753089344 2.159129696872866, 2.7770996707857916  2.878839595830488\"},{\"line\":{\"color\":\"rgb(210,210,210)\",\"width\":1},\"type\":\"path\",\"layer\":\"below\",\"path\":\"M 1.3885498353928958 1.439419797915244, C 2.082824753089344 2.159129696872866, 2.1839486402214052 2.0567859239296338, 2.9119315202952065  2.7423812319061778\"},{\"line\":{\"color\":\"rgb(210,210,210)\",\"width\":1},\"type\":\"path\",\"layer\":\"below\",\"path\":\"M 1.3885498353928958 1.439419797915244, C 2.082824753089344 2.159129696872866, 2.370905924140498 1.8381526320943782, 3.1612078988539976  2.4508701761258376\"},{\"line\":{\"color\":\"rgb(210,210,210)\",\"width\":1},\"type\":\"path\",\"layer\":\"below\",\"path\":\"M 1.8883317272903584 -0.6589410350771999, C 2.8324975909355374 -0.9884115526157999, 2.4563093131833886 1.7223659767797757, 3.275079084244518  2.296487969039701\"},{\"line\":{\"color\":\"rgb(210,210,210)\",\"width\":1},\"type\":\"path\",\"layer\":\"below\",\"path\":\"M 1.8883317272903584 -0.6589410350771999, C 2.8324975909355374 -0.9884115526157999, 2.536063112092446 1.602617824524605, 3.381417482789928  2.1368237660328067\"},{\"line\":{\"color\":\"rgb(210,210,210)\",\"width\":1},\"type\":\"path\",\"layer\":\"below\",\"path\":\"M 1.8883317272903584 -0.6589410350771999, C 2.8324975909355374 -0.9884115526157999, 2.609983884574434 1.4791835999164364, 3.479978512765912  1.972244799888582\"},{\"line\":{\"color\":\"rgb(210,210,210)\",\"width\":1},\"type\":\"path\",\"layer\":\"below\",\"path\":\"M 1.8883317272903584 -0.6589410350771999, C 2.8324975909355374 -0.9884115526157999, 2.6779016104838207 1.352347205627371, 3.5705354806450944  1.8031296075031615\"},{\"line\":{\"color\":\"rgb(210,210,210)\",\"width\":1},\"type\":\"path\",\"layer\":\"below\",\"path\":\"M 1.8883317272903584 -0.6589410350771999, C 2.8324975909355374 -0.9884115526157999, 2.7396600768745616 1.2224003694288028, 3.652880102499415  1.6298671592384035\"},{\"line\":{\"color\":\"rgb(210,210,210)\",\"width\":1},\"type\":\"path\",\"layer\":\"below\",\"path\":\"M 1.8883317272903584 -0.6589410350771999, C 3.7766634545807167 -1.3178820701543998, 3.9354734329043968 0.7155758931823241, 5.903210149356595  1.0733638397734862\"},{\"line\":{\"color\":\"rgb(210,210,210)\",\"width\":1},\"type\":\"path\",\"layer\":\"below\",\"path\":\"M 1.8883317272903584 -0.6589410350771999, C 2.8324975909355374 -0.9884115526157999, 2.84414553849866 0.9543773655311449, 3.7921940513315464  1.2725031540415266\"},{\"line\":{\"color\":\"rgb(210,210,210)\",\"width\":1},\"type\":\"path\",\"layer\":\"below\",\"path\":\"M 1.8883317272903584 -0.6589410350771999, C 2.8324975909355374 -0.9884115526157999, 2.9224795425501515 0.6775790163337818, 3.896639390066869  0.9034386884450425\"},{\"line\":{\"color\":\"rgb(210,210,210)\",\"width\":1},\"type\":\"path\",\"layer\":\"below\",\"path\":\"M 1.8883317272903584 -0.6589410350771999, C 2.8324975909355374 -0.9884115526157999, 2.8441455384986596 -0.9543773655311454, 3.792194051331546  -1.2725031540415273\"},{\"line\":{\"color\":\"rgb(210,210,210)\",\"width\":1},\"type\":\"path\",\"layer\":\"below\",\"path\":\"M 1.8883317272903584 -0.6589410350771999, C 2.8324975909355374 -0.9884115526157999, 2.7951172372948796 -1.089641973208191, 3.7268229830598396  -1.452855964277588\"},{\"line\":{\"color\":\"rgb(210,210,210)\",\"width\":1},\"type\":\"path\",\"layer\":\"below\",\"path\":\"M 1.8883317272903584 -0.6589410350771999, C 2.8324975909355374 -0.9884115526157999, 2.739660076874561 -1.2224003694288035, 3.6528801024994144  -1.6298671592384044\"},{\"line\":{\"color\":\"rgb(210,210,210)\",\"width\":1},\"type\":\"path\",\"layer\":\"below\",\"path\":\"M 1.8883317272903584 -0.6589410350771999, C 2.8324975909355374 -0.9884115526157999, 2.6779016104838207 -1.352347205627371, 3.5705354806450944  -1.8031296075031615\"},{\"line\":{\"color\":\"rgb(210,210,210)\",\"width\":1},\"type\":\"path\",\"layer\":\"below\",\"path\":\"M 1.8883317272903584 -0.6589410350771999, C 2.8324975909355374 -0.9884115526157999, 2.609983884574434 -1.4791835999164364, 3.479978512765912  -1.972244799888582\"},{\"line\":{\"color\":\"rgb(210,210,210)\",\"width\":1},\"type\":\"path\",\"layer\":\"below\",\"path\":\"M 1.8883317272903584 -0.6589410350771999, C 2.8324975909355374 -0.9884115526157999, 2.5360631120924455 -1.6026178245246057, 3.3814174827899275  -2.1368237660328075\"},{\"line\":{\"color\":\"rgb(210,210,210)\",\"width\":1},\"type\":\"path\",\"layer\":\"below\",\"path\":\"M 1.8883317272903584 -0.6589410350771999, C 2.8324975909355374 -0.9884115526157999, 2.4563093131833886 -1.7223659767797757, 3.275079084244518  -2.296487969039701\"},{\"line\":{\"color\":\"rgb(210,210,210)\",\"width\":1},\"type\":\"path\",\"layer\":\"below\",\"path\":\"M 1.8883317272903584 -0.6589410350771999, C 2.8324975909355374 -0.9884115526157999, 2.370905924140499 -1.8381526320943773, 3.1612078988539984  -2.4508701761258362\"},{\"line\":{\"color\":\"rgb(210,210,210)\",\"width\":1},\"type\":\"path\",\"layer\":\"below\",\"path\":\"M 1.8883317272903584 -0.6589410350771999, C 2.8324975909355374 -0.9884115526157999, 2.280049375495363 -1.949711477450755, 3.040065833993817  -2.599615303267673\"},{\"line\":{\"color\":\"rgb(210,210,210)\",\"width\":1},\"type\":\"path\",\"layer\":\"below\",\"path\":\"M 1.8883317272903584 -0.6589410350771999, C 2.8324975909355374 -0.9884115526157999, 2.1839486402214052 -2.0567859239296333, 2.911931520295207  -2.7423812319061778\"},{\"line\":{\"color\":\"rgb(210,210,210)\",\"width\":1},\"type\":\"path\",\"layer\":\"below\",\"path\":\"M 1.8883317272903584 -0.6589410350771999, C 2.8324975909355374 -0.9884115526157999, 2.082824753089343 -2.159129696872867, 2.7770996707857907  -2.878839595830489\"},{\"line\":{\"color\":\"rgb(210,210,210)\",\"width\":1},\"type\":\"path\",\"layer\":\"below\",\"path\":\"M 1.8883317272903584 -0.6589410350771999, C 2.8324975909355374 -0.9884115526157999, 1.976910302280143 -2.256507402323031, 2.635880403040191  -3.008676536430708\"},{\"line\":{\"color\":\"rgb(210,210,210)\",\"width\":1},\"type\":\"path\",\"layer\":\"below\",\"path\":\"M 1.8883317272903584 -0.6589410350771999, C 2.8324975909355374 -0.9884115526157999, 1.8664488944247386 -2.3486950684370824, 2.4885985258996515  -3.1315934245827766\"},{\"line\":{\"color\":\"rgb(210,210,210)\",\"width\":1},\"type\":\"path\",\"layer\":\"below\",\"path\":\"M 1.8883317272903584 -0.6589410350771999, C 2.8324975909355374 -0.9884115526157999, 1.7516945943009825 -2.435480660628764, 2.3355927924013096  -3.2473075475050175\"},{\"line\":{\"color\":\"rgb(210,210,210)\",\"width\":1},\"type\":\"path\",\"layer\":\"below\",\"path\":\"M 1.8883317272903584 -0.6589410350771999, C 2.8324975909355374 -0.9884115526157999, 1.6329113404765112 -2.5166645692549503, 2.1772151206353483  -3.3555527590066\"},{\"line\":{\"color\":\"rgb(210,210,210)\",\"width\":1},\"type\":\"path\",\"layer\":\"below\",\"path\":\"M 1.8883317272903584 -0.6589410350771999, C 2.8324975909355374 -0.9884115526157999, 1.5103723382415837 -2.592060068724228, 2.0138297843221116  -3.4560800916323045\"},{\"line\":{\"color\":\"rgb(210,210,210)\",\"width\":1},\"type\":\"path\",\"layer\":\"below\",\"path\":\"M 1.8883317272903584 -0.6589410350771999, C 2.8324975909355374 -0.9884115526157999, 1.3843594312281533 -2.6614937469717384, 1.8458125749708711  -3.5486583292956513\"},{\"line\":{\"color\":\"rgb(210,210,210)\",\"width\":1},\"type\":\"path\",\"layer\":\"below\",\"path\":\"M 1.8883317272903584 -0.6589410350771999, C 2.8324975909355374 -0.9884115526157999, 1.2551624531604935 -2.724805904312477, 1.6735499375473244  -3.6330745390833017\"},{\"line\":{\"color\":\"rgb(210,210,210)\",\"width\":1},\"type\":\"path\",\"layer\":\"below\",\"path\":\"M 1.8883317272903584 -0.6589410350771999, C 2.8324975909355374 -0.9884115526157999, 1.123078561228332 -2.781850920755694, 1.497438081637776  -3.709134561007591\"},{\"line\":{\"color\":\"rgb(210,210,210)\",\"width\":1},\"type\":\"path\",\"layer\":\"below\",\"path\":\"M 1.8883317272903584 -0.6589410350771999, C 2.8324975909355374 -0.9884115526157999, 0.9884115526157994 -2.832497590935538, 1.3178820701543992  -3.776663454580717\"},{\"line\":{\"color\":\"rgb(210,210,210)\",\"width\":1},\"type\":\"path\",\"layer\":\"below\",\"path\":\"M 1.8883317272903584 -0.6589410350771999, C 2.8324975909355374 -0.9884115526157999, 0.8514711657581695 -2.8766294258876, 1.1352948876775593  -3.835505901183467\"},{\"line\":{\"color\":\"rgb(210,210,210)\",\"width\":1},\"type\":\"path\",\"layer\":\"below\",\"path\":\"M -1.4057094121346396 -1.422666879011417, C -2.1085641182019597 -2.1340003185171255, 0.7125723679335255 -2.914144920977268, 0.950096490578034  -3.885526561303024\"},{\"line\":{\"color\":\"rgb(210,210,210)\",\"width\":1},\"type\":\"path\",\"layer\":\"below\",\"path\":\"M -1.4057094121346396 -1.422666879011417, C -2.1085641182019597 -2.1340003185171255, 0.5720346308279426 -2.9449577893636336, 0.7627128411039235  -3.926610385818178\"},{\"line\":{\"color\":\"rgb(210,210,210)\",\"width\":1},\"type\":\"path\",\"layer\":\"below\",\"path\":\"M -1.4057094121346396 -1.422666879011417, C -2.1085641182019597 -2.1340003185171255, 0.430181195740353 -2.968997160461997, 0.5735749276538039  -3.9586628806159956\"},{\"line\":{\"color\":\"rgb(210,210,210)\",\"width\":1},\"type\":\"path\",\"layer\":\"below\",\"path\":\"M -1.4057094121346396 -1.422666879011417, C -2.1085641182019597 -2.1340003185171255, 0.28733833011721516 -2.986207742948479, 0.38311777348962023  -3.9816103239313057\"},{\"line\":{\"color\":\"rgb(210,210,210)\",\"width\":1},\"type\":\"path\",\"layer\":\"below\",\"path\":\"M -1.4057094121346396 -1.422666879011417, C -2.1085641182019597 -2.1340003185171255, 0.14383457712692477 -2.9965499519318413, 0.191779436169233  -3.9953999359091212\"},{\"line\":{\"color\":\"rgb(210,210,210)\",\"width\":1},\"type\":\"path\",\"layer\":\"below\",\"path\":\"M -1.4057094121346396 -1.422666879011417, C -2.1085641182019597 -2.1340003185171255, 1.8369701987210297e-16 -3.0, 2.4492935982947064e-16  -4.0\"},{\"line\":{\"color\":\"rgb(210,210,210)\",\"width\":1},\"type\":\"path\",\"layer\":\"below\",\"path\":\"M -1.4057094121346396 -1.422666879011417, C -2.1085641182019597 -2.1340003185171255, -0.28733833011721477 -2.986207742948479, -0.38311777348961973  -3.9816103239313057\"},{\"line\":{\"color\":\"rgb(210,210,210)\",\"width\":1},\"type\":\"path\",\"layer\":\"below\",\"path\":\"M -1.4057094121346396 -1.422666879011417, C -2.1085641182019597 -2.1340003185171255, -0.43018119574035263 -2.968997160461997, -0.5735749276538035  -3.958662880615996\"},{\"line\":{\"color\":\"rgb(210,210,210)\",\"width\":1},\"type\":\"path\",\"layer\":\"below\",\"path\":\"M -1.4057094121346396 -1.422666879011417, C -2.1085641182019597 -2.1340003185171255, -0.5720346308279423 -2.944957789363634, -0.7627128411039229  -3.926610385818178\"},{\"line\":{\"color\":\"rgb(210,210,210)\",\"width\":1},\"type\":\"path\",\"layer\":\"below\",\"path\":\"M -1.4057094121346396 -1.422666879011417, C -2.1085641182019597 -2.1340003185171255, -0.7125723679335253 -2.9141449209772685, -0.9500964905780336  -3.885526561303024\"},{\"line\":{\"color\":\"rgb(210,210,210)\",\"width\":1},\"type\":\"path\",\"layer\":\"below\",\"path\":\"M -1.4057094121346396 -1.422666879011417, C -2.1085641182019597 -2.1340003185171255, -0.988411552615799 -2.832497590935538, -1.3178820701543987  -3.776663454580717\"},{\"line\":{\"color\":\"rgb(210,210,210)\",\"width\":1},\"type\":\"path\",\"layer\":\"below\",\"path\":\"M -1.4057094121346396 -1.422666879011417, C -2.1085641182019597 -2.1340003185171255, -1.123078561228333 -2.7818509207556934, -1.497438081637777  -3.7091345610075908\"},{\"line\":{\"color\":\"rgb(210,210,210)\",\"width\":1},\"type\":\"path\",\"layer\":\"below\",\"path\":\"M -1.4057094121346396 -1.422666879011417, C -2.1085641182019597 -2.1340003185171255, -1.255162453160493 -2.7248059043124764, -1.673549937547324  -3.633074539083302\"},{\"line\":{\"color\":\"rgb(210,210,210)\",\"width\":1},\"type\":\"path\",\"layer\":\"below\",\"path\":\"M -1.4057094121346396 -1.422666879011417, C -2.1085641182019597 -2.1340003185171255, -1.5103723382415823 -2.592060068724229, -2.01382978432211  -3.4560800916323053\"},{\"line\":{\"color\":\"rgb(210,210,210)\",\"width\":1},\"type\":\"path\",\"layer\":\"below\",\"path\":\"M -1.4057094121346396 -1.422666879011417, C -2.1085641182019597 -2.1340003185171255, -2.2326409933872045 -2.0038248912135503, -2.976854657849606  -2.6717665216180673\"},{\"line\":{\"color\":\"rgb(210,210,210)\",\"width\":1},\"type\":\"path\",\"layer\":\"below\",\"path\":\"M -1.4057094121346396 -1.422666879011417, C -2.1085641182019597 -2.1340003185171255, -2.866213042383728 -0.8859022495001427, -3.821617389844971  -1.1812029993335236\"},{\"line\":{\"color\":\"rgb(210,210,210)\",\"width\":1},\"type\":\"path\",\"layer\":\"below\",\"path\":\"M -1.4057094121346396 -1.422666879011417, C -2.1085641182019597 -2.1340003185171255, -2.951605074678298 0.5366819198867435, -3.9354734329043968  0.7155758931823245\"},{\"line\":{\"color\":\"rgb(210,210,210)\",\"width\":1},\"type\":\"path\",\"layer\":\"below\",\"path\":\"M -1.4057094121346396 -1.422666879011417, C -2.1085641182019597 -2.1340003185171255, -2.922479542550152 0.6775790163337809, -3.8966393900668694  0.9034386884450412\"},{\"line\":{\"color\":\"rgb(210,210,210)\",\"width\":1},\"type\":\"path\",\"layer\":\"below\",\"path\":\"M -1.8454564237972781 0.7709024502914493, C -2.7681846356959174 1.1563536754371742, -2.8662130423837286 0.8859022495001418, -3.8216173898449712  1.1812029993335225\"},{\"line\":{\"color\":\"rgb(210,210,210)\",\"width\":1},\"type\":\"path\",\"layer\":\"below\",\"path\":\"M -1.8454564237972781 0.7709024502914493, C -2.7681846356959174 1.1563536754371742, -2.8204423929829106 1.0223036280209679, -3.7605898573105474  1.363071504027957\"},{\"line\":{\"color\":\"rgb(210,210,210)\",\"width\":1},\"type\":\"path\",\"layer\":\"below\",\"path\":\"M -1.8454564237972781 0.7709024502914493, C -2.7681846356959174 1.156353675437174, -2.7681846356959174 1.156353675437174, -3.6909128475945563  1.5418049005828987\"},{\"line\":{\"color\":\"rgb(210,210,210)\",\"width\":1},\"type\":\"path\",\"layer\":\"below\",\"path\":\"M -1.8454564237972781 0.7709024502914493, C -2.7681846356959174 1.1563536754371742, -2.709559965039131 1.2877440723440134, -3.6127466200521745  1.7169920964586844\"},{\"line\":{\"color\":\"rgb(210,210,210)\",\"width\":1},\"type\":\"path\",\"layer\":\"below\",\"path\":\"M -1.8454564237972781 0.7709024502914493, C -2.7681846356959174 1.1563536754371742, -2.644703219633715 1.416172616618137, -3.52627095951162  1.8882301554908492\"},{\"line\":{\"color\":\"rgb(210,210,210)\",\"width\":1},\"type\":\"path\",\"layer\":\"below\",\"path\":\"M -1.048062591760827 1.7033980168332878, C -1.5720938876412407 2.555097025249932, -2.536063112092445 1.6026178245246063, -3.381417482789927  2.1368237660328084\"},{\"line\":{\"color\":\"rgb(210,210,210)\",\"width\":1},\"type\":\"path\",\"layer\":\"below\",\"path\":\"M -1.048062591760827 1.7033980168332878, C -1.5720938876412407 2.555097025249932, -2.3709059241404993 1.8381526320943768, -3.161207898853999  2.450870176125836\"},{\"line\":{\"color\":\"rgb(210,210,210)\",\"width\":1},\"type\":\"path\",\"layer\":\"below\",\"path\":\"M -1.048062591760827 1.7033980168332878, C -1.5720938876412407 2.555097025249932, -2.280049375495363 1.949711477450755, -3.0400658339938174  2.599615303267673\"},{\"line\":{\"color\":\"rgb(210,210,210)\",\"width\":1},\"type\":\"path\",\"layer\":\"below\",\"path\":\"M -1.048062591760827 1.7033980168332878, C -1.5720938876412407 2.555097025249932, -2.1839486402214057 2.056785923929633, -2.9119315202952074  2.7423812319061773\"},{\"line\":{\"color\":\"rgb(210,210,210)\",\"width\":1},\"type\":\"path\",\"layer\":\"below\",\"path\":\"M -1.048062591760827 1.7033980168332878, C -1.5720938876412407 2.555097025249932, -2.0828247530893433 2.1591296968728666, -2.777099670785791  2.8788395958304887\"},{\"line\":{\"color\":\"rgb(210,210,210)\",\"width\":1},\"type\":\"path\",\"layer\":\"below\",\"path\":\"M -1.048062591760827 1.7033980168332878, C -1.5720938876412407 2.555097025249932, -1.976910302280143 2.256507402323031, -2.635880403040191  3.0086765364307078\"},{\"line\":{\"color\":\"rgb(210,210,210)\",\"width\":1},\"type\":\"path\",\"layer\":\"below\",\"path\":\"M -1.048062591760827 1.7033980168332878, C -1.5720938876412407 2.555097025249932, -1.7516945943009825 2.4354806606287633, -2.33559279240131  3.2473075475050175\"},{\"line\":{\"color\":\"rgb(210,210,210)\",\"width\":1},\"type\":\"path\",\"layer\":\"below\",\"path\":\"M -1.048062591760827 1.7033980168332878, C -1.5720938876412407 2.555097025249932, -1.6329113404765125 2.516664569254949, -2.17721512063535  3.3555527590065988\"},{\"line\":{\"color\":\"rgb(210,210,210)\",\"width\":1},\"type\":\"path\",\"layer\":\"below\",\"path\":\"M -1.048062591760827 1.7033980168332878, C -1.5720938876412407 2.555097025249932, -1.5103723382415852 2.5920600687242272, -2.013829784322114  3.456080091632303\"},{\"line\":{\"color\":\"rgb(210,210,210)\",\"width\":1},\"type\":\"path\",\"layer\":\"below\",\"path\":\"M -1.048062591760827 1.7033980168332878, C -1.5720938876412407 2.555097025249932, -1.2551624531604937 2.7248059043124764, -1.6735499375473248  3.6330745390833017\"},{\"line\":{\"color\":\"rgb(210,210,210)\",\"width\":1},\"type\":\"path\",\"layer\":\"below\",\"path\":\"M -1.048062591760827 1.7033980168332878, C -1.5720938876412407 2.555097025249932, -1.1230785612283334 2.781850920755693, -1.497438081637778  3.7091345610075908\"},{\"line\":{\"color\":\"rgb(210,210,210)\",\"width\":1},\"type\":\"path\",\"layer\":\"below\",\"path\":\"M -1.048062591760827 1.7033980168332878, C -1.5720938876412407 2.555097025249932, -0.9884115526157997 2.8324975909355374, -1.3178820701543996  3.7766634545807167\"},{\"line\":{\"color\":\"rgb(210,210,210)\",\"width\":1},\"type\":\"path\",\"layer\":\"below\",\"path\":\"M -1.048062591760827 1.7033980168332878, C -1.5720938876412407 2.555097025249932, -0.8514711657581697 2.8766294258876, -1.1352948876775597  3.835505901183467\"},{\"line\":{\"color\":\"rgb(210,210,210)\",\"width\":1},\"type\":\"path\",\"layer\":\"below\",\"path\":\"M -1.048062591760827 1.7033980168332878, C -1.5720938876412407 2.555097025249932, -0.712572367933526 2.914144920977268, -0.9500964905780346  3.885526561303024\"},{\"line\":{\"color\":\"rgb(210,210,210)\",\"width\":1},\"type\":\"path\",\"layer\":\"below\",\"path\":\"M -1.048062591760827 1.7033980168332878, C -1.5720938876412407 2.555097025249932, -0.430181195740352 2.968997160461997, -0.5735749276538027  3.958662880615996\"},{\"line\":{\"color\":\"rgb(210,210,210)\",\"width\":1},\"type\":\"path\",\"layer\":\"below\",\"path\":\"M -1.048062591760827 1.7033980168332878, C -1.5720938876412407 2.555097025249932, -0.28733833011721555 2.986207742948479, -0.3831177734896207  3.9816103239313057\"},{\"line\":{\"color\":\"rgb(210,210,210)\",\"width\":1},\"type\":\"path\",\"layer\":\"below\",\"path\":\"M -0.09588971808461763 1.9976999679545606, C -0.14383457712692643 2.996549951931841, -0.14383457712692643 2.996549951931841, -0.19177943616923526  3.9953999359091212\"},{\"line\":{\"color\":\"rgb(210,210,210)\",\"width\":1},\"type\":\"path\",\"layer\":\"below\",\"path\":\"M 0.7627128411039226 3.9266103858181785, C 0.9533910513799032 4.908262982272723, 0.7169686595672551 4.948328600769995, 0.8603623914807059  5.937994320923993\"},{\"line\":{\"color\":\"rgb(210,210,210)\",\"width\":1},\"type\":\"path\",\"layer\":\"below\",\"path\":\"M 0.7627128411039226 3.9266103858181785, C 0.9533910513799032 4.908262982272723, 0.9533910513799032 4.908262982272723, 1.1440692616558839  5.889915578727267\"},{\"line\":{\"color\":\"rgb(210,210,210)\",\"width\":1},\"type\":\"path\",\"layer\":\"below\",\"path\":\"M 0.7627128411039226 3.9266103858181785, C 0.9533910513799032 4.908262982272723, 1.1876206132225435 4.85690820162878, 1.4251447358670524  5.828289841954536\"},{\"line\":{\"color\":\"rgb(210,210,210)\",\"width\":1},\"type\":\"path\",\"layer\":\"below\",\"path\":\"M 2.63588040304019 3.0086765364307086, C 3.2948505038002374 3.760845670538386, 3.2948505038002374 3.7608456705383855, 3.953820604560285  4.513014804646063\"},{\"line\":{\"color\":\"rgb(210,210,210)\",\"width\":1},\"type\":\"path\",\"layer\":\"below\",\"path\":\"M 3.1612078988539976 2.4508701761258376, C 3.951509873567497 3.063587720157297, 3.5566671975285433 3.514273530336599, 4.268000637034252  4.217128236403918\"},{\"line\":{\"color\":\"rgb(210,210,210)\",\"width\":1},\"type\":\"path\",\"layer\":\"below\",\"path\":\"M 3.1612078988539976 2.4508701761258376, C 3.951509873567497 3.063587720157297, 3.8769108707108835 3.1574613379365046, 4.65229304485306  3.7889536055238056\"},{\"line\":{\"color\":\"rgb(210,210,210)\",\"width\":1},\"type\":\"path\",\"layer\":\"below\",\"path\":\"M 3.1612078988539976 2.4508701761258376, C 3.951509873567497 3.063587720157297, 4.023836399869812 2.967952261590934, 4.828603679843775  3.5615427139091214\"},{\"line\":{\"color\":\"rgb(210,210,210)\",\"width\":1},\"type\":\"path\",\"layer\":\"below\",\"path\":\"M 3.1612078988539976 2.4508701761258376, C 3.951509873567497 3.063587720157297, 4.289605953454106 2.5689065308202808, 5.147527144144927  3.082687836984337\"},{\"line\":{\"color\":\"rgb(210,210,210)\",\"width\":1},\"type\":\"path\",\"layer\":\"below\",\"path\":\"M 3.896639390066869 0.9034386884450425, C 4.8707992375835865 1.1292983605563032, 4.8707992375835865 1.1292983605563032, 5.844959085100303  1.3551580326675636\"},{\"line\":{\"color\":\"rgb(210,210,210)\",\"width\":1},\"type\":\"path\",\"layer\":\"below\",\"path\":\"M 3.792194051331546 -1.2725031540415273, C 4.740242564164433 -1.5906289425519091, 4.919341791130496 0.894469866477905, 5.903210149356595  1.0733638397734862\"},{\"line\":{\"color\":\"rgb(210,210,210)\",\"width\":1},\"type\":\"path\",\"layer\":\"below\",\"path\":\"M 3.792194051331546 -1.2725031540415273, C 4.740242564164433 -1.5906289425519091, 4.956569700915336 0.657584063042929, 5.947883641098405  0.789100875651515\"},{\"line\":{\"color\":\"rgb(210,210,210)\",\"width\":1},\"type\":\"path\",\"layer\":\"below\",\"path\":\"M 3.792194051331546 -1.2725031540415273, C 4.740242564164433 -1.5906289425519091, 4.98239734155262 0.4191857951903822, 5.978876809863143  0.5030229542284587\"},{\"line\":{\"color\":\"rgb(210,210,210)\",\"width\":1},\"type\":\"path\",\"layer\":\"below\",\"path\":\"M 3.792194051331546 -1.2725031540415273, C 4.740242564164433 -1.5906289425519091, 4.996765308641218 0.17982338657590538, 5.996118370369462  0.21578806389108646\"},{\"line\":{\"color\":\"rgb(210,210,210)\",\"width\":1},\"type\":\"path\",\"layer\":\"below\",\"path\":\"M 3.792194051331546 -1.2725031540415273, C 4.740242564164433 -1.5906289425519091, 4.999640555396405 -0.05995262159021542, 5.999568666475684  -0.0719431459082585\"},{\"line\":{\"color\":\"rgb(210,210,210)\",\"width\":1},\"type\":\"path\",\"layer\":\"below\",\"path\":\"M 3.792194051331546 -1.2725031540415273, C 4.740242564164433 -1.5906289425519091, 4.9910164686585 -0.2995907368054706, 5.989219762390199  -0.3595088841665647\"},{\"line\":{\"color\":\"rgb(210,210,210)\",\"width\":1},\"type\":\"path\",\"layer\":\"below\",\"path\":\"M 3.792194051331546 -1.2725031540415273, C 4.740242564164433 -1.5906289425519091, 4.970912884103364 -0.5385397837255553, 5.965095460924037  -0.6462477404706664\"},{\"line\":{\"color\":\"rgb(210,210,210)\",\"width\":1},\"type\":\"path\",\"layer\":\"below\",\"path\":\"M 3.792194051331546 -1.2725031540415273, C 4.740242564164433 -1.5906289425519091, 4.939376040619705 -0.7762501718853283, 5.927251248743647  -0.9315002062623942\"},{\"line\":{\"color\":\"rgb(210,210,210)\",\"width\":1},\"type\":\"path\",\"layer\":\"below\",\"path\":\"M 3.792194051331546 -1.2725031540415273, C 4.740242564164433 -1.5906289425519091, 4.896478473958146 -1.0121751597744875, 5.875774168749775  -1.214610191729385\"},{\"line\":{\"color\":\"rgb(210,210,210)\",\"width\":1},\"type\":\"path\",\"layer\":\"below\",\"path\":\"M 3.792194051331546 -1.2725031540415273, C 4.740242564164433 -1.5906289425519091, 4.842318849896679 -1.2457721123605665, 5.810782619876014  -1.49492653483268\"},{\"line\":{\"color\":\"rgb(210,210,210)\",\"width\":1},\"type\":\"path\",\"layer\":\"below\",\"path\":\"M 3.792194051331546 -1.2725031540415273, C 4.740242564164433 -1.5906289425519091, 4.777021737306214 -1.4765037491669024, 5.732426084767457  -1.7718044990002833\"},{\"line\":{\"color\":\"rgb(210,210,210)\",\"width\":1},\"type\":\"path\",\"layer\":\"below\",\"path\":\"M 3.792194051331546 -1.2725031540415273, C 4.740242564164433 -1.5906289425519091, 4.700737321638186 -1.7038393800349436, 5.640884785965822  -2.0446072560419326\"},{\"line\":{\"color\":\"rgb(210,210,210)\",\"width\":1},\"type\":\"path\",\"layer\":\"below\",\"path\":\"M 3.792194051331546 -1.2725031540415273, C 4.740242564164433 -1.5906289425519091, 4.6136410594931965 -1.9272561257286218, 5.536369271391836  -2.312707350874346\"},{\"line\":{\"color\":\"rgb(210,210,210)\",\"width\":1},\"type\":\"path\",\"layer\":\"below\",\"path\":\"M 3.792194051331546 -1.2725031540415273, C 4.740242564164433 -1.5906289425519091, 4.515933275065217 -2.1462401205733586, 5.41911993007826  -2.5754881446880296\"},{\"line\":{\"color\":\"rgb(210,210,210)\",\"width\":1},\"type\":\"path\",\"layer\":\"below\",\"path\":\"M 3.792194051331546 -1.2725031540415273, C 4.740242564164433 -1.5906289425519091, 4.407838699389525 -2.360287694363564, 5.289406439267429  -2.8323452332362766\"},{\"line\":{\"color\":\"rgb(210,210,210)\",\"width\":1},\"type\":\"path\",\"layer\":\"below\",\"path\":\"M 3.792194051331546 -1.2725031540415273, C 4.740242564164433 -1.5906289425519091, 4.289605953454107 -2.5689065308202803, 5.147527144144927  -3.0826878369843356\"},{\"line\":{\"color\":\"rgb(210,210,210)\",\"width\":1},\"type\":\"path\",\"layer\":\"below\",\"path\":\"M 3.792194051331546 -1.2725031540415273, C 4.740242564164433 -1.5906289425519091, 4.161506976363437 -2.7716167999343706, 4.993808371636125  -3.3259401599212444\"},{\"line\":{\"color\":\"rgb(210,210,210)\",\"width\":1},\"type\":\"path\",\"layer\":\"below\",\"path\":\"M 3.792194051331546 -1.2725031540415273, C 4.740242564164433 -1.5906289425519091, 4.023836399869814 -2.9679522615909337, 4.828603679843776  -3.5615427139091205\"},{\"line\":{\"color\":\"rgb(210,210,210)\",\"width\":1},\"type\":\"path\",\"layer\":\"below\",\"path\":\"M 3.792194051331546 -1.2725031540415273, C 4.740242564164433 -1.5906289425519091, 3.8769108707108835 -3.1574613379365046, 4.65229304485306  -3.7889536055238056\"},{\"line\":{\"color\":\"rgb(210,210,210)\",\"width\":1},\"type\":\"path\",\"layer\":\"below\",\"path\":\"M 3.792194051331546 -1.2725031540415273, C 4.740242564164433 -1.5906289425519091, 3.721068322312006 -3.339708152022585, 4.465281986774407  -4.0076497824271025\"},{\"line\":{\"color\":\"rgb(210,210,210)\",\"width\":1},\"type\":\"path\",\"layer\":\"below\",\"path\":\"M 3.792194051331546 -1.2725031540415273, C 4.740242564164433 -1.5906289425519091, 3.5566671975285424 -3.5142735303365993, 4.268000637034251  -4.217128236403919\"},{\"line\":{\"color\":\"rgb(210,210,210)\",\"width\":1},\"type\":\"path\",\"layer\":\"below\",\"path\":\"M 3.792194051331546 -1.2725031540415273, C 4.740242564164433 -1.5906289425519091, 3.3840856242158 -3.680755966914399, 4.06090274905896  -4.41690716029728\"},{\"line\":{\"color\":\"rgb(210,210,210)\",\"width\":1},\"type\":\"path\",\"layer\":\"below\",\"path\":\"M -0.38311777348961973 -3.9816103239313057, C -0.4788972168620247 -4.977012904914132, -0.3594141038899449 -4.987065419856148, -0.4312969246679339  -5.984478503827379\"},{\"line\":{\"color\":\"rgb(210,210,210)\",\"width\":1},\"type\":\"path\",\"layer\":\"below\",\"path\":\"M -0.38311777348961973 -3.9816103239313057, C -0.4788972168620247 -4.977012904914132, -0.5981049205014548 -4.964098156168142, -0.7177259046017457  -5.95691778740177\"},{\"line\":{\"color\":\"rgb(210,210,210)\",\"width\":1},\"type\":\"path\",\"layer\":\"below\",\"path\":\"M -1.3178820701543987 -3.776663454580717, C -1.6473525876929984 -4.7208293182258965, -1.6473525876929986 -4.7208293182258965, -1.976823105231598  -5.664995181871076\"},{\"line\":{\"color\":\"rgb(210,210,210)\",\"width\":1},\"type\":\"path\",\"layer\":\"below\",\"path\":\"M -2.01382978432211 -3.4560800916323053, C -2.517287230402637 -4.320100114540382, -2.2002342374408137 -4.489874085137939, -2.6402810849289766  -5.387848902165526\"},{\"line\":{\"color\":\"rgb(210,210,210)\",\"width\":1},\"type\":\"path\",\"layer\":\"below\",\"path\":\"M -2.01382978432211 -3.4560800916323053, C -2.517287230402637 -4.320100114540382, -2.4129703129436693 -4.379220737625876, -2.895564375532403  -5.255064885151052\"},{\"line\":{\"color\":\"rgb(210,210,210)\",\"width\":1},\"type\":\"path\",\"layer\":\"below\",\"path\":\"M -2.01382978432211 -3.4560800916323053, C -2.517287230402637 -4.320100114540382, -2.620156479402065 -4.258495042083221, -3.144187775282478  -5.1101940504998655\"},{\"line\":{\"color\":\"rgb(210,210,210)\",\"width\":1},\"type\":\"path\",\"layer\":\"below\",\"path\":\"M -2.01382978432211 -3.4560800916323053, C -2.517287230402637 -4.320100114540382, -2.8213162019937656 -4.127974671478433, -3.385579442392519  -4.953569605774119\"},{\"line\":{\"color\":\"rgb(210,210,210)\",\"width\":1},\"type\":\"path\",\"layer\":\"below\",\"path\":\"M -2.976854657849606 -2.6717665216180673, C -3.721068322312007 -3.339708152022584, -3.015986806910569 -3.987959826846479, -3.6191841682926817  -4.785551792215774\"},{\"line\":{\"color\":\"rgb(210,210,210)\",\"width\":1},\"type\":\"path\",\"layer\":\"below\",\"path\":\"M -2.976854657849606 -2.6717665216180673, C -3.721068322312007 -3.339708152022584, -3.203720545522851 -3.8387725468168554, -3.844464654627421  -4.6065270561802265\"},{\"line\":{\"color\":\"rgb(210,210,210)\",\"width\":1},\"type\":\"path\",\"layer\":\"below\",\"path\":\"M -2.976854657849606 -2.6717665216180673, C -3.721068322312007 -3.339708152022584, -3.3840856242157997 -3.6807559669144005, -4.060902749058959  -4.4169071602972805\"},{\"line\":{\"color\":\"rgb(210,210,210)\",\"width\":1},\"type\":\"path\",\"layer\":\"below\",\"path\":\"M -2.976854657849606 -2.6717665216180673, C -3.721068322312007 -3.339708152022584, -3.5566671975285407 -3.514273530336601, -4.268000637034249  -4.217128236403921\"},{\"line\":{\"color\":\"rgb(210,210,210)\",\"width\":1},\"type\":\"path\",\"layer\":\"below\",\"path\":\"M -2.976854657849606 -2.6717665216180673, C -3.721068322312007 -3.339708152022584, -3.721068322312007 -3.339708152022584, -4.465281986774409  -4.007649782427101\"},{\"line\":{\"color\":\"rgb(210,210,210)\",\"width\":1},\"type\":\"path\",\"layer\":\"below\",\"path\":\"M -2.976854657849606 -2.6717665216180673, C -3.721068322312007 -3.339708152022584, -3.876910870710884 -3.1574613379365033, -4.652293044853061  -3.788953605523804\"},{\"line\":{\"color\":\"rgb(210,210,210)\",\"width\":1},\"type\":\"path\",\"layer\":\"below\",\"path\":\"M -2.976854657849606 -2.6717665216180673, C -3.721068322312007 -3.339708152022584, -4.023836399869812 -2.967952261590934, -4.828603679843775  -3.5615427139091214\"},{\"line\":{\"color\":\"rgb(210,210,210)\",\"width\":1},\"type\":\"path\",\"layer\":\"below\",\"path\":\"M -2.976854657849606 -2.6717665216180673, C -3.721068322312007 -3.339708152022584, -4.1615069763634365 -2.7716167999343724, -4.993808371636123  -3.325940159921247\"},{\"line\":{\"color\":\"rgb(210,210,210)\",\"width\":1},\"type\":\"path\",\"layer\":\"below\",\"path\":\"M -2.976854657849606 -2.6717665216180673, C -3.721068322312007 -3.339708152022584, -4.289605953454106 -2.56890653082028, -5.147527144144927  -3.082687836984336\"},{\"line\":{\"color\":\"rgb(210,210,210)\",\"width\":1},\"type\":\"path\",\"layer\":\"below\",\"path\":\"M -3.821617389844971 -1.1812029993335236, C -4.777021737306214 -1.4765037491669044, -4.407838699389523 -2.3602876943635667, -5.289406439267427  -2.8323452332362797\"},{\"line\":{\"color\":\"rgb(210,210,210)\",\"width\":1},\"type\":\"path\",\"layer\":\"below\",\"path\":\"M -3.821617389844971 -1.1812029993335236, C -4.777021737306214 -1.4765037491669044, -4.515933275065218 -2.146240120573357, -5.419119930078261  -2.575488144688028\"},{\"line\":{\"color\":\"rgb(210,210,210)\",\"width\":1},\"type\":\"path\",\"layer\":\"below\",\"path\":\"M -3.821617389844971 -1.1812029993335236, C -4.777021737306214 -1.4765037491669044, -4.700737321638186 -1.7038393800349434, -5.640884785965822  -2.0446072560419317\"},{\"line\":{\"color\":\"rgb(210,210,210)\",\"width\":1},\"type\":\"path\",\"layer\":\"below\",\"path\":\"M -3.821617389844971 -1.1812029993335236, C -4.777021737306214 -1.4765037491669044, -4.842318849896678 -1.2457721123605705, -5.810782619876013  -1.4949265348326846\"},{\"line\":{\"color\":\"rgb(210,210,210)\",\"width\":1},\"type\":\"path\",\"layer\":\"below\",\"path\":\"M -3.821617389844971 -1.1812029993335236, C -4.777021737306214 -1.4765037491669044, -4.970912884103364 -0.538539783725556, -5.965095460924037  -0.6462477404706671\"},{\"line\":{\"color\":\"rgb(210,210,210)\",\"width\":1},\"type\":\"path\",\"layer\":\"below\",\"path\":\"M -3.9354734329043968 0.7155758931823245, C -4.919341791130496 0.8944698664779057, -4.9910164686585 -0.2995907368054723, -5.989219762390199  -0.3595088841665668\"},{\"line\":{\"color\":\"rgb(210,210,210)\",\"width\":1},\"type\":\"path\",\"layer\":\"below\",\"path\":\"M -3.9354734329043968 0.7155758931823245, C -4.919341791130496 0.8944698664779056, -4.999640555396403 -0.05995262159021491, -5.999568666475684  -0.07194314590825789\"},{\"line\":{\"color\":\"rgb(210,210,210)\",\"width\":1},\"type\":\"path\",\"layer\":\"below\",\"path\":\"M -3.9354734329043968 0.7155758931823245, C -4.919341791130496 0.8944698664779057, -4.996765308641218 0.1798233865759081, -5.996118370369462  0.2157880638910897\"},{\"line\":{\"color\":\"rgb(210,210,210)\",\"width\":1},\"type\":\"path\",\"layer\":\"below\",\"path\":\"M -3.9354734329043968 0.7155758931823245, C -4.919341791130496 0.8944698664779057, -4.982397341552619 0.4191857951903827, -5.978876809863143  0.5030229542284592\"},{\"line\":{\"color\":\"rgb(210,210,210)\",\"width\":1},\"type\":\"path\",\"layer\":\"below\",\"path\":\"M -3.9354734329043968 0.7155758931823245, C -4.919341791130496 0.8944698664779057, -4.956569700915337 0.6575840630429263, -5.9478836410984055  0.7891008756515117\"},{\"line\":{\"color\":\"rgb(210,210,210)\",\"width\":1},\"type\":\"path\",\"layer\":\"below\",\"path\":\"M -3.9354734329043968 0.7155758931823245, C -4.919341791130496 0.8944698664779057, -4.919341791130496 0.8944698664779057, -5.903210149356595  1.0733638397734868\"},{\"line\":{\"color\":\"rgb(210,210,210)\",\"width\":1},\"type\":\"path\",\"layer\":\"below\",\"path\":\"M -3.9354734329043968 0.7155758931823245, C -4.919341791130496 0.8944698664779057, -4.8707992375835865 1.1292983605563016, -5.844959085100304  1.3551580326675619\"},{\"line\":{\"color\":\"rgb(210,210,210)\",\"width\":1},\"type\":\"path\",\"layer\":\"below\",\"path\":\"M -3.9354734329043968 0.7155758931823245, C -4.919341791130496 0.8944698664779057, -4.811053689703333 1.36152943221656, -5.7732644276439995  1.633835318659872\"},{\"line\":{\"color\":\"rgb(210,210,210)\",\"width\":1},\"type\":\"path\",\"layer\":\"below\",\"path\":\"M -3.9354734329043968 0.7155758931823245, C -4.919341791130496 0.8944698664779057, -4.740242564164434 1.5906289425519073, -5.68829107699732  1.908754731062289\"},{\"line\":{\"color\":\"rgb(210,210,210)\",\"width\":1},\"type\":\"path\",\"layer\":\"below\",\"path\":\"M -3.9354734329043968 0.7155758931823245, C -4.919341791130496 0.8944698664779057, -4.658528728824798 1.8160699553469868, -5.590234474589758  2.1792839464163842\"},{\"line\":{\"color\":\"rgb(210,210,210)\",\"width\":1},\"type\":\"path\",\"layer\":\"below\",\"path\":\"M -3.9354734329043968 0.7155758931823245, C -4.919341791130496 0.8944698664779057, -4.566100128124268 2.0373339490480036, -5.479320153749123  2.4448007388576047\"},{\"line\":{\"color\":\"rgb(210,210,210)\",\"width\":1},\"type\":\"path\",\"layer\":\"below\",\"path\":\"M -3.161207898853999 2.450870176125836, C -3.9515098735674985 3.0635877201572947, -4.4631693508063695 2.2539120093789493, -5.355803220967643  2.7046944112547395\"},{\"line\":{\"color\":\"rgb(210,210,210)\",\"width\":1},\"type\":\"path\",\"layer\":\"below\",\"path\":\"M -3.161207898853999 2.450870176125836, C -3.9515098735674985 3.0635877201572947, -4.349973140957392 2.465305999860723, -5.21996776914887  2.9583671998328676\"},{\"line\":{\"color\":\"rgb(210,210,210)\",\"width\":1},\"type\":\"path\",\"layer\":\"below\",\"path\":\"M -3.161207898853999 2.450870176125836, C -3.9515098735674985 3.0635877201572947, -4.226771853487409 2.671029707541011, -5.07212622418489  3.2052356490492127\"},{\"line\":{\"color\":\"rgb(210,210,210)\",\"width\":1},\"type\":\"path\",\"layer\":\"below\",\"path\":\"M -3.161207898853999 2.450870176125836, C -3.9515098735674985 3.0635877201572947, -4.093848855305647 2.8706099612996256, -4.912618626366777  3.4447319535595513\"},{\"line\":{\"color\":\"rgb(210,210,210)\",\"width\":1},\"type\":\"path\",\"layer\":\"below\",\"path\":\"M -3.161207898853999 2.450870176125836, C -3.9515098735674985 3.0635877201572947, -3.951509873567499 3.063587720157295, -4.7418118482809986  3.6763052641887537\"},{\"line\":{\"color\":\"rgb(210,210,210)\",\"width\":1},\"type\":\"path\",\"layer\":\"below\",\"path\":\"M -3.161207898853999 2.450870176125836, C -3.9515098735674985 3.0635877201572947, -3.8000822924922715 3.2495191290845913, -4.560098750990726  3.89942295490151\"},{\"line\":{\"color\":\"rgb(210,210,210)\",\"width\":1},\"type\":\"path\",\"layer\":\"below\",\"path\":\"M -3.161207898853999 2.450870176125836, C -3.9515098735674985 3.0635877201572947, -3.6399144003690096 3.4279765398827213, -4.367897280442811  4.113571847859266\"},{\"line\":{\"color\":\"rgb(210,210,210)\",\"width\":1},\"type\":\"path\",\"layer\":\"below\",\"path\":\"M -3.161207898853999 2.450870176125836, C -3.9515098735674985 3.0635877201572947, -3.4713745884822393 3.598549494788111, -4.165649506178687  4.318259393745733\"},{\"line\":{\"color\":\"rgb(210,210,210)\",\"width\":1},\"type\":\"path\",\"layer\":\"below\",\"path\":\"M -3.161207898853999 2.450870176125836, C -3.9515098735674985 3.0635877201572947, -3.2948505038002387 3.760845670538385, -3.953820604560286  4.513014804646062\"},{\"line\":{\"color\":\"rgb(210,210,210)\",\"width\":1},\"type\":\"path\",\"layer\":\"below\",\"path\":\"M -2.33559279240131 3.2473075475050175, C -2.9194909905016377 4.059134434381272, -2.9194909905016373 4.059134434381272, -3.503389188601965  4.870961321257527\"},{\"line\":{\"color\":\"rgb(210,210,210)\",\"width\":1},\"type\":\"path\",\"layer\":\"below\",\"path\":\"M -1.6735499375473248 3.6330745390833017, C -2.091937421934156 4.541343173854127, -2.091937421934156 4.541343173854127, -2.5103249063209874  5.449611808624953\"},{\"line\":{\"color\":\"rgb(210,210,210)\",\"width\":1},\"type\":\"path\",\"layer\":\"below\",\"path\":\"M -0.5735749276538027 3.958662880615996, C -0.7169686595672533 4.948328600769995, -0.7169686595672533 4.948328600769995, -0.860362391480704  5.937994320923994\"},{\"line\":{\"color\":\"rgb(210,210,210)\",\"width\":1},\"type\":\"path\",\"layer\":\"below\",\"path\":\"M 4.65229304485306 3.7889536055238056, C 5.427675218995237 4.420445873111107, 5.320115209489181 4.549326780718427, 6.080131667987636  5.1992306065353455\"},{\"line\":{\"color\":\"rgb(210,210,210)\",\"width\":1},\"type\":\"path\",\"layer\":\"below\",\"path\":\"M 4.65229304485306 3.7889536055238056, C 5.427675218995237 4.420445873111107, 5.5321138229944955 4.289022808220215, 6.322415797707995  4.901740352251675\"},{\"line\":{\"color\":\"rgb(210,210,210)\",\"width\":1},\"type\":\"path\",\"layer\":\"below\",\"path\":\"M 5.147527144144927 3.082687836984337, C 6.005448334835748 3.596469143148393, 6.005448334835749 3.5964691431483935, 6.863369525526569  4.110250449312449\"},{\"line\":{\"color\":\"rgb(210,210,210)\",\"width\":1},\"type\":\"path\",\"layer\":\"below\",\"path\":\"M -1.976823105231598 -5.664995181871076, C -2.306293622770198 -6.609161045516255, -2.306293622770198 -6.609161045516255, -2.6357641403087975  -7.553326909161434\"},{\"line\":{\"color\":\"rgb(210,210,210)\",\"width\":1},\"type\":\"path\",\"layer\":\"below\",\"path\":\"M -5.640884785965822 -2.0446072560419317, C -6.581032250293459 -2.3853751320489205, -6.248437091128916 -3.1554768131305306, -7.14107096129019  -3.606259215006321\"},{\"line\":{\"color\":\"rgb(210,210,210)\",\"width\":1},\"type\":\"path\",\"layer\":\"below\",\"path\":\"M -5.640884785965822 -2.0446072560419317, C -6.581032250293459 -2.3853751320489205, -6.392540179373976 -2.852267528667207, -7.30576020499883  -3.259734318476808\"},{\"line\":{\"color\":\"rgb(210,210,210)\",\"width\":1},\"type\":\"path\",\"layer\":\"below\",\"path\":\"M -5.640884785965822 -2.0446072560419317, C -6.581032250293459 -2.3853751320489205, -6.521940220354717 -2.542497937485783, -7.4536459661196774  -2.9057119285551805\"},{\"line\":{\"color\":\"rgb(210,210,210)\",\"width\":1},\"type\":\"path\",\"layer\":\"below\",\"path\":\"M -5.640884785965822 -2.0446072560419317, C -6.581032250293459 -2.3853751320489205, -6.636339589830206 -2.2268805195726724, -7.584388102663093  -2.545006308083054\"},{\"line\":{\"color\":\"rgb(210,210,210)\",\"width\":1},\"type\":\"path\",\"layer\":\"below\",\"path\":\"M -5.640884785965822 -2.0446072560419317, C -6.581032250293459 -2.3853751320489205, -6.735475165584665 -1.9061412051031859, -7.697685903525332  -2.178447091546498\"},{\"line\":{\"color\":\"rgb(210,210,210)\",\"width\":1},\"type\":\"path\",\"layer\":\"below\",\"path\":\"M -5.640884785965822 -2.0446072560419317, C -6.581032250293459 -2.3853751320489205, -6.8191189326170205 -1.5810177047788239, -7.793278780133738  -1.8068773768900843\"},{\"line\":{\"color\":\"rgb(210,210,210)\",\"width\":1},\"type\":\"path\",\"layer\":\"below\",\"path\":\"M -5.965095460924037 -0.6462477404706671, C -6.95927803774471 -0.7539556972157784, -6.887078507582696 -1.2522578130690636, -7.870946865808794  -1.431151786364644\"},{\"line\":{\"color\":\"rgb(210,210,210)\",\"width\":1},\"type\":\"path\",\"layer\":\"below\",\"path\":\"M -5.965095460924037 -0.6462477404706671, C -6.95927803774471 -0.7539556972157784, -6.939197581281473 -0.9206176882600988, -7.930511521464539  -1.0521345008686842\"},{\"line\":{\"color\":\"rgb(210,210,210)\",\"width\":1},\"type\":\"path\",\"layer\":\"below\",\"path\":\"M -5.965095460924037 -0.6462477404706671, C -6.95927803774471 -0.7539556972157784, -6.975356278173667 -0.5868601132665374, -7.9718357464841905  -0.6706972723046142\"},{\"line\":{\"color\":\"rgb(210,210,210)\",\"width\":1},\"type\":\"path\",\"layer\":\"below\",\"path\":\"M -5.965095460924037 -0.6462477404706671, C -6.95927803774471 -0.7539556972157784, -6.995471432097705 -0.25175274120627306, -7.994824493825949  -0.28771741852145494\"}],\"font\":{\"family\":\"Balto\"},\"annotations\":[{\"yanchor\":\"top\",\"xanchor\":\"center\",\"y\":-0.1,\"font\":{\"color\":\"white\",\"family\":\"Balto\",\"size\":14},\"showarrow\":false,\"yref\":\"y\",\"text\":\"Gilbert<br>Strang\",\"xref\":\"x\",\"x\":-0.05}],\"title\":{\"text\":\"Gilbert Strang's Descendants in the Mathematics Genealogy Project\",\"x\":0.5},\"plot_bgcolor\":\"rgb(10,10,10)\",\"margin\":{\"l\":50,\"b\":50,\"r\":50,\"t\":60},\"width\":725},\n",
       "        {\"editable\":false,\"responsive\":true,\"staticPlot\":false,\"scrollZoom\":true},\n",
       "    )\n",
       "}\n",
       "\n",
       "        });\n",
       "    </script>\n",
       "</div>\n",
       "\n",
       "</body>\n",
       "</html>"
      ],
      "text/plain": [
       "data: [\n",
       "  \"scatter with fields hoverinfo, marker, mode, name, text, type, x, and y\"\n",
       "]\n",
       "\n",
       "layout: \"layout with fields annotations, font, height, margin, plot_bgcolor, shapes, showlegend, template, title, width, xaxis, and yaxis\"\n",
       "\n"
      ]
     },
     "execution_count": 3,
     "metadata": {},
     "output_type": "execute_result"
    }
   ],
   "source": [
    "layout = Layout(\n",
    "         title_text=\"Gilbert Strang's Descendants in the Mathematics Genealogy Project\",\n",
    "         title_x=0.5,\n",
    "         width=725, \n",
    "         height=675,\n",
    "         font_family=\"Balto\",\n",
    "         showlegend=false,\n",
    "         xaxis_visible=false,\n",
    "         yaxis_visible=false, \n",
    "         plot_bgcolor=\"rgb(10,10,10)\")\n",
    "\n",
    "layout[\"shapes\"] = Bezier_edges(xc, yc, E)\n",
    "layout[\"annotations\"] = [attr(showarrow=false,\n",
    "                                 text=\"Gilbert<br>Strang\",\n",
    "                                 xref=\"x\",\n",
    "                                 yref=\"y\",\n",
    "                                 x=xc[1]-0.05,\n",
    "                                 y=yc[1]-0.1,           \n",
    "                                 font=attr(family=\"Balto\", size=14, color=\"white\"),\n",
    "                                 xanchor=\"center\",   \n",
    "                                 yanchor=\"top\"\n",
    "                                )];\n",
    "\n",
    "\n",
    "pl = Plot(circ_nodes, layout)"
   ]
  },
  {
   "cell_type": "code",
   "execution_count": null,
   "metadata": {},
   "outputs": [],
   "source": []
  },
  {
   "cell_type": "code",
   "execution_count": null,
   "metadata": {},
   "outputs": [],
   "source": []
  }
 ],
 "metadata": {
  "@webio": {
   "lastCommId": "d617b40095f2476d967d2e794cef06c7",
   "lastKernelId": "32bfeadc-b093-4904-8ff4-36765c41e508"
  },
  "kernelspec": {
   "display_name": "Julia 1.6.1",
   "language": "julia",
   "name": "julia-1.6"
  },
  "language_info": {
   "file_extension": ".jl",
   "mimetype": "application/julia",
   "name": "julia",
   "version": "1.6.1"
  }
 },
 "nbformat": 4,
 "nbformat_minor": 4
}
